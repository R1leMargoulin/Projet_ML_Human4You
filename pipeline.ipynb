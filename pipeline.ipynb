{
 "cells": [
  {
   "cell_type": "code",
   "execution_count": 235,
   "id": "initial_id",
   "metadata": {
    "collapsed": true,
    "ExecuteTime": {
     "end_time": "2024-02-07T16:16:14.146034800Z",
     "start_time": "2024-02-07T16:16:13.300707Z"
    }
   },
   "outputs": [
    {
     "name": "stdout",
     "output_type": "stream",
     "text": [
      "<class 'pandas.core.frame.DataFrame'>\n",
      "RangeIndex: 4410 entries, 0 to 4409\n",
      "Data columns (total 24 columns):\n",
      " #   Column                   Non-Null Count  Dtype  \n",
      "---  ------                   --------------  -----  \n",
      " 0   Age                      4410 non-null   int64  \n",
      " 1   Attrition                4410 non-null   object \n",
      " 2   BusinessTravel           4410 non-null   object \n",
      " 3   Department               4410 non-null   object \n",
      " 4   DistanceFromHome         4410 non-null   int64  \n",
      " 5   Education                4410 non-null   int64  \n",
      " 6   EducationField           4410 non-null   object \n",
      " 7   EmployeeCount            4410 non-null   int64  \n",
      " 8   EmployeeID               4410 non-null   int64  \n",
      " 9   Gender                   4410 non-null   object \n",
      " 10  JobLevel                 4410 non-null   int64  \n",
      " 11  JobRole                  4410 non-null   object \n",
      " 12  MaritalStatus            4410 non-null   object \n",
      " 13  MonthlyIncome            4410 non-null   int64  \n",
      " 14  NumCompaniesWorked       4391 non-null   float64\n",
      " 15  Over18                   4410 non-null   object \n",
      " 16  PercentSalaryHike        4410 non-null   int64  \n",
      " 17  StandardHours            4410 non-null   int64  \n",
      " 18  StockOptionLevel         4410 non-null   int64  \n",
      " 19  TotalWorkingYears        4401 non-null   float64\n",
      " 20  TrainingTimesLastYear    4410 non-null   int64  \n",
      " 21  YearsAtCompany           4410 non-null   int64  \n",
      " 22  YearsSinceLastPromotion  4410 non-null   int64  \n",
      " 23  YearsWithCurrManager     4410 non-null   int64  \n",
      "dtypes: float64(2), int64(14), object(8)\n",
      "memory usage: 827.0+ KB\n"
     ]
    }
   ],
   "source": [
    "import os\n",
    "import pandas as pd\n",
    "import numpy as np\n",
    "import pandas as pd\n",
    "from datetime import datetime\n",
    "from sklearn.base import BaseEstimator, TransformerMixin\n",
    "from sklearn.preprocessing import OneHotEncoder\n",
    "from sklearn.pipeline import Pipeline\n",
    "from sklearn.preprocessing import StandardScaler\n",
    "\n",
    "\n",
    "def load_data(file):\n",
    "    return pd.read_csv(file)\n",
    "\n",
    "path = \"datas/\"\n",
    "general_data = load_data(path +\"general_data.csv\")\n",
    "employee_survey_data = load_data(path +\"employee_survey_data.csv\")\n",
    "manager_survey_data = load_data(path +\"manager_survey_data.csv\")\n",
    "in_time = load_data(path +\"in_time.csv\")\n",
    "out_time = load_data(path +\"out_time.csv\")\n",
    "general_data.info()"
   ]
  },
  {
   "cell_type": "code",
   "outputs": [],
   "source": [
    "def to_datetime(strdate):\n",
    "    if type(strdate) == str:\n",
    "        return datetime.strptime(strdate, \"%Y-%m-%d %H:%M:%S\").timestamp()\n",
    "    else:\n",
    "        return 0\n",
    "\n",
    "def get_working_time(in_time_data, out_time_data):\n",
    "    out_time_df = (\n",
    "        out_time_data\n",
    "        .iloc[:,1:]\n",
    "        .applymap(lambda x: to_datetime(x))\n",
    "    )\n",
    "    in_time_df = (\n",
    "        in_time_data\n",
    "        .iloc[:,1:]\n",
    "        .applymap(lambda x: to_datetime(x))\n",
    "    )\n",
    "    hours_per_day = out_time_df - in_time_df\n",
    "    in_time_data[\"MeanWorkingHours\"] = hours_per_day.mean(axis = 1)/3600\n",
    "    return in_time_data[[\"EmployeeID\", \"MeanWorkingHours\"]]"
   ],
   "metadata": {
    "collapsed": false,
    "ExecuteTime": {
     "end_time": "2024-02-07T14:06:45.172234100Z",
     "start_time": "2024-02-07T14:06:45.169208700Z"
    }
   },
   "id": "271d49d94327d26b",
   "execution_count": 161
  },
  {
   "cell_type": "code",
   "outputs": [],
   "source": [
    "class MergeDataFrame(BaseEstimator, TransformerMixin):\n",
    "    def __init__(self, employee_survey_data, manager_survey_data, in_time, out_time):\n",
    "        self.employee_survey_data = employee_survey_data\n",
    "        self.manager_survey_data = manager_survey_data\n",
    "        self.in_time= in_time\n",
    "        self.out_time = out_time\n",
    "    def fit(self, X, y=None):\n",
    "        return self\n",
    "\n",
    "    def transform(self, X, y=None):\n",
    "        X = X.join(self.employee_survey_data.set_index(\"EmployeeID\"), on=\"EmployeeID\")\n",
    "        X = X.join(self.manager_survey_data.set_index(\"EmployeeID\"), on=\"EmployeeID\")\n",
    "        X = pd.merge(X, get_working_time(in_time, out_time), on='EmployeeID', how='inner')\n",
    "\n",
    "        return X"
   ],
   "metadata": {
    "collapsed": false,
    "ExecuteTime": {
     "end_time": "2024-02-07T14:06:46.589155500Z",
     "start_time": "2024-02-07T14:06:46.588150300Z"
    }
   },
   "id": "8bef0a826fe66ff0",
   "execution_count": 162
  },
  {
   "cell_type": "code",
   "outputs": [],
   "source": [
    "class DeleteUnEthicColumn(BaseEstimator, TransformerMixin):\n",
    "    def __init__(self, array):\n",
    "        self.array = array\n",
    "\n",
    "    def fit(self, X, y=None):\n",
    "        return self\n",
    "\n",
    "    def transform(self, X, y=None):\n",
    "        for i in self.array:\n",
    "            X.drop(i, axis=1, inplace=True)\n",
    "        return X\n"
   ],
   "metadata": {
    "collapsed": false,
    "ExecuteTime": {
     "end_time": "2024-02-07T14:06:47.510728500Z",
     "start_time": "2024-02-07T14:06:47.504615800Z"
    }
   },
   "id": "babb1799a5bf0fc",
   "execution_count": 163
  },
  {
   "cell_type": "code",
   "outputs": [],
   "source": [
    "class OrgDataFrame(BaseEstimator, TransformerMixin):\n",
    "    def fit(self, X, y=None):\n",
    "        return self\n",
    "\n",
    "    def transform(self, X, y=None):\n",
    "        X[\"Attrition\"] = X[\"Attrition\"].replace(to_replace=['No', 'Yes'], value=[-1, 1])\n",
    "        X[\"BusinessTravel\"] = X[\"BusinessTravel\"].replace(to_replace=['Non-Travel', 'Travel_Rarely', 'Travel_Frequently'], value=[1, 2, 3])\n",
    "        return X\n"
   ],
   "metadata": {
    "collapsed": false,
    "ExecuteTime": {
     "end_time": "2024-02-07T16:09:40.363215800Z",
     "start_time": "2024-02-07T16:09:40.357190400Z"
    }
   },
   "id": "a0021d709f01a9",
   "execution_count": 224
  },
  {
   "cell_type": "code",
   "outputs": [
    {
     "data": {
      "text/plain": "'class OneHotDataFrame(BaseEstimator, TransformerMixin):\\n    def fit(self, X, y=None):\\n        return self\\n\\n    def transform(self, X, y=None):\\n        one_hot_encoder = OneHotEncoder()\\n        object_attribs= X.select_dtypes(include=[\"object\"]).keys()\\n\\n        encoded_datas_array = one_hot_encoder.fit_transform(object_attribs).toarray()\\n        encoded_datas_labels = one_hot_encoder.categories_\\n        encoded_datas_labels = np.hstack([\\n        encoded_data = pd.DataFrame(encoded_datas_array, columns=encoded_datas_labels)\\n        #encoded_data[\"EmployeeID\"] = datas[\"EmployeeID\"]\\n\\n\\n        X = X.join(encoded_data)\\n        X.drop([\\'EducationField\\', \\'Department\\', \"JobRole\"], axis=1, inplace=True, errors=\"ignore\")'"
     },
     "execution_count": 219,
     "metadata": {},
     "output_type": "execute_result"
    }
   ],
   "source": [
    "'''class OneHotDataFrame(BaseEstimator, TransformerMixin):\n",
    "    def fit(self, X, y=None):\n",
    "        return self\n",
    "\n",
    "    def transform(self, X, y=None):\n",
    "        one_hot_encoder = OneHotEncoder()\n",
    "        object_attribs= X.select_dtypes(include=[\"object\"]).keys()\n",
    "\n",
    "        encoded_datas_array = one_hot_encoder.fit_transform(object_attribs).toarray()\n",
    "        encoded_datas_labels = one_hot_encoder.categories_\n",
    "        encoded_datas_labels = np.hstack([\n",
    "        encoded_data = pd.DataFrame(encoded_datas_array, columns=encoded_datas_labels)\n",
    "        #encoded_data[\"EmployeeID\"] = datas[\"EmployeeID\"]\n",
    "\n",
    "\n",
    "        X = X.join(encoded_data)\n",
    "        X.drop(['EducationField', 'Department', \"JobRole\"], axis=1, inplace=True, errors=\"ignore\")'''\n",
    "\n",
    "\n"
   ],
   "metadata": {
    "collapsed": false,
    "ExecuteTime": {
     "end_time": "2024-02-07T16:08:59.666410600Z",
     "start_time": "2024-02-07T16:08:59.659080400Z"
    }
   },
   "id": "6737748deef8d2a0",
   "execution_count": 219
  },
  {
   "cell_type": "code",
   "outputs": [],
   "source": [
    "class ScaleData(BaseEstimator, TransformerMixin):\n",
    "    def __init__(self, array):\n",
    "        self.array = array\n",
    "\n",
    "    def fit(self, X, y=None):\n",
    "        return self\n",
    "\n",
    "    def transform(self, X, y=None):\n",
    "        std_scale = StandardScaler().fit()\n",
    "        X_scaled = pd.DataFrame(std_scale.transform(X), columns=X.columns)\n",
    "        return X_scaled"
   ],
   "metadata": {
    "collapsed": false,
    "ExecuteTime": {
     "end_time": "2024-02-07T16:09:00.613987400Z",
     "start_time": "2024-02-07T16:09:00.607456400Z"
    }
   },
   "id": "3ad81de1b6687b8e",
   "execution_count": 220
  },
  {
   "cell_type": "code",
   "outputs": [],
   "source": [
    "def build_pipeline(X):\n",
    "\n",
    "    prepa_pipeline= Pipeline([\n",
    "        (\"merge\", MergeDataFrame(load_data(path +\"employee_survey_data.csv\"),\n",
    "                                 load_data(path +\"manager_survey_data.csv\"),\n",
    "                                 load_data(path +\"in_time.csv\"),\n",
    "                                 load_data(path +\"out_time.csv\"))),\n",
    "        (\"delete\", DeleteUnEthicColumn([\n",
    "                                        \"Age\",\n",
    "                                        \"Over18\",\n",
    "                                        \"Gender\",\n",
    "                                        \"MaritalStatus\",\n",
    "                                        \"EmployeeCount\",\n",
    "                                        \"StandardHours\",\n",
    "                                        \"EmployeeID\"\n",
    "        ]))])\n",
    "\n",
    "    data_pipeline = prepa_pipeline.fit_transform(X)\n",
    "    print(data_pipeline.info())\n",
    "    \n",
    "    object_attribs= data_pipeline.select_dtypes(include=[\"object\"]).keys()\n",
    "    num_search = data_pipeline.select_dtypes(include=[np.number])\n",
    "    num_attribs = list(num_search)\n",
    "    \n",
    "\n",
    "\n",
    "    labels = data_pipeline.keys().to_list()\n",
    "    labels.remove('Attrition')\n",
    "\n",
    "\n",
    "    #label_predict= Pipeline(steps=[\n",
    "    #    ('label', OrgDataFrame())\n",
    "    #])\n",
    "    \n",
    "    onehot_pipeline = Pipeline(steps=[\n",
    "        ('label', OrgDataFrame()),\n",
    "        ('onehot',OneHotEncoder())\n",
    "    ])\n",
    "\n",
    "    scale_pipeline = Pipeline(steps=[\n",
    "        ('std_scaler', StandardScaler()),\n",
    "    ])\n",
    "\n",
    "    pipeline = ColumnTransformer(transformers=[\n",
    "        (\"numerisation\",scale_pipeline,num_attribs),\n",
    "        (\"one\", onehot_pipeline, object_attribs) \n",
    "        ],\n",
    "        remainder='drop',\n",
    "        n_jobs=-1)\n",
    "\n",
    "    full_pipeline = Pipeline(steps=[\n",
    "        (\"pipeline\", pipeline),\n",
    "    ])\n",
    "\n",
    "    from sklearn import set_config\n",
    "    set_config(display='diagram')\n",
    "    display(full_pipeline)\n",
    "    \n",
    "    data_fullpipeline = full_pipeline.fit_transform(data_pipeline)\n",
    "    \n",
    "\n",
    "\n",
    "\n",
    "    #X = data_pipeline[labels]\n",
    "    #y = data_pipeline['Attrition']\n",
    "    \n",
    "    return data_fullpipeline"
   ],
   "metadata": {
    "collapsed": false,
    "ExecuteTime": {
     "end_time": "2024-02-07T16:20:32.005511500Z",
     "start_time": "2024-02-07T16:20:31.999999800Z"
    }
   },
   "id": "7ee40bb06bd0618d",
   "execution_count": 236
  },
  {
   "cell_type": "code",
   "outputs": [
    {
     "name": "stdout",
     "output_type": "stream",
     "text": [
      "<class 'pandas.core.frame.DataFrame'>\n",
      "RangeIndex: 4410 entries, 0 to 4409\n",
      "Data columns (total 23 columns):\n",
      " #   Column                   Non-Null Count  Dtype  \n",
      "---  ------                   --------------  -----  \n",
      " 0   Attrition                4410 non-null   object \n",
      " 1   BusinessTravel           4410 non-null   object \n",
      " 2   Department               4410 non-null   object \n",
      " 3   DistanceFromHome         4410 non-null   int64  \n",
      " 4   Education                4410 non-null   int64  \n",
      " 5   EducationField           4410 non-null   object \n",
      " 6   JobLevel                 4410 non-null   int64  \n",
      " 7   JobRole                  4410 non-null   object \n",
      " 8   MonthlyIncome            4410 non-null   int64  \n",
      " 9   NumCompaniesWorked       4391 non-null   float64\n",
      " 10  PercentSalaryHike        4410 non-null   int64  \n",
      " 11  StockOptionLevel         4410 non-null   int64  \n",
      " 12  TotalWorkingYears        4401 non-null   float64\n",
      " 13  TrainingTimesLastYear    4410 non-null   int64  \n",
      " 14  YearsAtCompany           4410 non-null   int64  \n",
      " 15  YearsSinceLastPromotion  4410 non-null   int64  \n",
      " 16  YearsWithCurrManager     4410 non-null   int64  \n",
      " 17  EnvironmentSatisfaction  4385 non-null   float64\n",
      " 18  JobSatisfaction          4390 non-null   float64\n",
      " 19  WorkLifeBalance          4372 non-null   float64\n",
      " 20  JobInvolvement           4410 non-null   int64  \n",
      " 21  PerformanceRating        4410 non-null   int64  \n",
      " 22  MeanWorkingHours         4410 non-null   float64\n",
      "dtypes: float64(6), int64(12), object(5)\n",
      "memory usage: 792.6+ KB\n",
      "None\n"
     ]
    },
    {
     "data": {
      "text/plain": "Pipeline(steps=[('pipeline',\n                 ColumnTransformer(n_jobs=-1,\n                                   transformers=[('numerisation',\n                                                  Pipeline(steps=[('std_scaler',\n                                                                   StandardScaler())]),\n                                                  ['DistanceFromHome',\n                                                   'Education', 'JobLevel',\n                                                   'MonthlyIncome',\n                                                   'NumCompaniesWorked',\n                                                   'PercentSalaryHike',\n                                                   'StockOptionLevel',\n                                                   'TotalWorkingYears',\n                                                   'TrainingTimesLastYear',\n                                                   'YearsAtCompany',\n                                                   'YearsSinceLastPromotion',\n                                                   'YearsWithCurrManager',\n                                                   'EnvironmentSatisfaction',\n                                                   'JobSatisfaction',\n                                                   'WorkLifeBalance',\n                                                   'JobInvolvement',\n                                                   'PerformanceRating',\n                                                   'MeanWorkingHours']),\n                                                 ('one',\n                                                  Pipeline(steps=[('label',\n                                                                   OrgDataFrame()),\n                                                                  ('onehot',\n                                                                   OneHotEncoder())]),\n                                                  Index(['Attrition', 'BusinessTravel', 'Department', 'EducationField',\n       'JobRole'],\n      dtype='object'))]))])",
      "text/html": "<style>#sk-container-id-23 {\n  /* Definition of color scheme common for light and dark mode */\n  --sklearn-color-text: black;\n  --sklearn-color-line: gray;\n  /* Definition of color scheme for unfitted estimators */\n  --sklearn-color-unfitted-level-0: #fff5e6;\n  --sklearn-color-unfitted-level-1: #f6e4d2;\n  --sklearn-color-unfitted-level-2: #ffe0b3;\n  --sklearn-color-unfitted-level-3: chocolate;\n  /* Definition of color scheme for fitted estimators */\n  --sklearn-color-fitted-level-0: #f0f8ff;\n  --sklearn-color-fitted-level-1: #d4ebff;\n  --sklearn-color-fitted-level-2: #b3dbfd;\n  --sklearn-color-fitted-level-3: cornflowerblue;\n\n  /* Specific color for light theme */\n  --sklearn-color-text-on-default-background: var(--sg-text-color, var(--theme-code-foreground, var(--jp-content-font-color1, black)));\n  --sklearn-color-background: var(--sg-background-color, var(--theme-background, var(--jp-layout-color0, white)));\n  --sklearn-color-border-box: var(--sg-text-color, var(--theme-code-foreground, var(--jp-content-font-color1, black)));\n  --sklearn-color-icon: #696969;\n\n  @media (prefers-color-scheme: dark) {\n    /* Redefinition of color scheme for dark theme */\n    --sklearn-color-text-on-default-background: var(--sg-text-color, var(--theme-code-foreground, var(--jp-content-font-color1, white)));\n    --sklearn-color-background: var(--sg-background-color, var(--theme-background, var(--jp-layout-color0, #111)));\n    --sklearn-color-border-box: var(--sg-text-color, var(--theme-code-foreground, var(--jp-content-font-color1, white)));\n    --sklearn-color-icon: #878787;\n  }\n}\n\n#sk-container-id-23 {\n  color: var(--sklearn-color-text);\n}\n\n#sk-container-id-23 pre {\n  padding: 0;\n}\n\n#sk-container-id-23 input.sk-hidden--visually {\n  border: 0;\n  clip: rect(1px 1px 1px 1px);\n  clip: rect(1px, 1px, 1px, 1px);\n  height: 1px;\n  margin: -1px;\n  overflow: hidden;\n  padding: 0;\n  position: absolute;\n  width: 1px;\n}\n\n#sk-container-id-23 div.sk-dashed-wrapped {\n  border: 1px dashed var(--sklearn-color-line);\n  margin: 0 0.4em 0.5em 0.4em;\n  box-sizing: border-box;\n  padding-bottom: 0.4em;\n  background-color: var(--sklearn-color-background);\n}\n\n#sk-container-id-23 div.sk-container {\n  /* jupyter's `normalize.less` sets `[hidden] { display: none; }`\n     but bootstrap.min.css set `[hidden] { display: none !important; }`\n     so we also need the `!important` here to be able to override the\n     default hidden behavior on the sphinx rendered scikit-learn.org.\n     See: https://github.com/scikit-learn/scikit-learn/issues/21755 */\n  display: inline-block !important;\n  position: relative;\n}\n\n#sk-container-id-23 div.sk-text-repr-fallback {\n  display: none;\n}\n\ndiv.sk-parallel-item,\ndiv.sk-serial,\ndiv.sk-item {\n  /* draw centered vertical line to link estimators */\n  background-image: linear-gradient(var(--sklearn-color-text-on-default-background), var(--sklearn-color-text-on-default-background));\n  background-size: 2px 100%;\n  background-repeat: no-repeat;\n  background-position: center center;\n}\n\n/* Parallel-specific style estimator block */\n\n#sk-container-id-23 div.sk-parallel-item::after {\n  content: \"\";\n  width: 100%;\n  border-bottom: 2px solid var(--sklearn-color-text-on-default-background);\n  flex-grow: 1;\n}\n\n#sk-container-id-23 div.sk-parallel {\n  display: flex;\n  align-items: stretch;\n  justify-content: center;\n  background-color: var(--sklearn-color-background);\n  position: relative;\n}\n\n#sk-container-id-23 div.sk-parallel-item {\n  display: flex;\n  flex-direction: column;\n}\n\n#sk-container-id-23 div.sk-parallel-item:first-child::after {\n  align-self: flex-end;\n  width: 50%;\n}\n\n#sk-container-id-23 div.sk-parallel-item:last-child::after {\n  align-self: flex-start;\n  width: 50%;\n}\n\n#sk-container-id-23 div.sk-parallel-item:only-child::after {\n  width: 0;\n}\n\n/* Serial-specific style estimator block */\n\n#sk-container-id-23 div.sk-serial {\n  display: flex;\n  flex-direction: column;\n  align-items: center;\n  background-color: var(--sklearn-color-background);\n  padding-right: 1em;\n  padding-left: 1em;\n}\n\n\n/* Toggleable style: style used for estimator/Pipeline/ColumnTransformer box that is\nclickable and can be expanded/collapsed.\n- Pipeline and ColumnTransformer use this feature and define the default style\n- Estimators will overwrite some part of the style using the `sk-estimator` class\n*/\n\n/* Pipeline and ColumnTransformer style (default) */\n\n#sk-container-id-23 div.sk-toggleable {\n  /* Default theme specific background. It is overwritten whether we have a\n  specific estimator or a Pipeline/ColumnTransformer */\n  background-color: var(--sklearn-color-background);\n}\n\n/* Toggleable label */\n#sk-container-id-23 label.sk-toggleable__label {\n  cursor: pointer;\n  display: block;\n  width: 100%;\n  margin-bottom: 0;\n  padding: 0.5em;\n  box-sizing: border-box;\n  text-align: center;\n}\n\n#sk-container-id-23 label.sk-toggleable__label-arrow:before {\n  /* Arrow on the left of the label */\n  content: \"▸\";\n  float: left;\n  margin-right: 0.25em;\n  color: var(--sklearn-color-icon);\n}\n\n#sk-container-id-23 label.sk-toggleable__label-arrow:hover:before {\n  color: var(--sklearn-color-text);\n}\n\n/* Toggleable content - dropdown */\n\n#sk-container-id-23 div.sk-toggleable__content {\n  max-height: 0;\n  max-width: 0;\n  overflow: hidden;\n  text-align: left;\n  /* unfitted */\n  background-color: var(--sklearn-color-unfitted-level-0);\n}\n\n#sk-container-id-23 div.sk-toggleable__content.fitted {\n  /* fitted */\n  background-color: var(--sklearn-color-fitted-level-0);\n}\n\n#sk-container-id-23 div.sk-toggleable__content pre {\n  margin: 0.2em;\n  border-radius: 0.25em;\n  color: var(--sklearn-color-text);\n  /* unfitted */\n  background-color: var(--sklearn-color-unfitted-level-0);\n}\n\n#sk-container-id-23 div.sk-toggleable__content.fitted pre {\n  /* unfitted */\n  background-color: var(--sklearn-color-fitted-level-0);\n}\n\n#sk-container-id-23 input.sk-toggleable__control:checked~div.sk-toggleable__content {\n  /* Expand drop-down */\n  max-height: 200px;\n  max-width: 100%;\n  overflow: auto;\n}\n\n#sk-container-id-23 input.sk-toggleable__control:checked~label.sk-toggleable__label-arrow:before {\n  content: \"▾\";\n}\n\n/* Pipeline/ColumnTransformer-specific style */\n\n#sk-container-id-23 div.sk-label input.sk-toggleable__control:checked~label.sk-toggleable__label {\n  color: var(--sklearn-color-text);\n  background-color: var(--sklearn-color-unfitted-level-2);\n}\n\n#sk-container-id-23 div.sk-label.fitted input.sk-toggleable__control:checked~label.sk-toggleable__label {\n  background-color: var(--sklearn-color-fitted-level-2);\n}\n\n/* Estimator-specific style */\n\n/* Colorize estimator box */\n#sk-container-id-23 div.sk-estimator input.sk-toggleable__control:checked~label.sk-toggleable__label {\n  /* unfitted */\n  background-color: var(--sklearn-color-unfitted-level-2);\n}\n\n#sk-container-id-23 div.sk-estimator.fitted input.sk-toggleable__control:checked~label.sk-toggleable__label {\n  /* fitted */\n  background-color: var(--sklearn-color-fitted-level-2);\n}\n\n#sk-container-id-23 div.sk-label label.sk-toggleable__label,\n#sk-container-id-23 div.sk-label label {\n  /* The background is the default theme color */\n  color: var(--sklearn-color-text-on-default-background);\n}\n\n/* On hover, darken the color of the background */\n#sk-container-id-23 div.sk-label:hover label.sk-toggleable__label {\n  color: var(--sklearn-color-text);\n  background-color: var(--sklearn-color-unfitted-level-2);\n}\n\n/* Label box, darken color on hover, fitted */\n#sk-container-id-23 div.sk-label.fitted:hover label.sk-toggleable__label.fitted {\n  color: var(--sklearn-color-text);\n  background-color: var(--sklearn-color-fitted-level-2);\n}\n\n/* Estimator label */\n\n#sk-container-id-23 div.sk-label label {\n  font-family: monospace;\n  font-weight: bold;\n  display: inline-block;\n  line-height: 1.2em;\n}\n\n#sk-container-id-23 div.sk-label-container {\n  text-align: center;\n}\n\n/* Estimator-specific */\n#sk-container-id-23 div.sk-estimator {\n  font-family: monospace;\n  border: 1px dotted var(--sklearn-color-border-box);\n  border-radius: 0.25em;\n  box-sizing: border-box;\n  margin-bottom: 0.5em;\n  /* unfitted */\n  background-color: var(--sklearn-color-unfitted-level-0);\n}\n\n#sk-container-id-23 div.sk-estimator.fitted {\n  /* fitted */\n  background-color: var(--sklearn-color-fitted-level-0);\n}\n\n/* on hover */\n#sk-container-id-23 div.sk-estimator:hover {\n  /* unfitted */\n  background-color: var(--sklearn-color-unfitted-level-2);\n}\n\n#sk-container-id-23 div.sk-estimator.fitted:hover {\n  /* fitted */\n  background-color: var(--sklearn-color-fitted-level-2);\n}\n\n/* Specification for estimator info (e.g. \"i\" and \"?\") */\n\n/* Common style for \"i\" and \"?\" */\n\n.sk-estimator-doc-link,\na:link.sk-estimator-doc-link,\na:visited.sk-estimator-doc-link {\n  float: right;\n  font-size: smaller;\n  line-height: 1em;\n  font-family: monospace;\n  background-color: var(--sklearn-color-background);\n  border-radius: 1em;\n  height: 1em;\n  width: 1em;\n  text-decoration: none !important;\n  margin-left: 1ex;\n  /* unfitted */\n  border: var(--sklearn-color-unfitted-level-1) 1pt solid;\n  color: var(--sklearn-color-unfitted-level-1);\n}\n\n.sk-estimator-doc-link.fitted,\na:link.sk-estimator-doc-link.fitted,\na:visited.sk-estimator-doc-link.fitted {\n  /* fitted */\n  border: var(--sklearn-color-fitted-level-1) 1pt solid;\n  color: var(--sklearn-color-fitted-level-1);\n}\n\n/* On hover */\ndiv.sk-estimator:hover .sk-estimator-doc-link:hover,\n.sk-estimator-doc-link:hover,\ndiv.sk-label-container:hover .sk-estimator-doc-link:hover,\n.sk-estimator-doc-link:hover {\n  /* unfitted */\n  background-color: var(--sklearn-color-unfitted-level-3);\n  color: var(--sklearn-color-background);\n  text-decoration: none;\n}\n\ndiv.sk-estimator.fitted:hover .sk-estimator-doc-link.fitted:hover,\n.sk-estimator-doc-link.fitted:hover,\ndiv.sk-label-container:hover .sk-estimator-doc-link.fitted:hover,\n.sk-estimator-doc-link.fitted:hover {\n  /* fitted */\n  background-color: var(--sklearn-color-fitted-level-3);\n  color: var(--sklearn-color-background);\n  text-decoration: none;\n}\n\n/* Span, style for the box shown on hovering the info icon */\n.sk-estimator-doc-link span {\n  display: none;\n  z-index: 9999;\n  position: relative;\n  font-weight: normal;\n  right: .2ex;\n  padding: .5ex;\n  margin: .5ex;\n  width: min-content;\n  min-width: 20ex;\n  max-width: 50ex;\n  color: var(--sklearn-color-text);\n  box-shadow: 2pt 2pt 4pt #999;\n  /* unfitted */\n  background: var(--sklearn-color-unfitted-level-0);\n  border: .5pt solid var(--sklearn-color-unfitted-level-3);\n}\n\n.sk-estimator-doc-link.fitted span {\n  /* fitted */\n  background: var(--sklearn-color-fitted-level-0);\n  border: var(--sklearn-color-fitted-level-3);\n}\n\n.sk-estimator-doc-link:hover span {\n  display: block;\n}\n\n/* \"?\"-specific style due to the `<a>` HTML tag */\n\n#sk-container-id-23 a.estimator_doc_link {\n  float: right;\n  font-size: 1rem;\n  line-height: 1em;\n  font-family: monospace;\n  background-color: var(--sklearn-color-background);\n  border-radius: 1rem;\n  height: 1rem;\n  width: 1rem;\n  text-decoration: none;\n  /* unfitted */\n  color: var(--sklearn-color-unfitted-level-1);\n  border: var(--sklearn-color-unfitted-level-1) 1pt solid;\n}\n\n#sk-container-id-23 a.estimator_doc_link.fitted {\n  /* fitted */\n  border: var(--sklearn-color-fitted-level-1) 1pt solid;\n  color: var(--sklearn-color-fitted-level-1);\n}\n\n/* On hover */\n#sk-container-id-23 a.estimator_doc_link:hover {\n  /* unfitted */\n  background-color: var(--sklearn-color-unfitted-level-3);\n  color: var(--sklearn-color-background);\n  text-decoration: none;\n}\n\n#sk-container-id-23 a.estimator_doc_link.fitted:hover {\n  /* fitted */\n  background-color: var(--sklearn-color-fitted-level-3);\n}\n</style><div id=\"sk-container-id-23\" class=\"sk-top-container\"><div class=\"sk-text-repr-fallback\"><pre>Pipeline(steps=[(&#x27;pipeline&#x27;,\n                 ColumnTransformer(n_jobs=-1,\n                                   transformers=[(&#x27;numerisation&#x27;,\n                                                  Pipeline(steps=[(&#x27;std_scaler&#x27;,\n                                                                   StandardScaler())]),\n                                                  [&#x27;DistanceFromHome&#x27;,\n                                                   &#x27;Education&#x27;, &#x27;JobLevel&#x27;,\n                                                   &#x27;MonthlyIncome&#x27;,\n                                                   &#x27;NumCompaniesWorked&#x27;,\n                                                   &#x27;PercentSalaryHike&#x27;,\n                                                   &#x27;StockOptionLevel&#x27;,\n                                                   &#x27;TotalWorkingYears&#x27;,\n                                                   &#x27;TrainingTimesLastYear&#x27;,\n                                                   &#x27;YearsAtCompany&#x27;,\n                                                   &#x27;YearsSinceLastPromotion&#x27;,\n                                                   &#x27;YearsWithCurrManager&#x27;,\n                                                   &#x27;EnvironmentSatisfaction&#x27;,\n                                                   &#x27;JobSatisfaction&#x27;,\n                                                   &#x27;WorkLifeBalance&#x27;,\n                                                   &#x27;JobInvolvement&#x27;,\n                                                   &#x27;PerformanceRating&#x27;,\n                                                   &#x27;MeanWorkingHours&#x27;]),\n                                                 (&#x27;one&#x27;,\n                                                  Pipeline(steps=[(&#x27;label&#x27;,\n                                                                   OrgDataFrame()),\n                                                                  (&#x27;onehot&#x27;,\n                                                                   OneHotEncoder())]),\n                                                  Index([&#x27;Attrition&#x27;, &#x27;BusinessTravel&#x27;, &#x27;Department&#x27;, &#x27;EducationField&#x27;,\n       &#x27;JobRole&#x27;],\n      dtype=&#x27;object&#x27;))]))])</pre><b>In a Jupyter environment, please rerun this cell to show the HTML representation or trust the notebook. <br />On GitHub, the HTML representation is unable to render, please try loading this page with nbviewer.org.</b></div><div class=\"sk-container\" hidden><div class=\"sk-item sk-dashed-wrapped\"><div class=\"sk-label-container\"><div class=\"sk-label  sk-toggleable\"><input class=\"sk-toggleable__control sk-hidden--visually\" id=\"sk-estimator-id-54\" type=\"checkbox\" ><label for=\"sk-estimator-id-54\" class=\"sk-toggleable__label  sk-toggleable__label-arrow \">&nbsp;&nbsp;Pipeline<a class=\"sk-estimator-doc-link \" rel=\"noreferrer\" target=\"_blank\" href=\"https://scikit-learn.org/1.4/modules/generated/sklearn.pipeline.Pipeline.html\">?<span>Documentation for Pipeline</span></a><span class=\"sk-estimator-doc-link \">i<span>Not fitted</span></span></label><div class=\"sk-toggleable__content \"><pre>Pipeline(steps=[(&#x27;pipeline&#x27;,\n                 ColumnTransformer(n_jobs=-1,\n                                   transformers=[(&#x27;numerisation&#x27;,\n                                                  Pipeline(steps=[(&#x27;std_scaler&#x27;,\n                                                                   StandardScaler())]),\n                                                  [&#x27;DistanceFromHome&#x27;,\n                                                   &#x27;Education&#x27;, &#x27;JobLevel&#x27;,\n                                                   &#x27;MonthlyIncome&#x27;,\n                                                   &#x27;NumCompaniesWorked&#x27;,\n                                                   &#x27;PercentSalaryHike&#x27;,\n                                                   &#x27;StockOptionLevel&#x27;,\n                                                   &#x27;TotalWorkingYears&#x27;,\n                                                   &#x27;TrainingTimesLastYear&#x27;,\n                                                   &#x27;YearsAtCompany&#x27;,\n                                                   &#x27;YearsSinceLastPromotion&#x27;,\n                                                   &#x27;YearsWithCurrManager&#x27;,\n                                                   &#x27;EnvironmentSatisfaction&#x27;,\n                                                   &#x27;JobSatisfaction&#x27;,\n                                                   &#x27;WorkLifeBalance&#x27;,\n                                                   &#x27;JobInvolvement&#x27;,\n                                                   &#x27;PerformanceRating&#x27;,\n                                                   &#x27;MeanWorkingHours&#x27;]),\n                                                 (&#x27;one&#x27;,\n                                                  Pipeline(steps=[(&#x27;label&#x27;,\n                                                                   OrgDataFrame()),\n                                                                  (&#x27;onehot&#x27;,\n                                                                   OneHotEncoder())]),\n                                                  Index([&#x27;Attrition&#x27;, &#x27;BusinessTravel&#x27;, &#x27;Department&#x27;, &#x27;EducationField&#x27;,\n       &#x27;JobRole&#x27;],\n      dtype=&#x27;object&#x27;))]))])</pre></div> </div></div><div class=\"sk-serial\"><div class=\"sk-item sk-dashed-wrapped\"><div class=\"sk-label-container\"><div class=\"sk-label  sk-toggleable\"><input class=\"sk-toggleable__control sk-hidden--visually\" id=\"sk-estimator-id-55\" type=\"checkbox\" ><label for=\"sk-estimator-id-55\" class=\"sk-toggleable__label  sk-toggleable__label-arrow \">&nbsp;pipeline: ColumnTransformer<a class=\"sk-estimator-doc-link \" rel=\"noreferrer\" target=\"_blank\" href=\"https://scikit-learn.org/1.4/modules/generated/sklearn.compose.ColumnTransformer.html\">?<span>Documentation for pipeline: ColumnTransformer</span></a></label><div class=\"sk-toggleable__content \"><pre>ColumnTransformer(n_jobs=-1,\n                  transformers=[(&#x27;numerisation&#x27;,\n                                 Pipeline(steps=[(&#x27;std_scaler&#x27;,\n                                                  StandardScaler())]),\n                                 [&#x27;DistanceFromHome&#x27;, &#x27;Education&#x27;, &#x27;JobLevel&#x27;,\n                                  &#x27;MonthlyIncome&#x27;, &#x27;NumCompaniesWorked&#x27;,\n                                  &#x27;PercentSalaryHike&#x27;, &#x27;StockOptionLevel&#x27;,\n                                  &#x27;TotalWorkingYears&#x27;, &#x27;TrainingTimesLastYear&#x27;,\n                                  &#x27;YearsAtCompany&#x27;, &#x27;YearsSinceLastPromotion&#x27;,\n                                  &#x27;YearsWithCurrManager&#x27;,\n                                  &#x27;EnvironmentSatisfaction&#x27;, &#x27;JobSatisfaction&#x27;,\n                                  &#x27;WorkLifeBalance&#x27;, &#x27;JobInvolvement&#x27;,\n                                  &#x27;PerformanceRating&#x27;, &#x27;MeanWorkingHours&#x27;]),\n                                (&#x27;one&#x27;,\n                                 Pipeline(steps=[(&#x27;label&#x27;, OrgDataFrame()),\n                                                 (&#x27;onehot&#x27;, OneHotEncoder())]),\n                                 Index([&#x27;Attrition&#x27;, &#x27;BusinessTravel&#x27;, &#x27;Department&#x27;, &#x27;EducationField&#x27;,\n       &#x27;JobRole&#x27;],\n      dtype=&#x27;object&#x27;))])</pre></div> </div></div><div class=\"sk-parallel\"><div class=\"sk-parallel-item\"><div class=\"sk-item\"><div class=\"sk-label-container\"><div class=\"sk-label  sk-toggleable\"><input class=\"sk-toggleable__control sk-hidden--visually\" id=\"sk-estimator-id-56\" type=\"checkbox\" ><label for=\"sk-estimator-id-56\" class=\"sk-toggleable__label  sk-toggleable__label-arrow \">numerisation</label><div class=\"sk-toggleable__content \"><pre>[&#x27;DistanceFromHome&#x27;, &#x27;Education&#x27;, &#x27;JobLevel&#x27;, &#x27;MonthlyIncome&#x27;, &#x27;NumCompaniesWorked&#x27;, &#x27;PercentSalaryHike&#x27;, &#x27;StockOptionLevel&#x27;, &#x27;TotalWorkingYears&#x27;, &#x27;TrainingTimesLastYear&#x27;, &#x27;YearsAtCompany&#x27;, &#x27;YearsSinceLastPromotion&#x27;, &#x27;YearsWithCurrManager&#x27;, &#x27;EnvironmentSatisfaction&#x27;, &#x27;JobSatisfaction&#x27;, &#x27;WorkLifeBalance&#x27;, &#x27;JobInvolvement&#x27;, &#x27;PerformanceRating&#x27;, &#x27;MeanWorkingHours&#x27;]</pre></div> </div></div><div class=\"sk-serial\"><div class=\"sk-item\"><div class=\"sk-serial\"><div class=\"sk-item\"><div class=\"sk-estimator  sk-toggleable\"><input class=\"sk-toggleable__control sk-hidden--visually\" id=\"sk-estimator-id-57\" type=\"checkbox\" ><label for=\"sk-estimator-id-57\" class=\"sk-toggleable__label  sk-toggleable__label-arrow \">&nbsp;StandardScaler<a class=\"sk-estimator-doc-link \" rel=\"noreferrer\" target=\"_blank\" href=\"https://scikit-learn.org/1.4/modules/generated/sklearn.preprocessing.StandardScaler.html\">?<span>Documentation for StandardScaler</span></a></label><div class=\"sk-toggleable__content \"><pre>StandardScaler()</pre></div> </div></div></div></div></div></div></div><div class=\"sk-parallel-item\"><div class=\"sk-item\"><div class=\"sk-label-container\"><div class=\"sk-label  sk-toggleable\"><input class=\"sk-toggleable__control sk-hidden--visually\" id=\"sk-estimator-id-58\" type=\"checkbox\" ><label for=\"sk-estimator-id-58\" class=\"sk-toggleable__label  sk-toggleable__label-arrow \">one</label><div class=\"sk-toggleable__content \"><pre>Index([&#x27;Attrition&#x27;, &#x27;BusinessTravel&#x27;, &#x27;Department&#x27;, &#x27;EducationField&#x27;,\n       &#x27;JobRole&#x27;],\n      dtype=&#x27;object&#x27;)</pre></div> </div></div><div class=\"sk-serial\"><div class=\"sk-item\"><div class=\"sk-serial\"><div class=\"sk-item\"><div class=\"sk-estimator  sk-toggleable\"><input class=\"sk-toggleable__control sk-hidden--visually\" id=\"sk-estimator-id-59\" type=\"checkbox\" ><label for=\"sk-estimator-id-59\" class=\"sk-toggleable__label  sk-toggleable__label-arrow \">OrgDataFrame</label><div class=\"sk-toggleable__content \"><pre>OrgDataFrame()</pre></div> </div></div><div class=\"sk-item\"><div class=\"sk-estimator  sk-toggleable\"><input class=\"sk-toggleable__control sk-hidden--visually\" id=\"sk-estimator-id-60\" type=\"checkbox\" ><label for=\"sk-estimator-id-60\" class=\"sk-toggleable__label  sk-toggleable__label-arrow \">&nbsp;OneHotEncoder<a class=\"sk-estimator-doc-link \" rel=\"noreferrer\" target=\"_blank\" href=\"https://scikit-learn.org/1.4/modules/generated/sklearn.preprocessing.OneHotEncoder.html\">?<span>Documentation for OneHotEncoder</span></a></label><div class=\"sk-toggleable__content \"><pre>OneHotEncoder()</pre></div> </div></div></div></div></div></div></div></div></div></div></div></div></div>"
     },
     "metadata": {},
     "output_type": "display_data"
    }
   ],
   "source": [
    "data=build_pipeline(general_data)"
   ],
   "metadata": {
    "collapsed": false,
    "ExecuteTime": {
     "end_time": "2024-02-07T16:20:52.936451Z",
     "start_time": "2024-02-07T16:20:40.023549100Z"
    }
   },
   "id": "87bf5a6d120cfcfe",
   "execution_count": 237
  },
  {
   "cell_type": "code",
   "outputs": [
    {
     "data": {
      "text/plain": "array([[-0.39393818, -0.89168825, -0.96148639, ...,  0.        ,\n         0.        ,  0.        ],\n       [ 0.09963874, -1.86842575, -0.96148639, ...,  1.        ,\n         0.        ,  0.        ],\n       [ 0.96339837,  1.06178675,  1.74961015, ...,  0.        ,\n         1.        ,  0.        ],\n       ...,\n       [ 1.95055222, -0.89168825, -0.05778755, ...,  0.        ,\n         1.        ,  0.        ],\n       [ 1.0867926 , -0.89168825, -0.96148639, ...,  0.        ,\n         0.        ,  0.        ],\n       [ 2.32073492,  0.08504925, -0.05778755, ...,  0.        ,\n         0.        ,  0.        ]])"
     },
     "execution_count": 234,
     "metadata": {},
     "output_type": "execute_result"
    }
   ],
   "source": [
    "data"
   ],
   "metadata": {
    "collapsed": false,
    "ExecuteTime": {
     "end_time": "2024-02-07T16:13:28.525882800Z",
     "start_time": "2024-02-07T16:13:28.517200200Z"
    }
   },
   "id": "df301c59c2e23595",
   "execution_count": 234
  },
  {
   "cell_type": "code",
   "outputs": [],
   "source": [],
   "metadata": {
    "collapsed": false
   },
   "id": "bd09d57f20fc758a"
  }
 ],
 "metadata": {
  "kernelspec": {
   "display_name": "Python 3",
   "language": "python",
   "name": "python3"
  },
  "language_info": {
   "codemirror_mode": {
    "name": "ipython",
    "version": 2
   },
   "file_extension": ".py",
   "mimetype": "text/x-python",
   "name": "python",
   "nbconvert_exporter": "python",
   "pygments_lexer": "ipython2",
   "version": "2.7.6"
  }
 },
 "nbformat": 4,
 "nbformat_minor": 5
}
