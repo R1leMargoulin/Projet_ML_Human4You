{
 "cells": [
  {
   "cell_type": "code",
   "execution_count": 39,
   "id": "initial_id",
   "metadata": {
    "collapsed": true,
    "ExecuteTime": {
     "end_time": "2024-02-08T10:29:28.446820100Z",
     "start_time": "2024-02-08T10:29:27.434039600Z"
    }
   },
   "outputs": [
    {
     "data": {
      "text/plain": "      Age Attrition     BusinessTravel              Department  \\\n0      51        No      Travel_Rarely                   Sales   \n1      31       Yes  Travel_Frequently  Research & Development   \n2      32        No  Travel_Frequently  Research & Development   \n3      38        No         Non-Travel  Research & Development   \n4      32        No      Travel_Rarely  Research & Development   \n...   ...       ...                ...                     ...   \n4405   42        No      Travel_Rarely  Research & Development   \n4406   29        No      Travel_Rarely  Research & Development   \n4407   25        No      Travel_Rarely  Research & Development   \n4408   42        No      Travel_Rarely                   Sales   \n4409   40        No      Travel_Rarely  Research & Development   \n\n      DistanceFromHome  Education EducationField  EmployeeCount  EmployeeID  \\\n0                    6          2  Life Sciences              1           1   \n1                   10          1  Life Sciences              1           2   \n2                   17          4          Other              1           3   \n3                    2          5  Life Sciences              1           4   \n4                   10          1        Medical              1           5   \n...                ...        ...            ...            ...         ...   \n4405                 5          4        Medical              1        4406   \n4406                 2          4        Medical              1        4407   \n4407                25          2  Life Sciences              1        4408   \n4408                18          2        Medical              1        4409   \n4409                28          3        Medical              1        4410   \n\n      Gender  ...  NumCompaniesWorked Over18 PercentSalaryHike  StandardHours  \\\n0     Female  ...                 1.0      Y                11              8   \n1     Female  ...                 0.0      Y                23              8   \n2       Male  ...                 1.0      Y                15              8   \n3       Male  ...                 3.0      Y                11              8   \n4       Male  ...                 4.0      Y                12              8   \n...      ...  ...                 ...    ...               ...            ...   \n4405  Female  ...                 3.0      Y                17              8   \n4406    Male  ...                 2.0      Y                15              8   \n4407    Male  ...                 0.0      Y                20              8   \n4408    Male  ...                 0.0      Y                14              8   \n4409    Male  ...                 0.0      Y                12              8   \n\n      StockOptionLevel TotalWorkingYears  TrainingTimesLastYear  \\\n0                    0               1.0                      6   \n1                    1               6.0                      3   \n2                    3               5.0                      2   \n3                    3              13.0                      5   \n4                    2               9.0                      2   \n...                ...               ...                    ...   \n4405                 1              10.0                      5   \n4406                 0              10.0                      2   \n4407                 0               5.0                      4   \n4408                 1              10.0                      2   \n4409                 0               NaN                      6   \n\n      YearsAtCompany  YearsSinceLastPromotion  YearsWithCurrManager  \n0                  1                        0                     0  \n1                  5                        1                     4  \n2                  5                        0                     3  \n3                  8                        7                     5  \n4                  6                        0                     4  \n...              ...                      ...                   ...  \n4405               3                        0                     2  \n4406               3                        0                     2  \n4407               4                        1                     2  \n4408               9                        7                     8  \n4409              21                        3                     9  \n\n[4410 rows x 24 columns]",
      "text/html": "<div>\n<style scoped>\n    .dataframe tbody tr th:only-of-type {\n        vertical-align: middle;\n    }\n\n    .dataframe tbody tr th {\n        vertical-align: top;\n    }\n\n    .dataframe thead th {\n        text-align: right;\n    }\n</style>\n<table border=\"1\" class=\"dataframe\">\n  <thead>\n    <tr style=\"text-align: right;\">\n      <th></th>\n      <th>Age</th>\n      <th>Attrition</th>\n      <th>BusinessTravel</th>\n      <th>Department</th>\n      <th>DistanceFromHome</th>\n      <th>Education</th>\n      <th>EducationField</th>\n      <th>EmployeeCount</th>\n      <th>EmployeeID</th>\n      <th>Gender</th>\n      <th>...</th>\n      <th>NumCompaniesWorked</th>\n      <th>Over18</th>\n      <th>PercentSalaryHike</th>\n      <th>StandardHours</th>\n      <th>StockOptionLevel</th>\n      <th>TotalWorkingYears</th>\n      <th>TrainingTimesLastYear</th>\n      <th>YearsAtCompany</th>\n      <th>YearsSinceLastPromotion</th>\n      <th>YearsWithCurrManager</th>\n    </tr>\n  </thead>\n  <tbody>\n    <tr>\n      <th>0</th>\n      <td>51</td>\n      <td>No</td>\n      <td>Travel_Rarely</td>\n      <td>Sales</td>\n      <td>6</td>\n      <td>2</td>\n      <td>Life Sciences</td>\n      <td>1</td>\n      <td>1</td>\n      <td>Female</td>\n      <td>...</td>\n      <td>1.0</td>\n      <td>Y</td>\n      <td>11</td>\n      <td>8</td>\n      <td>0</td>\n      <td>1.0</td>\n      <td>6</td>\n      <td>1</td>\n      <td>0</td>\n      <td>0</td>\n    </tr>\n    <tr>\n      <th>1</th>\n      <td>31</td>\n      <td>Yes</td>\n      <td>Travel_Frequently</td>\n      <td>Research &amp; Development</td>\n      <td>10</td>\n      <td>1</td>\n      <td>Life Sciences</td>\n      <td>1</td>\n      <td>2</td>\n      <td>Female</td>\n      <td>...</td>\n      <td>0.0</td>\n      <td>Y</td>\n      <td>23</td>\n      <td>8</td>\n      <td>1</td>\n      <td>6.0</td>\n      <td>3</td>\n      <td>5</td>\n      <td>1</td>\n      <td>4</td>\n    </tr>\n    <tr>\n      <th>2</th>\n      <td>32</td>\n      <td>No</td>\n      <td>Travel_Frequently</td>\n      <td>Research &amp; Development</td>\n      <td>17</td>\n      <td>4</td>\n      <td>Other</td>\n      <td>1</td>\n      <td>3</td>\n      <td>Male</td>\n      <td>...</td>\n      <td>1.0</td>\n      <td>Y</td>\n      <td>15</td>\n      <td>8</td>\n      <td>3</td>\n      <td>5.0</td>\n      <td>2</td>\n      <td>5</td>\n      <td>0</td>\n      <td>3</td>\n    </tr>\n    <tr>\n      <th>3</th>\n      <td>38</td>\n      <td>No</td>\n      <td>Non-Travel</td>\n      <td>Research &amp; Development</td>\n      <td>2</td>\n      <td>5</td>\n      <td>Life Sciences</td>\n      <td>1</td>\n      <td>4</td>\n      <td>Male</td>\n      <td>...</td>\n      <td>3.0</td>\n      <td>Y</td>\n      <td>11</td>\n      <td>8</td>\n      <td>3</td>\n      <td>13.0</td>\n      <td>5</td>\n      <td>8</td>\n      <td>7</td>\n      <td>5</td>\n    </tr>\n    <tr>\n      <th>4</th>\n      <td>32</td>\n      <td>No</td>\n      <td>Travel_Rarely</td>\n      <td>Research &amp; Development</td>\n      <td>10</td>\n      <td>1</td>\n      <td>Medical</td>\n      <td>1</td>\n      <td>5</td>\n      <td>Male</td>\n      <td>...</td>\n      <td>4.0</td>\n      <td>Y</td>\n      <td>12</td>\n      <td>8</td>\n      <td>2</td>\n      <td>9.0</td>\n      <td>2</td>\n      <td>6</td>\n      <td>0</td>\n      <td>4</td>\n    </tr>\n    <tr>\n      <th>...</th>\n      <td>...</td>\n      <td>...</td>\n      <td>...</td>\n      <td>...</td>\n      <td>...</td>\n      <td>...</td>\n      <td>...</td>\n      <td>...</td>\n      <td>...</td>\n      <td>...</td>\n      <td>...</td>\n      <td>...</td>\n      <td>...</td>\n      <td>...</td>\n      <td>...</td>\n      <td>...</td>\n      <td>...</td>\n      <td>...</td>\n      <td>...</td>\n      <td>...</td>\n      <td>...</td>\n    </tr>\n    <tr>\n      <th>4405</th>\n      <td>42</td>\n      <td>No</td>\n      <td>Travel_Rarely</td>\n      <td>Research &amp; Development</td>\n      <td>5</td>\n      <td>4</td>\n      <td>Medical</td>\n      <td>1</td>\n      <td>4406</td>\n      <td>Female</td>\n      <td>...</td>\n      <td>3.0</td>\n      <td>Y</td>\n      <td>17</td>\n      <td>8</td>\n      <td>1</td>\n      <td>10.0</td>\n      <td>5</td>\n      <td>3</td>\n      <td>0</td>\n      <td>2</td>\n    </tr>\n    <tr>\n      <th>4406</th>\n      <td>29</td>\n      <td>No</td>\n      <td>Travel_Rarely</td>\n      <td>Research &amp; Development</td>\n      <td>2</td>\n      <td>4</td>\n      <td>Medical</td>\n      <td>1</td>\n      <td>4407</td>\n      <td>Male</td>\n      <td>...</td>\n      <td>2.0</td>\n      <td>Y</td>\n      <td>15</td>\n      <td>8</td>\n      <td>0</td>\n      <td>10.0</td>\n      <td>2</td>\n      <td>3</td>\n      <td>0</td>\n      <td>2</td>\n    </tr>\n    <tr>\n      <th>4407</th>\n      <td>25</td>\n      <td>No</td>\n      <td>Travel_Rarely</td>\n      <td>Research &amp; Development</td>\n      <td>25</td>\n      <td>2</td>\n      <td>Life Sciences</td>\n      <td>1</td>\n      <td>4408</td>\n      <td>Male</td>\n      <td>...</td>\n      <td>0.0</td>\n      <td>Y</td>\n      <td>20</td>\n      <td>8</td>\n      <td>0</td>\n      <td>5.0</td>\n      <td>4</td>\n      <td>4</td>\n      <td>1</td>\n      <td>2</td>\n    </tr>\n    <tr>\n      <th>4408</th>\n      <td>42</td>\n      <td>No</td>\n      <td>Travel_Rarely</td>\n      <td>Sales</td>\n      <td>18</td>\n      <td>2</td>\n      <td>Medical</td>\n      <td>1</td>\n      <td>4409</td>\n      <td>Male</td>\n      <td>...</td>\n      <td>0.0</td>\n      <td>Y</td>\n      <td>14</td>\n      <td>8</td>\n      <td>1</td>\n      <td>10.0</td>\n      <td>2</td>\n      <td>9</td>\n      <td>7</td>\n      <td>8</td>\n    </tr>\n    <tr>\n      <th>4409</th>\n      <td>40</td>\n      <td>No</td>\n      <td>Travel_Rarely</td>\n      <td>Research &amp; Development</td>\n      <td>28</td>\n      <td>3</td>\n      <td>Medical</td>\n      <td>1</td>\n      <td>4410</td>\n      <td>Male</td>\n      <td>...</td>\n      <td>0.0</td>\n      <td>Y</td>\n      <td>12</td>\n      <td>8</td>\n      <td>0</td>\n      <td>NaN</td>\n      <td>6</td>\n      <td>21</td>\n      <td>3</td>\n      <td>9</td>\n    </tr>\n  </tbody>\n</table>\n<p>4410 rows × 24 columns</p>\n</div>"
     },
     "execution_count": 39,
     "metadata": {},
     "output_type": "execute_result"
    }
   ],
   "source": [
    "import os\n",
    "import pandas as pd\n",
    "import numpy as np\n",
    "import pandas as pd\n",
    "from datetime import datetime\n",
    "from sklearn.base import BaseEstimator, TransformerMixin\n",
    "from sklearn.preprocessing import OneHotEncoder\n",
    "from sklearn.pipeline import Pipeline\n",
    "from sklearn.preprocessing import StandardScaler\n",
    "from sklearn.compose import ColumnTransformer\n",
    "from sklearn.impute import SimpleImputer\n",
    "\n",
    "def load_data(file):\n",
    "    return pd.read_csv(file)\n",
    "\n",
    "path = \"datas/\"\n",
    "general_data = load_data(path +\"general_data.csv\")\n",
    "employee_survey_data = load_data(path +\"employee_survey_data.csv\")\n",
    "manager_survey_data = load_data(path +\"manager_survey_data.csv\")\n",
    "in_time = load_data(path +\"in_time.csv\")\n",
    "out_time = load_data(path +\"out_time.csv\")\n",
    "#general_data.info()\n",
    "#test= general_data.drop(columns=['Attrition','BusinessTravel'],axis=1).select_dtypes(include=[\"object\"]).keys()\n",
    "general_data\n",
    "#print(test)"
   ]
  },
  {
   "cell_type": "code",
   "outputs": [],
   "source": [
    "def to_datetime(strdate):\n",
    "    if type(strdate) == str:\n",
    "        return datetime.strptime(strdate, \"%Y-%m-%d %H:%M:%S\").timestamp()\n",
    "    else:\n",
    "        return 0\n",
    "\n",
    "def get_working_time(in_time_data, out_time_data):\n",
    "    out_time_df = (\n",
    "        out_time_data\n",
    "        .iloc[:,1:]\n",
    "        .applymap(lambda x: to_datetime(x))\n",
    "    )\n",
    "    in_time_df = (\n",
    "        in_time_data\n",
    "        .iloc[:,1:]\n",
    "        .applymap(lambda x: to_datetime(x))\n",
    "    )\n",
    "    hours_per_day = out_time_df - in_time_df\n",
    "    in_time_data[\"MeanWorkingHours\"] = hours_per_day.mean(axis = 1)/3600\n",
    "    return in_time_data[[\"EmployeeID\", \"MeanWorkingHours\"]]"
   ],
   "metadata": {
    "collapsed": false,
    "ExecuteTime": {
     "end_time": "2024-02-08T10:29:30.087039600Z",
     "start_time": "2024-02-08T10:29:30.081529300Z"
    }
   },
   "id": "271d49d94327d26b",
   "execution_count": 40
  },
  {
   "cell_type": "code",
   "outputs": [],
   "source": [
    "class MergeDataFrame(BaseEstimator, TransformerMixin):\n",
    "    def __init__(self, employee_survey_data, manager_survey_data, in_time, out_time):\n",
    "        self.employee_survey_data = employee_survey_data\n",
    "        self.manager_survey_data = manager_survey_data\n",
    "        self.in_time= in_time\n",
    "        self.out_time = out_time\n",
    "    def fit(self, X, y=None):\n",
    "        return self\n",
    "\n",
    "    def transform(self, X, y=None):\n",
    "        X = X.join(self.employee_survey_data.set_index(\"EmployeeID\"), on=\"EmployeeID\")\n",
    "        X = X.join(self.manager_survey_data.set_index(\"EmployeeID\"), on=\"EmployeeID\")\n",
    "        X = pd.merge(X, get_working_time(in_time, out_time), on='EmployeeID', how='inner')\n",
    "\n",
    "        return X"
   ],
   "metadata": {
    "collapsed": false,
    "ExecuteTime": {
     "end_time": "2024-02-08T10:29:30.782940600Z",
     "start_time": "2024-02-08T10:29:30.780935Z"
    }
   },
   "id": "8bef0a826fe66ff0",
   "execution_count": 41
  },
  {
   "cell_type": "code",
   "outputs": [],
   "source": [
    "class DeleteUnEthicColumn(BaseEstimator, TransformerMixin):\n",
    "    def __init__(self, array):\n",
    "        self.array = array\n",
    "\n",
    "    def fit(self, X, y=None):\n",
    "        return self\n",
    "\n",
    "    def transform(self, X, y=None):\n",
    "        for i in self.array:\n",
    "            X.drop(i, axis=1, inplace=True)\n",
    "        return X\n"
   ],
   "metadata": {
    "collapsed": false,
    "ExecuteTime": {
     "end_time": "2024-02-08T10:29:31.363583800Z",
     "start_time": "2024-02-08T10:29:31.358240300Z"
    }
   },
   "id": "babb1799a5bf0fc",
   "execution_count": 42
  },
  {
   "cell_type": "code",
   "outputs": [],
   "source": [
    "class OrgDataFrame(BaseEstimator, TransformerMixin):\n",
    "    def fit(self, X, y=None):\n",
    "        return self\n",
    "\n",
    "    def transform(self, X, y=None):\n",
    "        X[\"Attrition\"] = X[\"Attrition\"].replace(to_replace=['No', 'Yes'], value=[-1, 1])\n",
    "        X[\"BusinessTravel\"] = X[\"BusinessTravel\"].replace(to_replace=['Non-Travel', 'Travel_Rarely', 'Travel_Frequently'], value=[1, 2, 3])\n",
    "        return X\n"
   ],
   "metadata": {
    "collapsed": false,
    "ExecuteTime": {
     "end_time": "2024-02-08T10:29:31.882077400Z",
     "start_time": "2024-02-08T10:29:31.879565800Z"
    }
   },
   "id": "a0021d709f01a9",
   "execution_count": 43
  },
  {
   "cell_type": "code",
   "outputs": [
    {
     "data": {
      "text/plain": "'class ScaleData(BaseEstimator, TransformerMixin):\\n    def __init__(self, array):\\n        self.array = array\\n\\n    def fit(self, X, y=None):\\n        return self\\n\\n    def transform(self, X, y=None):\\n        std_scale = StandardScaler().fit()\\n        X_scaled = pd.DataFrame(std_scale.transform(X), columns=X.columns)\\n        return X_scaled'"
     },
     "execution_count": 44,
     "metadata": {},
     "output_type": "execute_result"
    }
   ],
   "source": [
    "'''class ScaleData(BaseEstimator, TransformerMixin):\n",
    "    def __init__(self, array):\n",
    "        self.array = array\n",
    "\n",
    "    def fit(self, X, y=None):\n",
    "        return self\n",
    "\n",
    "    def transform(self, X, y=None):\n",
    "        std_scale = StandardScaler().fit()\n",
    "        X_scaled = pd.DataFrame(std_scale.transform(X), columns=X.columns)\n",
    "        return X_scaled'''"
   ],
   "metadata": {
    "collapsed": false,
    "ExecuteTime": {
     "end_time": "2024-02-08T10:29:32.332265700Z",
     "start_time": "2024-02-08T10:29:32.328461200Z"
    }
   },
   "id": "3ad81de1b6687b8e",
   "execution_count": 44
  },
  {
   "cell_type": "code",
   "outputs": [],
   "source": [
    "def build_pipeline(X):\n",
    "\n",
    "#Pipeline one for preparation\n",
    "    #Merge all files in one and change in and out datetime\n",
    "    prepa_pipeline= Pipeline([\n",
    "        (\"merge\", MergeDataFrame(load_data(path +\"employee_survey_data.csv\"),\n",
    "                                 load_data(path +\"manager_survey_data.csv\"),\n",
    "                                 load_data(path +\"in_time.csv\"),\n",
    "                                 load_data(path +\"out_time.csv\"))),\n",
    "        #delete useless columns and unEthic\n",
    "        (\"delete\", DeleteUnEthicColumn([\n",
    "                                        \"Age\",\n",
    "                                        \"Over18\",\n",
    "                                        \"Gender\",\n",
    "                                        \"MaritalStatus\",\n",
    "                                        \"EmployeeCount\",\n",
    "                                        \"StandardHours\",\n",
    "                                        \"EmployeeID\"\n",
    "        \n",
    "        ])),\n",
    "        #encode Attrition and BusinessTravel columns\n",
    "        (\"label\",OrgDataFrame()),\n",
    "    ])\n",
    "    #create a DataFrame with pipeline \n",
    "    data_pipeline = prepa_pipeline.fit_transform(X)\n",
    "    ###print(data_pipeline)\n",
    "    #create label for classification\n",
    "    y = data_pipeline['Attrition']\n",
    "    \n",
    "    #list all columns who are object to onehot encode them\n",
    "    object_attribs= data_pipeline.drop(columns=['Attrition','BusinessTravel'],axis=1).select_dtypes(include=[\"object\"]).keys()\n",
    "    ###print(type(object_attribs))\n",
    "    ###num_search = data_pipeline.drop(columns=['Attrition'],axis=1).select_dtypes(include=[np.number])\n",
    "    #list all columns who are number to scale them\n",
    "    num_search = data_pipeline.select_dtypes(include=[np.number])\n",
    "    num_attribs = list(num_search)\n",
    "    #print(object_attribs)\n",
    "    print(num_attribs)\n",
    "\n",
    "    #create onehot encode step pipeline   \n",
    "    onehot_pipeline = Pipeline(steps=[\n",
    "        ('onehot',OneHotEncoder())\n",
    "    ])\n",
    "    #create scale step pipeline\n",
    "    scale_pipeline = Pipeline(steps=[\n",
    "        ('imputer', SimpleImputer(strategy=\"median\")),\n",
    "        ('std_scaler', StandardScaler()),\n",
    "    ])\n",
    "    #create column transformers \n",
    "    pipeline = ColumnTransformer(transformers=[\n",
    "        (\"numerisation\",scale_pipeline,num_attribs),\n",
    "        (\"one\", onehot_pipeline, object_attribs) \n",
    "        ],\n",
    "        remainder='drop',\n",
    "        n_jobs=-1)\n",
    "\n",
    "    #create final pipeline\n",
    "    full_pipeline = Pipeline(steps=[\n",
    "        (\"pipeline\", pipeline),\n",
    "    ])\n",
    "\n",
    "    #print pipeline\n",
    "    from sklearn import set_config\n",
    "    set_config(display='diagram')\n",
    "    display(full_pipeline)\n",
    "    \n",
    "    #execute pipeline\n",
    "    data_fullpipeline = full_pipeline.fit_transform(data_pipeline)\n",
    "    \n",
    "\n",
    "\n",
    "    #get all columns name to recreate index on dataFrame\n",
    "    cols_names=full_pipeline.named_steps[\"pipeline\"].named_transformers_[\"one\"].named_steps[\"onehot\"].get_feature_names_out(object_attribs)\n",
    "    all_cols=np.concatenate([num_attribs,cols_names])\n",
    "    data_fullpipeline=pd.DataFrame(data_fullpipeline,columns=all_cols)\n",
    "    \n",
    "    #create unlabeled dataset\n",
    "    X = data_fullpipeline.drop(columns=['Attrition'],axis=1)\n",
    "\n",
    "    \n",
    "    return data_fullpipeline, X, y"
   ],
   "metadata": {
    "collapsed": false,
    "ExecuteTime": {
     "end_time": "2024-02-08T10:29:32.928974Z",
     "start_time": "2024-02-08T10:29:32.921339800Z"
    }
   },
   "id": "7ee40bb06bd0618d",
   "execution_count": 45
  },
  {
   "cell_type": "code",
   "outputs": [
    {
     "name": "stdout",
     "output_type": "stream",
     "text": [
      "['Attrition', 'BusinessTravel', 'DistanceFromHome', 'Education', 'JobLevel', 'MonthlyIncome', 'NumCompaniesWorked', 'PercentSalaryHike', 'StockOptionLevel', 'TotalWorkingYears', 'TrainingTimesLastYear', 'YearsAtCompany', 'YearsSinceLastPromotion', 'YearsWithCurrManager', 'EnvironmentSatisfaction', 'JobSatisfaction', 'WorkLifeBalance', 'JobInvolvement', 'PerformanceRating', 'MeanWorkingHours']\n"
     ]
    },
    {
     "data": {
      "text/plain": "Pipeline(steps=[('pipeline',\n                 ColumnTransformer(n_jobs=-1,\n                                   transformers=[('numerisation',\n                                                  Pipeline(steps=[('imputer',\n                                                                   SimpleImputer(strategy='median')),\n                                                                  ('std_scaler',\n                                                                   StandardScaler())]),\n                                                  ['Attrition',\n                                                   'BusinessTravel',\n                                                   'DistanceFromHome',\n                                                   'Education', 'JobLevel',\n                                                   'MonthlyIncome',\n                                                   'NumCompaniesWorked',\n                                                   'PercentSalaryHike',\n                                                   'StockOptionLevel',\n                                                   'TotalWorkingYears',\n                                                   'TrainingTimesLastYear',\n                                                   'YearsAtCompany',\n                                                   'YearsSinceLastPromotion',\n                                                   'YearsWithCurrManager',\n                                                   'EnvironmentSatisfaction',\n                                                   'JobSatisfaction',\n                                                   'WorkLifeBalance',\n                                                   'JobInvolvement',\n                                                   'PerformanceRating',\n                                                   'MeanWorkingHours']),\n                                                 ('one',\n                                                  Pipeline(steps=[('onehot',\n                                                                   OneHotEncoder())]),\n                                                  Index(['Department', 'EducationField', 'JobRole'], dtype='object'))]))])",
      "text/html": "<style>#sk-container-id-9 {\n  /* Definition of color scheme common for light and dark mode */\n  --sklearn-color-text: black;\n  --sklearn-color-line: gray;\n  /* Definition of color scheme for unfitted estimators */\n  --sklearn-color-unfitted-level-0: #fff5e6;\n  --sklearn-color-unfitted-level-1: #f6e4d2;\n  --sklearn-color-unfitted-level-2: #ffe0b3;\n  --sklearn-color-unfitted-level-3: chocolate;\n  /* Definition of color scheme for fitted estimators */\n  --sklearn-color-fitted-level-0: #f0f8ff;\n  --sklearn-color-fitted-level-1: #d4ebff;\n  --sklearn-color-fitted-level-2: #b3dbfd;\n  --sklearn-color-fitted-level-3: cornflowerblue;\n\n  /* Specific color for light theme */\n  --sklearn-color-text-on-default-background: var(--sg-text-color, var(--theme-code-foreground, var(--jp-content-font-color1, black)));\n  --sklearn-color-background: var(--sg-background-color, var(--theme-background, var(--jp-layout-color0, white)));\n  --sklearn-color-border-box: var(--sg-text-color, var(--theme-code-foreground, var(--jp-content-font-color1, black)));\n  --sklearn-color-icon: #696969;\n\n  @media (prefers-color-scheme: dark) {\n    /* Redefinition of color scheme for dark theme */\n    --sklearn-color-text-on-default-background: var(--sg-text-color, var(--theme-code-foreground, var(--jp-content-font-color1, white)));\n    --sklearn-color-background: var(--sg-background-color, var(--theme-background, var(--jp-layout-color0, #111)));\n    --sklearn-color-border-box: var(--sg-text-color, var(--theme-code-foreground, var(--jp-content-font-color1, white)));\n    --sklearn-color-icon: #878787;\n  }\n}\n\n#sk-container-id-9 {\n  color: var(--sklearn-color-text);\n}\n\n#sk-container-id-9 pre {\n  padding: 0;\n}\n\n#sk-container-id-9 input.sk-hidden--visually {\n  border: 0;\n  clip: rect(1px 1px 1px 1px);\n  clip: rect(1px, 1px, 1px, 1px);\n  height: 1px;\n  margin: -1px;\n  overflow: hidden;\n  padding: 0;\n  position: absolute;\n  width: 1px;\n}\n\n#sk-container-id-9 div.sk-dashed-wrapped {\n  border: 1px dashed var(--sklearn-color-line);\n  margin: 0 0.4em 0.5em 0.4em;\n  box-sizing: border-box;\n  padding-bottom: 0.4em;\n  background-color: var(--sklearn-color-background);\n}\n\n#sk-container-id-9 div.sk-container {\n  /* jupyter's `normalize.less` sets `[hidden] { display: none; }`\n     but bootstrap.min.css set `[hidden] { display: none !important; }`\n     so we also need the `!important` here to be able to override the\n     default hidden behavior on the sphinx rendered scikit-learn.org.\n     See: https://github.com/scikit-learn/scikit-learn/issues/21755 */\n  display: inline-block !important;\n  position: relative;\n}\n\n#sk-container-id-9 div.sk-text-repr-fallback {\n  display: none;\n}\n\ndiv.sk-parallel-item,\ndiv.sk-serial,\ndiv.sk-item {\n  /* draw centered vertical line to link estimators */\n  background-image: linear-gradient(var(--sklearn-color-text-on-default-background), var(--sklearn-color-text-on-default-background));\n  background-size: 2px 100%;\n  background-repeat: no-repeat;\n  background-position: center center;\n}\n\n/* Parallel-specific style estimator block */\n\n#sk-container-id-9 div.sk-parallel-item::after {\n  content: \"\";\n  width: 100%;\n  border-bottom: 2px solid var(--sklearn-color-text-on-default-background);\n  flex-grow: 1;\n}\n\n#sk-container-id-9 div.sk-parallel {\n  display: flex;\n  align-items: stretch;\n  justify-content: center;\n  background-color: var(--sklearn-color-background);\n  position: relative;\n}\n\n#sk-container-id-9 div.sk-parallel-item {\n  display: flex;\n  flex-direction: column;\n}\n\n#sk-container-id-9 div.sk-parallel-item:first-child::after {\n  align-self: flex-end;\n  width: 50%;\n}\n\n#sk-container-id-9 div.sk-parallel-item:last-child::after {\n  align-self: flex-start;\n  width: 50%;\n}\n\n#sk-container-id-9 div.sk-parallel-item:only-child::after {\n  width: 0;\n}\n\n/* Serial-specific style estimator block */\n\n#sk-container-id-9 div.sk-serial {\n  display: flex;\n  flex-direction: column;\n  align-items: center;\n  background-color: var(--sklearn-color-background);\n  padding-right: 1em;\n  padding-left: 1em;\n}\n\n\n/* Toggleable style: style used for estimator/Pipeline/ColumnTransformer box that is\nclickable and can be expanded/collapsed.\n- Pipeline and ColumnTransformer use this feature and define the default style\n- Estimators will overwrite some part of the style using the `sk-estimator` class\n*/\n\n/* Pipeline and ColumnTransformer style (default) */\n\n#sk-container-id-9 div.sk-toggleable {\n  /* Default theme specific background. It is overwritten whether we have a\n  specific estimator or a Pipeline/ColumnTransformer */\n  background-color: var(--sklearn-color-background);\n}\n\n/* Toggleable label */\n#sk-container-id-9 label.sk-toggleable__label {\n  cursor: pointer;\n  display: block;\n  width: 100%;\n  margin-bottom: 0;\n  padding: 0.5em;\n  box-sizing: border-box;\n  text-align: center;\n}\n\n#sk-container-id-9 label.sk-toggleable__label-arrow:before {\n  /* Arrow on the left of the label */\n  content: \"▸\";\n  float: left;\n  margin-right: 0.25em;\n  color: var(--sklearn-color-icon);\n}\n\n#sk-container-id-9 label.sk-toggleable__label-arrow:hover:before {\n  color: var(--sklearn-color-text);\n}\n\n/* Toggleable content - dropdown */\n\n#sk-container-id-9 div.sk-toggleable__content {\n  max-height: 0;\n  max-width: 0;\n  overflow: hidden;\n  text-align: left;\n  /* unfitted */\n  background-color: var(--sklearn-color-unfitted-level-0);\n}\n\n#sk-container-id-9 div.sk-toggleable__content.fitted {\n  /* fitted */\n  background-color: var(--sklearn-color-fitted-level-0);\n}\n\n#sk-container-id-9 div.sk-toggleable__content pre {\n  margin: 0.2em;\n  border-radius: 0.25em;\n  color: var(--sklearn-color-text);\n  /* unfitted */\n  background-color: var(--sklearn-color-unfitted-level-0);\n}\n\n#sk-container-id-9 div.sk-toggleable__content.fitted pre {\n  /* unfitted */\n  background-color: var(--sklearn-color-fitted-level-0);\n}\n\n#sk-container-id-9 input.sk-toggleable__control:checked~div.sk-toggleable__content {\n  /* Expand drop-down */\n  max-height: 200px;\n  max-width: 100%;\n  overflow: auto;\n}\n\n#sk-container-id-9 input.sk-toggleable__control:checked~label.sk-toggleable__label-arrow:before {\n  content: \"▾\";\n}\n\n/* Pipeline/ColumnTransformer-specific style */\n\n#sk-container-id-9 div.sk-label input.sk-toggleable__control:checked~label.sk-toggleable__label {\n  color: var(--sklearn-color-text);\n  background-color: var(--sklearn-color-unfitted-level-2);\n}\n\n#sk-container-id-9 div.sk-label.fitted input.sk-toggleable__control:checked~label.sk-toggleable__label {\n  background-color: var(--sklearn-color-fitted-level-2);\n}\n\n/* Estimator-specific style */\n\n/* Colorize estimator box */\n#sk-container-id-9 div.sk-estimator input.sk-toggleable__control:checked~label.sk-toggleable__label {\n  /* unfitted */\n  background-color: var(--sklearn-color-unfitted-level-2);\n}\n\n#sk-container-id-9 div.sk-estimator.fitted input.sk-toggleable__control:checked~label.sk-toggleable__label {\n  /* fitted */\n  background-color: var(--sklearn-color-fitted-level-2);\n}\n\n#sk-container-id-9 div.sk-label label.sk-toggleable__label,\n#sk-container-id-9 div.sk-label label {\n  /* The background is the default theme color */\n  color: var(--sklearn-color-text-on-default-background);\n}\n\n/* On hover, darken the color of the background */\n#sk-container-id-9 div.sk-label:hover label.sk-toggleable__label {\n  color: var(--sklearn-color-text);\n  background-color: var(--sklearn-color-unfitted-level-2);\n}\n\n/* Label box, darken color on hover, fitted */\n#sk-container-id-9 div.sk-label.fitted:hover label.sk-toggleable__label.fitted {\n  color: var(--sklearn-color-text);\n  background-color: var(--sklearn-color-fitted-level-2);\n}\n\n/* Estimator label */\n\n#sk-container-id-9 div.sk-label label {\n  font-family: monospace;\n  font-weight: bold;\n  display: inline-block;\n  line-height: 1.2em;\n}\n\n#sk-container-id-9 div.sk-label-container {\n  text-align: center;\n}\n\n/* Estimator-specific */\n#sk-container-id-9 div.sk-estimator {\n  font-family: monospace;\n  border: 1px dotted var(--sklearn-color-border-box);\n  border-radius: 0.25em;\n  box-sizing: border-box;\n  margin-bottom: 0.5em;\n  /* unfitted */\n  background-color: var(--sklearn-color-unfitted-level-0);\n}\n\n#sk-container-id-9 div.sk-estimator.fitted {\n  /* fitted */\n  background-color: var(--sklearn-color-fitted-level-0);\n}\n\n/* on hover */\n#sk-container-id-9 div.sk-estimator:hover {\n  /* unfitted */\n  background-color: var(--sklearn-color-unfitted-level-2);\n}\n\n#sk-container-id-9 div.sk-estimator.fitted:hover {\n  /* fitted */\n  background-color: var(--sklearn-color-fitted-level-2);\n}\n\n/* Specification for estimator info (e.g. \"i\" and \"?\") */\n\n/* Common style for \"i\" and \"?\" */\n\n.sk-estimator-doc-link,\na:link.sk-estimator-doc-link,\na:visited.sk-estimator-doc-link {\n  float: right;\n  font-size: smaller;\n  line-height: 1em;\n  font-family: monospace;\n  background-color: var(--sklearn-color-background);\n  border-radius: 1em;\n  height: 1em;\n  width: 1em;\n  text-decoration: none !important;\n  margin-left: 1ex;\n  /* unfitted */\n  border: var(--sklearn-color-unfitted-level-1) 1pt solid;\n  color: var(--sklearn-color-unfitted-level-1);\n}\n\n.sk-estimator-doc-link.fitted,\na:link.sk-estimator-doc-link.fitted,\na:visited.sk-estimator-doc-link.fitted {\n  /* fitted */\n  border: var(--sklearn-color-fitted-level-1) 1pt solid;\n  color: var(--sklearn-color-fitted-level-1);\n}\n\n/* On hover */\ndiv.sk-estimator:hover .sk-estimator-doc-link:hover,\n.sk-estimator-doc-link:hover,\ndiv.sk-label-container:hover .sk-estimator-doc-link:hover,\n.sk-estimator-doc-link:hover {\n  /* unfitted */\n  background-color: var(--sklearn-color-unfitted-level-3);\n  color: var(--sklearn-color-background);\n  text-decoration: none;\n}\n\ndiv.sk-estimator.fitted:hover .sk-estimator-doc-link.fitted:hover,\n.sk-estimator-doc-link.fitted:hover,\ndiv.sk-label-container:hover .sk-estimator-doc-link.fitted:hover,\n.sk-estimator-doc-link.fitted:hover {\n  /* fitted */\n  background-color: var(--sklearn-color-fitted-level-3);\n  color: var(--sklearn-color-background);\n  text-decoration: none;\n}\n\n/* Span, style for the box shown on hovering the info icon */\n.sk-estimator-doc-link span {\n  display: none;\n  z-index: 9999;\n  position: relative;\n  font-weight: normal;\n  right: .2ex;\n  padding: .5ex;\n  margin: .5ex;\n  width: min-content;\n  min-width: 20ex;\n  max-width: 50ex;\n  color: var(--sklearn-color-text);\n  box-shadow: 2pt 2pt 4pt #999;\n  /* unfitted */\n  background: var(--sklearn-color-unfitted-level-0);\n  border: .5pt solid var(--sklearn-color-unfitted-level-3);\n}\n\n.sk-estimator-doc-link.fitted span {\n  /* fitted */\n  background: var(--sklearn-color-fitted-level-0);\n  border: var(--sklearn-color-fitted-level-3);\n}\n\n.sk-estimator-doc-link:hover span {\n  display: block;\n}\n\n/* \"?\"-specific style due to the `<a>` HTML tag */\n\n#sk-container-id-9 a.estimator_doc_link {\n  float: right;\n  font-size: 1rem;\n  line-height: 1em;\n  font-family: monospace;\n  background-color: var(--sklearn-color-background);\n  border-radius: 1rem;\n  height: 1rem;\n  width: 1rem;\n  text-decoration: none;\n  /* unfitted */\n  color: var(--sklearn-color-unfitted-level-1);\n  border: var(--sklearn-color-unfitted-level-1) 1pt solid;\n}\n\n#sk-container-id-9 a.estimator_doc_link.fitted {\n  /* fitted */\n  border: var(--sklearn-color-fitted-level-1) 1pt solid;\n  color: var(--sklearn-color-fitted-level-1);\n}\n\n/* On hover */\n#sk-container-id-9 a.estimator_doc_link:hover {\n  /* unfitted */\n  background-color: var(--sklearn-color-unfitted-level-3);\n  color: var(--sklearn-color-background);\n  text-decoration: none;\n}\n\n#sk-container-id-9 a.estimator_doc_link.fitted:hover {\n  /* fitted */\n  background-color: var(--sklearn-color-fitted-level-3);\n}\n</style><div id=\"sk-container-id-9\" class=\"sk-top-container\"><div class=\"sk-text-repr-fallback\"><pre>Pipeline(steps=[(&#x27;pipeline&#x27;,\n                 ColumnTransformer(n_jobs=-1,\n                                   transformers=[(&#x27;numerisation&#x27;,\n                                                  Pipeline(steps=[(&#x27;imputer&#x27;,\n                                                                   SimpleImputer(strategy=&#x27;median&#x27;)),\n                                                                  (&#x27;std_scaler&#x27;,\n                                                                   StandardScaler())]),\n                                                  [&#x27;Attrition&#x27;,\n                                                   &#x27;BusinessTravel&#x27;,\n                                                   &#x27;DistanceFromHome&#x27;,\n                                                   &#x27;Education&#x27;, &#x27;JobLevel&#x27;,\n                                                   &#x27;MonthlyIncome&#x27;,\n                                                   &#x27;NumCompaniesWorked&#x27;,\n                                                   &#x27;PercentSalaryHike&#x27;,\n                                                   &#x27;StockOptionLevel&#x27;,\n                                                   &#x27;TotalWorkingYears&#x27;,\n                                                   &#x27;TrainingTimesLastYear&#x27;,\n                                                   &#x27;YearsAtCompany&#x27;,\n                                                   &#x27;YearsSinceLastPromotion&#x27;,\n                                                   &#x27;YearsWithCurrManager&#x27;,\n                                                   &#x27;EnvironmentSatisfaction&#x27;,\n                                                   &#x27;JobSatisfaction&#x27;,\n                                                   &#x27;WorkLifeBalance&#x27;,\n                                                   &#x27;JobInvolvement&#x27;,\n                                                   &#x27;PerformanceRating&#x27;,\n                                                   &#x27;MeanWorkingHours&#x27;]),\n                                                 (&#x27;one&#x27;,\n                                                  Pipeline(steps=[(&#x27;onehot&#x27;,\n                                                                   OneHotEncoder())]),\n                                                  Index([&#x27;Department&#x27;, &#x27;EducationField&#x27;, &#x27;JobRole&#x27;], dtype=&#x27;object&#x27;))]))])</pre><b>In a Jupyter environment, please rerun this cell to show the HTML representation or trust the notebook. <br />On GitHub, the HTML representation is unable to render, please try loading this page with nbviewer.org.</b></div><div class=\"sk-container\" hidden><div class=\"sk-item sk-dashed-wrapped\"><div class=\"sk-label-container\"><div class=\"sk-label  sk-toggleable\"><input class=\"sk-toggleable__control sk-hidden--visually\" id=\"sk-estimator-id-49\" type=\"checkbox\" ><label for=\"sk-estimator-id-49\" class=\"sk-toggleable__label  sk-toggleable__label-arrow \">&nbsp;&nbsp;Pipeline<a class=\"sk-estimator-doc-link \" rel=\"noreferrer\" target=\"_blank\" href=\"https://scikit-learn.org/1.4/modules/generated/sklearn.pipeline.Pipeline.html\">?<span>Documentation for Pipeline</span></a><span class=\"sk-estimator-doc-link \">i<span>Not fitted</span></span></label><div class=\"sk-toggleable__content \"><pre>Pipeline(steps=[(&#x27;pipeline&#x27;,\n                 ColumnTransformer(n_jobs=-1,\n                                   transformers=[(&#x27;numerisation&#x27;,\n                                                  Pipeline(steps=[(&#x27;imputer&#x27;,\n                                                                   SimpleImputer(strategy=&#x27;median&#x27;)),\n                                                                  (&#x27;std_scaler&#x27;,\n                                                                   StandardScaler())]),\n                                                  [&#x27;Attrition&#x27;,\n                                                   &#x27;BusinessTravel&#x27;,\n                                                   &#x27;DistanceFromHome&#x27;,\n                                                   &#x27;Education&#x27;, &#x27;JobLevel&#x27;,\n                                                   &#x27;MonthlyIncome&#x27;,\n                                                   &#x27;NumCompaniesWorked&#x27;,\n                                                   &#x27;PercentSalaryHike&#x27;,\n                                                   &#x27;StockOptionLevel&#x27;,\n                                                   &#x27;TotalWorkingYears&#x27;,\n                                                   &#x27;TrainingTimesLastYear&#x27;,\n                                                   &#x27;YearsAtCompany&#x27;,\n                                                   &#x27;YearsSinceLastPromotion&#x27;,\n                                                   &#x27;YearsWithCurrManager&#x27;,\n                                                   &#x27;EnvironmentSatisfaction&#x27;,\n                                                   &#x27;JobSatisfaction&#x27;,\n                                                   &#x27;WorkLifeBalance&#x27;,\n                                                   &#x27;JobInvolvement&#x27;,\n                                                   &#x27;PerformanceRating&#x27;,\n                                                   &#x27;MeanWorkingHours&#x27;]),\n                                                 (&#x27;one&#x27;,\n                                                  Pipeline(steps=[(&#x27;onehot&#x27;,\n                                                                   OneHotEncoder())]),\n                                                  Index([&#x27;Department&#x27;, &#x27;EducationField&#x27;, &#x27;JobRole&#x27;], dtype=&#x27;object&#x27;))]))])</pre></div> </div></div><div class=\"sk-serial\"><div class=\"sk-item sk-dashed-wrapped\"><div class=\"sk-label-container\"><div class=\"sk-label  sk-toggleable\"><input class=\"sk-toggleable__control sk-hidden--visually\" id=\"sk-estimator-id-50\" type=\"checkbox\" ><label for=\"sk-estimator-id-50\" class=\"sk-toggleable__label  sk-toggleable__label-arrow \">&nbsp;pipeline: ColumnTransformer<a class=\"sk-estimator-doc-link \" rel=\"noreferrer\" target=\"_blank\" href=\"https://scikit-learn.org/1.4/modules/generated/sklearn.compose.ColumnTransformer.html\">?<span>Documentation for pipeline: ColumnTransformer</span></a></label><div class=\"sk-toggleable__content \"><pre>ColumnTransformer(n_jobs=-1,\n                  transformers=[(&#x27;numerisation&#x27;,\n                                 Pipeline(steps=[(&#x27;imputer&#x27;,\n                                                  SimpleImputer(strategy=&#x27;median&#x27;)),\n                                                 (&#x27;std_scaler&#x27;,\n                                                  StandardScaler())]),\n                                 [&#x27;Attrition&#x27;, &#x27;BusinessTravel&#x27;,\n                                  &#x27;DistanceFromHome&#x27;, &#x27;Education&#x27;, &#x27;JobLevel&#x27;,\n                                  &#x27;MonthlyIncome&#x27;, &#x27;NumCompaniesWorked&#x27;,\n                                  &#x27;PercentSalaryHike&#x27;, &#x27;StockOptionLevel&#x27;,\n                                  &#x27;TotalWorkingYears&#x27;, &#x27;TrainingTimesLastYear&#x27;,\n                                  &#x27;YearsAtCompany&#x27;, &#x27;YearsSinceLastPromotion&#x27;,\n                                  &#x27;YearsWithCurrManager&#x27;,\n                                  &#x27;EnvironmentSatisfaction&#x27;, &#x27;JobSatisfaction&#x27;,\n                                  &#x27;WorkLifeBalance&#x27;, &#x27;JobInvolvement&#x27;,\n                                  &#x27;PerformanceRating&#x27;, &#x27;MeanWorkingHours&#x27;]),\n                                (&#x27;one&#x27;,\n                                 Pipeline(steps=[(&#x27;onehot&#x27;, OneHotEncoder())]),\n                                 Index([&#x27;Department&#x27;, &#x27;EducationField&#x27;, &#x27;JobRole&#x27;], dtype=&#x27;object&#x27;))])</pre></div> </div></div><div class=\"sk-parallel\"><div class=\"sk-parallel-item\"><div class=\"sk-item\"><div class=\"sk-label-container\"><div class=\"sk-label  sk-toggleable\"><input class=\"sk-toggleable__control sk-hidden--visually\" id=\"sk-estimator-id-51\" type=\"checkbox\" ><label for=\"sk-estimator-id-51\" class=\"sk-toggleable__label  sk-toggleable__label-arrow \">numerisation</label><div class=\"sk-toggleable__content \"><pre>[&#x27;Attrition&#x27;, &#x27;BusinessTravel&#x27;, &#x27;DistanceFromHome&#x27;, &#x27;Education&#x27;, &#x27;JobLevel&#x27;, &#x27;MonthlyIncome&#x27;, &#x27;NumCompaniesWorked&#x27;, &#x27;PercentSalaryHike&#x27;, &#x27;StockOptionLevel&#x27;, &#x27;TotalWorkingYears&#x27;, &#x27;TrainingTimesLastYear&#x27;, &#x27;YearsAtCompany&#x27;, &#x27;YearsSinceLastPromotion&#x27;, &#x27;YearsWithCurrManager&#x27;, &#x27;EnvironmentSatisfaction&#x27;, &#x27;JobSatisfaction&#x27;, &#x27;WorkLifeBalance&#x27;, &#x27;JobInvolvement&#x27;, &#x27;PerformanceRating&#x27;, &#x27;MeanWorkingHours&#x27;]</pre></div> </div></div><div class=\"sk-serial\"><div class=\"sk-item\"><div class=\"sk-serial\"><div class=\"sk-item\"><div class=\"sk-estimator  sk-toggleable\"><input class=\"sk-toggleable__control sk-hidden--visually\" id=\"sk-estimator-id-52\" type=\"checkbox\" ><label for=\"sk-estimator-id-52\" class=\"sk-toggleable__label  sk-toggleable__label-arrow \">&nbsp;SimpleImputer<a class=\"sk-estimator-doc-link \" rel=\"noreferrer\" target=\"_blank\" href=\"https://scikit-learn.org/1.4/modules/generated/sklearn.impute.SimpleImputer.html\">?<span>Documentation for SimpleImputer</span></a></label><div class=\"sk-toggleable__content \"><pre>SimpleImputer(strategy=&#x27;median&#x27;)</pre></div> </div></div><div class=\"sk-item\"><div class=\"sk-estimator  sk-toggleable\"><input class=\"sk-toggleable__control sk-hidden--visually\" id=\"sk-estimator-id-53\" type=\"checkbox\" ><label for=\"sk-estimator-id-53\" class=\"sk-toggleable__label  sk-toggleable__label-arrow \">&nbsp;StandardScaler<a class=\"sk-estimator-doc-link \" rel=\"noreferrer\" target=\"_blank\" href=\"https://scikit-learn.org/1.4/modules/generated/sklearn.preprocessing.StandardScaler.html\">?<span>Documentation for StandardScaler</span></a></label><div class=\"sk-toggleable__content \"><pre>StandardScaler()</pre></div> </div></div></div></div></div></div></div><div class=\"sk-parallel-item\"><div class=\"sk-item\"><div class=\"sk-label-container\"><div class=\"sk-label  sk-toggleable\"><input class=\"sk-toggleable__control sk-hidden--visually\" id=\"sk-estimator-id-54\" type=\"checkbox\" ><label for=\"sk-estimator-id-54\" class=\"sk-toggleable__label  sk-toggleable__label-arrow \">one</label><div class=\"sk-toggleable__content \"><pre>Index([&#x27;Department&#x27;, &#x27;EducationField&#x27;, &#x27;JobRole&#x27;], dtype=&#x27;object&#x27;)</pre></div> </div></div><div class=\"sk-serial\"><div class=\"sk-item\"><div class=\"sk-serial\"><div class=\"sk-item\"><div class=\"sk-estimator  sk-toggleable\"><input class=\"sk-toggleable__control sk-hidden--visually\" id=\"sk-estimator-id-55\" type=\"checkbox\" ><label for=\"sk-estimator-id-55\" class=\"sk-toggleable__label  sk-toggleable__label-arrow \">&nbsp;OneHotEncoder<a class=\"sk-estimator-doc-link \" rel=\"noreferrer\" target=\"_blank\" href=\"https://scikit-learn.org/1.4/modules/generated/sklearn.preprocessing.OneHotEncoder.html\">?<span>Documentation for OneHotEncoder</span></a></label><div class=\"sk-toggleable__content \"><pre>OneHotEncoder()</pre></div> </div></div></div></div></div></div></div></div></div></div></div></div></div>"
     },
     "metadata": {},
     "output_type": "display_data"
    }
   ],
   "source": [
    "data, X, y = build_pipeline(general_data)"
   ],
   "metadata": {
    "collapsed": false,
    "ExecuteTime": {
     "end_time": "2024-02-08T10:29:46.251561900Z",
     "start_time": "2024-02-08T10:29:33.857157700Z"
    }
   },
   "id": "87bf5a6d120cfcfe",
   "execution_count": 46
  },
  {
   "cell_type": "code",
   "outputs": [
    {
     "data": {
      "text/plain": "      Attrition  BusinessTravel  DistanceFromHome  Education  JobLevel  \\\n0     -0.438422       -0.162399         -0.393938  -0.891688 -0.961486   \n1      2.280906        1.717339          0.099639  -1.868426 -0.961486   \n2     -0.438422        1.717339          0.963398   1.061787  1.749610   \n3     -0.438422       -2.042138         -0.887515   2.038524  0.845911   \n4     -0.438422       -0.162399          0.099639  -1.868426 -0.961486   \n...         ...             ...               ...        ...       ...   \n4405  -0.438422       -0.162399         -0.517332   1.061787 -0.961486   \n4406  -0.438422       -0.162399         -0.887515   1.061787 -0.961486   \n4407  -0.438422       -0.162399          1.950552  -0.891688 -0.057788   \n4408  -0.438422       -0.162399          1.086793  -0.891688 -0.961486   \n4409  -0.438422       -0.162399          2.320735   0.085049 -0.057788   \n\n      MonthlyIncome  NumCompaniesWorked  PercentSalaryHike  StockOptionLevel  \\\n0          1.405136           -0.678464          -1.150554         -0.932014   \n1         -0.491661           -1.079486           2.129306          0.241988   \n2          2.725053           -0.678464          -0.057267          2.589994   \n3          0.386301            0.123580          -1.150554          2.589994   \n4         -0.884109            0.524602          -0.877232          1.415991   \n...             ...                 ...                ...               ...   \n4405      -0.100700            0.123580           0.489376          0.241988   \n4406      -0.812504           -0.277442          -0.057267         -0.932014   \n4407      -0.595138           -1.079486           1.309341         -0.932014   \n4408      -0.872210           -1.079486          -0.330589          0.241988   \n4409      -0.219901           -1.079486          -0.877232         -0.932014   \n\n      TotalWorkingYears  ...  EducationField_Technical Degree  \\\n0             -1.322079  ...                              0.0   \n1             -0.678877  ...                              0.0   \n2             -0.807517  ...                              0.0   \n3              0.221606  ...                              0.0   \n4             -0.292956  ...                              0.0   \n...                 ...  ...                              ...   \n4405          -0.164315  ...                              0.0   \n4406          -0.164315  ...                              0.0   \n4407          -0.807517  ...                              0.0   \n4408          -0.164315  ...                              0.0   \n4409          -0.164315  ...                              0.0   \n\n      JobRole_Healthcare Representative  JobRole_Human Resources  \\\n0                                   1.0                      0.0   \n1                                   0.0                      0.0   \n2                                   0.0                      0.0   \n3                                   0.0                      1.0   \n4                                   0.0                      0.0   \n...                                 ...                      ...   \n4405                                0.0                      0.0   \n4406                                0.0                      0.0   \n4407                                0.0                      0.0   \n4408                                0.0                      0.0   \n4409                                0.0                      0.0   \n\n      JobRole_Laboratory Technician  JobRole_Manager  \\\n0                               0.0              0.0   \n1                               0.0              0.0   \n2                               0.0              0.0   \n3                               0.0              0.0   \n4                               0.0              0.0   \n...                             ...              ...   \n4405                            0.0              0.0   \n4406                            1.0              0.0   \n4407                            0.0              0.0   \n4408                            1.0              0.0   \n4409                            1.0              0.0   \n\n      JobRole_Manufacturing Director  JobRole_Research Director  \\\n0                                0.0                        0.0   \n1                                0.0                        0.0   \n2                                0.0                        0.0   \n3                                0.0                        0.0   \n4                                0.0                        0.0   \n...                              ...                        ...   \n4405                             0.0                        0.0   \n4406                             0.0                        0.0   \n4407                             0.0                        0.0   \n4408                             0.0                        0.0   \n4409                             0.0                        0.0   \n\n      JobRole_Research Scientist  JobRole_Sales Executive  \\\n0                            0.0                      0.0   \n1                            1.0                      0.0   \n2                            0.0                      1.0   \n3                            0.0                      0.0   \n4                            0.0                      1.0   \n...                          ...                      ...   \n4405                         1.0                      0.0   \n4406                         0.0                      0.0   \n4407                         0.0                      1.0   \n4408                         0.0                      0.0   \n4409                         0.0                      0.0   \n\n      JobRole_Sales Representative  \n0                              0.0  \n1                              0.0  \n2                              0.0  \n3                              0.0  \n4                              0.0  \n...                            ...  \n4405                           0.0  \n4406                           0.0  \n4407                           0.0  \n4408                           0.0  \n4409                           0.0  \n\n[4410 rows x 38 columns]",
      "text/html": "<div>\n<style scoped>\n    .dataframe tbody tr th:only-of-type {\n        vertical-align: middle;\n    }\n\n    .dataframe tbody tr th {\n        vertical-align: top;\n    }\n\n    .dataframe thead th {\n        text-align: right;\n    }\n</style>\n<table border=\"1\" class=\"dataframe\">\n  <thead>\n    <tr style=\"text-align: right;\">\n      <th></th>\n      <th>Attrition</th>\n      <th>BusinessTravel</th>\n      <th>DistanceFromHome</th>\n      <th>Education</th>\n      <th>JobLevel</th>\n      <th>MonthlyIncome</th>\n      <th>NumCompaniesWorked</th>\n      <th>PercentSalaryHike</th>\n      <th>StockOptionLevel</th>\n      <th>TotalWorkingYears</th>\n      <th>...</th>\n      <th>EducationField_Technical Degree</th>\n      <th>JobRole_Healthcare Representative</th>\n      <th>JobRole_Human Resources</th>\n      <th>JobRole_Laboratory Technician</th>\n      <th>JobRole_Manager</th>\n      <th>JobRole_Manufacturing Director</th>\n      <th>JobRole_Research Director</th>\n      <th>JobRole_Research Scientist</th>\n      <th>JobRole_Sales Executive</th>\n      <th>JobRole_Sales Representative</th>\n    </tr>\n  </thead>\n  <tbody>\n    <tr>\n      <th>0</th>\n      <td>-0.438422</td>\n      <td>-0.162399</td>\n      <td>-0.393938</td>\n      <td>-0.891688</td>\n      <td>-0.961486</td>\n      <td>1.405136</td>\n      <td>-0.678464</td>\n      <td>-1.150554</td>\n      <td>-0.932014</td>\n      <td>-1.322079</td>\n      <td>...</td>\n      <td>0.0</td>\n      <td>1.0</td>\n      <td>0.0</td>\n      <td>0.0</td>\n      <td>0.0</td>\n      <td>0.0</td>\n      <td>0.0</td>\n      <td>0.0</td>\n      <td>0.0</td>\n      <td>0.0</td>\n    </tr>\n    <tr>\n      <th>1</th>\n      <td>2.280906</td>\n      <td>1.717339</td>\n      <td>0.099639</td>\n      <td>-1.868426</td>\n      <td>-0.961486</td>\n      <td>-0.491661</td>\n      <td>-1.079486</td>\n      <td>2.129306</td>\n      <td>0.241988</td>\n      <td>-0.678877</td>\n      <td>...</td>\n      <td>0.0</td>\n      <td>0.0</td>\n      <td>0.0</td>\n      <td>0.0</td>\n      <td>0.0</td>\n      <td>0.0</td>\n      <td>0.0</td>\n      <td>1.0</td>\n      <td>0.0</td>\n      <td>0.0</td>\n    </tr>\n    <tr>\n      <th>2</th>\n      <td>-0.438422</td>\n      <td>1.717339</td>\n      <td>0.963398</td>\n      <td>1.061787</td>\n      <td>1.749610</td>\n      <td>2.725053</td>\n      <td>-0.678464</td>\n      <td>-0.057267</td>\n      <td>2.589994</td>\n      <td>-0.807517</td>\n      <td>...</td>\n      <td>0.0</td>\n      <td>0.0</td>\n      <td>0.0</td>\n      <td>0.0</td>\n      <td>0.0</td>\n      <td>0.0</td>\n      <td>0.0</td>\n      <td>0.0</td>\n      <td>1.0</td>\n      <td>0.0</td>\n    </tr>\n    <tr>\n      <th>3</th>\n      <td>-0.438422</td>\n      <td>-2.042138</td>\n      <td>-0.887515</td>\n      <td>2.038524</td>\n      <td>0.845911</td>\n      <td>0.386301</td>\n      <td>0.123580</td>\n      <td>-1.150554</td>\n      <td>2.589994</td>\n      <td>0.221606</td>\n      <td>...</td>\n      <td>0.0</td>\n      <td>0.0</td>\n      <td>1.0</td>\n      <td>0.0</td>\n      <td>0.0</td>\n      <td>0.0</td>\n      <td>0.0</td>\n      <td>0.0</td>\n      <td>0.0</td>\n      <td>0.0</td>\n    </tr>\n    <tr>\n      <th>4</th>\n      <td>-0.438422</td>\n      <td>-0.162399</td>\n      <td>0.099639</td>\n      <td>-1.868426</td>\n      <td>-0.961486</td>\n      <td>-0.884109</td>\n      <td>0.524602</td>\n      <td>-0.877232</td>\n      <td>1.415991</td>\n      <td>-0.292956</td>\n      <td>...</td>\n      <td>0.0</td>\n      <td>0.0</td>\n      <td>0.0</td>\n      <td>0.0</td>\n      <td>0.0</td>\n      <td>0.0</td>\n      <td>0.0</td>\n      <td>0.0</td>\n      <td>1.0</td>\n      <td>0.0</td>\n    </tr>\n    <tr>\n      <th>...</th>\n      <td>...</td>\n      <td>...</td>\n      <td>...</td>\n      <td>...</td>\n      <td>...</td>\n      <td>...</td>\n      <td>...</td>\n      <td>...</td>\n      <td>...</td>\n      <td>...</td>\n      <td>...</td>\n      <td>...</td>\n      <td>...</td>\n      <td>...</td>\n      <td>...</td>\n      <td>...</td>\n      <td>...</td>\n      <td>...</td>\n      <td>...</td>\n      <td>...</td>\n      <td>...</td>\n    </tr>\n    <tr>\n      <th>4405</th>\n      <td>-0.438422</td>\n      <td>-0.162399</td>\n      <td>-0.517332</td>\n      <td>1.061787</td>\n      <td>-0.961486</td>\n      <td>-0.100700</td>\n      <td>0.123580</td>\n      <td>0.489376</td>\n      <td>0.241988</td>\n      <td>-0.164315</td>\n      <td>...</td>\n      <td>0.0</td>\n      <td>0.0</td>\n      <td>0.0</td>\n      <td>0.0</td>\n      <td>0.0</td>\n      <td>0.0</td>\n      <td>0.0</td>\n      <td>1.0</td>\n      <td>0.0</td>\n      <td>0.0</td>\n    </tr>\n    <tr>\n      <th>4406</th>\n      <td>-0.438422</td>\n      <td>-0.162399</td>\n      <td>-0.887515</td>\n      <td>1.061787</td>\n      <td>-0.961486</td>\n      <td>-0.812504</td>\n      <td>-0.277442</td>\n      <td>-0.057267</td>\n      <td>-0.932014</td>\n      <td>-0.164315</td>\n      <td>...</td>\n      <td>0.0</td>\n      <td>0.0</td>\n      <td>0.0</td>\n      <td>1.0</td>\n      <td>0.0</td>\n      <td>0.0</td>\n      <td>0.0</td>\n      <td>0.0</td>\n      <td>0.0</td>\n      <td>0.0</td>\n    </tr>\n    <tr>\n      <th>4407</th>\n      <td>-0.438422</td>\n      <td>-0.162399</td>\n      <td>1.950552</td>\n      <td>-0.891688</td>\n      <td>-0.057788</td>\n      <td>-0.595138</td>\n      <td>-1.079486</td>\n      <td>1.309341</td>\n      <td>-0.932014</td>\n      <td>-0.807517</td>\n      <td>...</td>\n      <td>0.0</td>\n      <td>0.0</td>\n      <td>0.0</td>\n      <td>0.0</td>\n      <td>0.0</td>\n      <td>0.0</td>\n      <td>0.0</td>\n      <td>0.0</td>\n      <td>1.0</td>\n      <td>0.0</td>\n    </tr>\n    <tr>\n      <th>4408</th>\n      <td>-0.438422</td>\n      <td>-0.162399</td>\n      <td>1.086793</td>\n      <td>-0.891688</td>\n      <td>-0.961486</td>\n      <td>-0.872210</td>\n      <td>-1.079486</td>\n      <td>-0.330589</td>\n      <td>0.241988</td>\n      <td>-0.164315</td>\n      <td>...</td>\n      <td>0.0</td>\n      <td>0.0</td>\n      <td>0.0</td>\n      <td>1.0</td>\n      <td>0.0</td>\n      <td>0.0</td>\n      <td>0.0</td>\n      <td>0.0</td>\n      <td>0.0</td>\n      <td>0.0</td>\n    </tr>\n    <tr>\n      <th>4409</th>\n      <td>-0.438422</td>\n      <td>-0.162399</td>\n      <td>2.320735</td>\n      <td>0.085049</td>\n      <td>-0.057788</td>\n      <td>-0.219901</td>\n      <td>-1.079486</td>\n      <td>-0.877232</td>\n      <td>-0.932014</td>\n      <td>-0.164315</td>\n      <td>...</td>\n      <td>0.0</td>\n      <td>0.0</td>\n      <td>0.0</td>\n      <td>1.0</td>\n      <td>0.0</td>\n      <td>0.0</td>\n      <td>0.0</td>\n      <td>0.0</td>\n      <td>0.0</td>\n      <td>0.0</td>\n    </tr>\n  </tbody>\n</table>\n<p>4410 rows × 38 columns</p>\n</div>"
     },
     "execution_count": 47,
     "metadata": {},
     "output_type": "execute_result"
    }
   ],
   "source": [
    "data"
   ],
   "metadata": {
    "collapsed": false,
    "ExecuteTime": {
     "end_time": "2024-02-08T10:29:47.656081400Z",
     "start_time": "2024-02-08T10:29:47.602654500Z"
    }
   },
   "id": "89200b686423d37f",
   "execution_count": 47
  },
  {
   "cell_type": "code",
   "outputs": [
    {
     "data": {
      "text/plain": "      BusinessTravel  DistanceFromHome  Education  JobLevel  MonthlyIncome  \\\n0          -0.162399         -0.393938  -0.891688 -0.961486       1.405136   \n1           1.717339          0.099639  -1.868426 -0.961486      -0.491661   \n2           1.717339          0.963398   1.061787  1.749610       2.725053   \n3          -2.042138         -0.887515   2.038524  0.845911       0.386301   \n4          -0.162399          0.099639  -1.868426 -0.961486      -0.884109   \n...              ...               ...        ...       ...            ...   \n4405       -0.162399         -0.517332   1.061787 -0.961486      -0.100700   \n4406       -0.162399         -0.887515   1.061787 -0.961486      -0.812504   \n4407       -0.162399          1.950552  -0.891688 -0.057788      -0.595138   \n4408       -0.162399          1.086793  -0.891688 -0.961486      -0.872210   \n4409       -0.162399          2.320735   0.085049 -0.057788      -0.219901   \n\n      NumCompaniesWorked  PercentSalaryHike  StockOptionLevel  \\\n0              -0.678464          -1.150554         -0.932014   \n1              -1.079486           2.129306          0.241988   \n2              -0.678464          -0.057267          2.589994   \n3               0.123580          -1.150554          2.589994   \n4               0.524602          -0.877232          1.415991   \n...                  ...                ...               ...   \n4405            0.123580           0.489376          0.241988   \n4406           -0.277442          -0.057267         -0.932014   \n4407           -1.079486           1.309341         -0.932014   \n4408           -1.079486          -0.330589          0.241988   \n4409           -1.079486          -0.877232         -0.932014   \n\n      TotalWorkingYears  TrainingTimesLastYear  ...  \\\n0             -1.322079               2.483396  ...   \n1             -0.678877               0.155707  ...   \n2             -0.807517              -0.620189  ...   \n3              0.221606               1.707500  ...   \n4             -0.292956              -0.620189  ...   \n...                 ...                    ...  ...   \n4405          -0.164315               1.707500  ...   \n4406          -0.164315              -0.620189  ...   \n4407          -0.807517               0.931603  ...   \n4408          -0.164315              -0.620189  ...   \n4409          -0.164315               2.483396  ...   \n\n      EducationField_Technical Degree  JobRole_Healthcare Representative  \\\n0                                 0.0                                1.0   \n1                                 0.0                                0.0   \n2                                 0.0                                0.0   \n3                                 0.0                                0.0   \n4                                 0.0                                0.0   \n...                               ...                                ...   \n4405                              0.0                                0.0   \n4406                              0.0                                0.0   \n4407                              0.0                                0.0   \n4408                              0.0                                0.0   \n4409                              0.0                                0.0   \n\n      JobRole_Human Resources  JobRole_Laboratory Technician  JobRole_Manager  \\\n0                         0.0                            0.0              0.0   \n1                         0.0                            0.0              0.0   \n2                         0.0                            0.0              0.0   \n3                         1.0                            0.0              0.0   \n4                         0.0                            0.0              0.0   \n...                       ...                            ...              ...   \n4405                      0.0                            0.0              0.0   \n4406                      0.0                            1.0              0.0   \n4407                      0.0                            0.0              0.0   \n4408                      0.0                            1.0              0.0   \n4409                      0.0                            1.0              0.0   \n\n      JobRole_Manufacturing Director  JobRole_Research Director  \\\n0                                0.0                        0.0   \n1                                0.0                        0.0   \n2                                0.0                        0.0   \n3                                0.0                        0.0   \n4                                0.0                        0.0   \n...                              ...                        ...   \n4405                             0.0                        0.0   \n4406                             0.0                        0.0   \n4407                             0.0                        0.0   \n4408                             0.0                        0.0   \n4409                             0.0                        0.0   \n\n      JobRole_Research Scientist  JobRole_Sales Executive  \\\n0                            0.0                      0.0   \n1                            1.0                      0.0   \n2                            0.0                      1.0   \n3                            0.0                      0.0   \n4                            0.0                      1.0   \n...                          ...                      ...   \n4405                         1.0                      0.0   \n4406                         0.0                      0.0   \n4407                         0.0                      1.0   \n4408                         0.0                      0.0   \n4409                         0.0                      0.0   \n\n      JobRole_Sales Representative  \n0                              0.0  \n1                              0.0  \n2                              0.0  \n3                              0.0  \n4                              0.0  \n...                            ...  \n4405                           0.0  \n4406                           0.0  \n4407                           0.0  \n4408                           0.0  \n4409                           0.0  \n\n[4410 rows x 37 columns]",
      "text/html": "<div>\n<style scoped>\n    .dataframe tbody tr th:only-of-type {\n        vertical-align: middle;\n    }\n\n    .dataframe tbody tr th {\n        vertical-align: top;\n    }\n\n    .dataframe thead th {\n        text-align: right;\n    }\n</style>\n<table border=\"1\" class=\"dataframe\">\n  <thead>\n    <tr style=\"text-align: right;\">\n      <th></th>\n      <th>BusinessTravel</th>\n      <th>DistanceFromHome</th>\n      <th>Education</th>\n      <th>JobLevel</th>\n      <th>MonthlyIncome</th>\n      <th>NumCompaniesWorked</th>\n      <th>PercentSalaryHike</th>\n      <th>StockOptionLevel</th>\n      <th>TotalWorkingYears</th>\n      <th>TrainingTimesLastYear</th>\n      <th>...</th>\n      <th>EducationField_Technical Degree</th>\n      <th>JobRole_Healthcare Representative</th>\n      <th>JobRole_Human Resources</th>\n      <th>JobRole_Laboratory Technician</th>\n      <th>JobRole_Manager</th>\n      <th>JobRole_Manufacturing Director</th>\n      <th>JobRole_Research Director</th>\n      <th>JobRole_Research Scientist</th>\n      <th>JobRole_Sales Executive</th>\n      <th>JobRole_Sales Representative</th>\n    </tr>\n  </thead>\n  <tbody>\n    <tr>\n      <th>0</th>\n      <td>-0.162399</td>\n      <td>-0.393938</td>\n      <td>-0.891688</td>\n      <td>-0.961486</td>\n      <td>1.405136</td>\n      <td>-0.678464</td>\n      <td>-1.150554</td>\n      <td>-0.932014</td>\n      <td>-1.322079</td>\n      <td>2.483396</td>\n      <td>...</td>\n      <td>0.0</td>\n      <td>1.0</td>\n      <td>0.0</td>\n      <td>0.0</td>\n      <td>0.0</td>\n      <td>0.0</td>\n      <td>0.0</td>\n      <td>0.0</td>\n      <td>0.0</td>\n      <td>0.0</td>\n    </tr>\n    <tr>\n      <th>1</th>\n      <td>1.717339</td>\n      <td>0.099639</td>\n      <td>-1.868426</td>\n      <td>-0.961486</td>\n      <td>-0.491661</td>\n      <td>-1.079486</td>\n      <td>2.129306</td>\n      <td>0.241988</td>\n      <td>-0.678877</td>\n      <td>0.155707</td>\n      <td>...</td>\n      <td>0.0</td>\n      <td>0.0</td>\n      <td>0.0</td>\n      <td>0.0</td>\n      <td>0.0</td>\n      <td>0.0</td>\n      <td>0.0</td>\n      <td>1.0</td>\n      <td>0.0</td>\n      <td>0.0</td>\n    </tr>\n    <tr>\n      <th>2</th>\n      <td>1.717339</td>\n      <td>0.963398</td>\n      <td>1.061787</td>\n      <td>1.749610</td>\n      <td>2.725053</td>\n      <td>-0.678464</td>\n      <td>-0.057267</td>\n      <td>2.589994</td>\n      <td>-0.807517</td>\n      <td>-0.620189</td>\n      <td>...</td>\n      <td>0.0</td>\n      <td>0.0</td>\n      <td>0.0</td>\n      <td>0.0</td>\n      <td>0.0</td>\n      <td>0.0</td>\n      <td>0.0</td>\n      <td>0.0</td>\n      <td>1.0</td>\n      <td>0.0</td>\n    </tr>\n    <tr>\n      <th>3</th>\n      <td>-2.042138</td>\n      <td>-0.887515</td>\n      <td>2.038524</td>\n      <td>0.845911</td>\n      <td>0.386301</td>\n      <td>0.123580</td>\n      <td>-1.150554</td>\n      <td>2.589994</td>\n      <td>0.221606</td>\n      <td>1.707500</td>\n      <td>...</td>\n      <td>0.0</td>\n      <td>0.0</td>\n      <td>1.0</td>\n      <td>0.0</td>\n      <td>0.0</td>\n      <td>0.0</td>\n      <td>0.0</td>\n      <td>0.0</td>\n      <td>0.0</td>\n      <td>0.0</td>\n    </tr>\n    <tr>\n      <th>4</th>\n      <td>-0.162399</td>\n      <td>0.099639</td>\n      <td>-1.868426</td>\n      <td>-0.961486</td>\n      <td>-0.884109</td>\n      <td>0.524602</td>\n      <td>-0.877232</td>\n      <td>1.415991</td>\n      <td>-0.292956</td>\n      <td>-0.620189</td>\n      <td>...</td>\n      <td>0.0</td>\n      <td>0.0</td>\n      <td>0.0</td>\n      <td>0.0</td>\n      <td>0.0</td>\n      <td>0.0</td>\n      <td>0.0</td>\n      <td>0.0</td>\n      <td>1.0</td>\n      <td>0.0</td>\n    </tr>\n    <tr>\n      <th>...</th>\n      <td>...</td>\n      <td>...</td>\n      <td>...</td>\n      <td>...</td>\n      <td>...</td>\n      <td>...</td>\n      <td>...</td>\n      <td>...</td>\n      <td>...</td>\n      <td>...</td>\n      <td>...</td>\n      <td>...</td>\n      <td>...</td>\n      <td>...</td>\n      <td>...</td>\n      <td>...</td>\n      <td>...</td>\n      <td>...</td>\n      <td>...</td>\n      <td>...</td>\n      <td>...</td>\n    </tr>\n    <tr>\n      <th>4405</th>\n      <td>-0.162399</td>\n      <td>-0.517332</td>\n      <td>1.061787</td>\n      <td>-0.961486</td>\n      <td>-0.100700</td>\n      <td>0.123580</td>\n      <td>0.489376</td>\n      <td>0.241988</td>\n      <td>-0.164315</td>\n      <td>1.707500</td>\n      <td>...</td>\n      <td>0.0</td>\n      <td>0.0</td>\n      <td>0.0</td>\n      <td>0.0</td>\n      <td>0.0</td>\n      <td>0.0</td>\n      <td>0.0</td>\n      <td>1.0</td>\n      <td>0.0</td>\n      <td>0.0</td>\n    </tr>\n    <tr>\n      <th>4406</th>\n      <td>-0.162399</td>\n      <td>-0.887515</td>\n      <td>1.061787</td>\n      <td>-0.961486</td>\n      <td>-0.812504</td>\n      <td>-0.277442</td>\n      <td>-0.057267</td>\n      <td>-0.932014</td>\n      <td>-0.164315</td>\n      <td>-0.620189</td>\n      <td>...</td>\n      <td>0.0</td>\n      <td>0.0</td>\n      <td>0.0</td>\n      <td>1.0</td>\n      <td>0.0</td>\n      <td>0.0</td>\n      <td>0.0</td>\n      <td>0.0</td>\n      <td>0.0</td>\n      <td>0.0</td>\n    </tr>\n    <tr>\n      <th>4407</th>\n      <td>-0.162399</td>\n      <td>1.950552</td>\n      <td>-0.891688</td>\n      <td>-0.057788</td>\n      <td>-0.595138</td>\n      <td>-1.079486</td>\n      <td>1.309341</td>\n      <td>-0.932014</td>\n      <td>-0.807517</td>\n      <td>0.931603</td>\n      <td>...</td>\n      <td>0.0</td>\n      <td>0.0</td>\n      <td>0.0</td>\n      <td>0.0</td>\n      <td>0.0</td>\n      <td>0.0</td>\n      <td>0.0</td>\n      <td>0.0</td>\n      <td>1.0</td>\n      <td>0.0</td>\n    </tr>\n    <tr>\n      <th>4408</th>\n      <td>-0.162399</td>\n      <td>1.086793</td>\n      <td>-0.891688</td>\n      <td>-0.961486</td>\n      <td>-0.872210</td>\n      <td>-1.079486</td>\n      <td>-0.330589</td>\n      <td>0.241988</td>\n      <td>-0.164315</td>\n      <td>-0.620189</td>\n      <td>...</td>\n      <td>0.0</td>\n      <td>0.0</td>\n      <td>0.0</td>\n      <td>1.0</td>\n      <td>0.0</td>\n      <td>0.0</td>\n      <td>0.0</td>\n      <td>0.0</td>\n      <td>0.0</td>\n      <td>0.0</td>\n    </tr>\n    <tr>\n      <th>4409</th>\n      <td>-0.162399</td>\n      <td>2.320735</td>\n      <td>0.085049</td>\n      <td>-0.057788</td>\n      <td>-0.219901</td>\n      <td>-1.079486</td>\n      <td>-0.877232</td>\n      <td>-0.932014</td>\n      <td>-0.164315</td>\n      <td>2.483396</td>\n      <td>...</td>\n      <td>0.0</td>\n      <td>0.0</td>\n      <td>0.0</td>\n      <td>1.0</td>\n      <td>0.0</td>\n      <td>0.0</td>\n      <td>0.0</td>\n      <td>0.0</td>\n      <td>0.0</td>\n      <td>0.0</td>\n    </tr>\n  </tbody>\n</table>\n<p>4410 rows × 37 columns</p>\n</div>"
     },
     "execution_count": 48,
     "metadata": {},
     "output_type": "execute_result"
    }
   ],
   "source": [
    "X    "
   ],
   "metadata": {
    "collapsed": false,
    "ExecuteTime": {
     "end_time": "2024-02-08T10:31:57.458994600Z",
     "start_time": "2024-02-08T10:31:57.437965800Z"
    }
   },
   "id": "88b29300961fe612",
   "execution_count": 48
  },
  {
   "cell_type": "code",
   "outputs": [
    {
     "data": {
      "text/plain": "0      -1\n1       1\n2      -1\n3      -1\n4      -1\n       ..\n4405   -1\n4406   -1\n4407   -1\n4408   -1\n4409   -1\nName: Attrition, Length: 4410, dtype: int64"
     },
     "execution_count": 49,
     "metadata": {},
     "output_type": "execute_result"
    }
   ],
   "source": [
    "y"
   ],
   "metadata": {
    "collapsed": false,
    "ExecuteTime": {
     "end_time": "2024-02-08T10:32:03.190744500Z",
     "start_time": "2024-02-08T10:32:03.186120800Z"
    }
   },
   "id": "16de0fe6f1b636f9",
   "execution_count": 49
  },
  {
   "cell_type": "code",
   "outputs": [],
   "source": [],
   "metadata": {
    "collapsed": false
   },
   "id": "9cd7a9beea4d2cea"
  }
 ],
 "metadata": {
  "kernelspec": {
   "display_name": "Python 3",
   "language": "python",
   "name": "python3"
  },
  "language_info": {
   "codemirror_mode": {
    "name": "ipython",
    "version": 2
   },
   "file_extension": ".py",
   "mimetype": "text/x-python",
   "name": "python",
   "nbconvert_exporter": "python",
   "pygments_lexer": "ipython2",
   "version": "2.7.6"
  }
 },
 "nbformat": 4,
 "nbformat_minor": 5
}
