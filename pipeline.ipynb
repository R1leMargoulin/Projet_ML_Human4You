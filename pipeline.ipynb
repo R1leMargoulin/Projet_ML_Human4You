{
 "cells": [
  {
   "cell_type": "code",
   "execution_count": 68,
   "id": "initial_id",
   "metadata": {
    "collapsed": true,
    "ExecuteTime": {
     "end_time": "2024-02-07T18:12:36.078119700Z",
     "start_time": "2024-02-07T18:12:34.881775400Z"
    }
   },
   "outputs": [
    {
     "name": "stdout",
     "output_type": "stream",
     "text": [
      "Index(['Department', 'EducationField', 'Gender', 'JobRole', 'MaritalStatus',\n",
      "       'Over18'],\n",
      "      dtype='object')\n"
     ]
    }
   ],
   "source": [
    "import os\n",
    "import pandas as pd\n",
    "import numpy as np\n",
    "import pandas as pd\n",
    "from datetime import datetime\n",
    "from sklearn.base import BaseEstimator, TransformerMixin\n",
    "from sklearn.preprocessing import OneHotEncoder\n",
    "from sklearn.pipeline import Pipeline\n",
    "from sklearn.preprocessing import StandardScaler\n",
    "from sklearn.compose import ColumnTransformer\n",
    "\n",
    "def load_data(file):\n",
    "    return pd.read_csv(file)\n",
    "\n",
    "path = \"datas/\"\n",
    "general_data = load_data(path +\"general_data.csv\")\n",
    "employee_survey_data = load_data(path +\"employee_survey_data.csv\")\n",
    "manager_survey_data = load_data(path +\"manager_survey_data.csv\")\n",
    "in_time = load_data(path +\"in_time.csv\")\n",
    "out_time = load_data(path +\"out_time.csv\")\n",
    "#general_data.info()\n",
    "test= general_data.drop(columns=['Attrition','BusinessTravel'],axis=1).select_dtypes(include=[\"object\"]).keys()\n",
    "general_data\n",
    "print(test)"
   ]
  },
  {
   "cell_type": "code",
   "outputs": [],
   "source": [
    "def to_datetime(strdate):\n",
    "    if type(strdate) == str:\n",
    "        return datetime.strptime(strdate, \"%Y-%m-%d %H:%M:%S\").timestamp()\n",
    "    else:\n",
    "        return 0\n",
    "\n",
    "def get_working_time(in_time_data, out_time_data):\n",
    "    out_time_df = (\n",
    "        out_time_data\n",
    "        .iloc[:,1:]\n",
    "        .applymap(lambda x: to_datetime(x))\n",
    "    )\n",
    "    in_time_df = (\n",
    "        in_time_data\n",
    "        .iloc[:,1:]\n",
    "        .applymap(lambda x: to_datetime(x))\n",
    "    )\n",
    "    hours_per_day = out_time_df - in_time_df\n",
    "    in_time_data[\"MeanWorkingHours\"] = hours_per_day.mean(axis = 1)/3600\n",
    "    return in_time_data[[\"EmployeeID\", \"MeanWorkingHours\"]]"
   ],
   "metadata": {
    "collapsed": false,
    "ExecuteTime": {
     "end_time": "2024-02-07T18:12:38.685045900Z",
     "start_time": "2024-02-07T18:12:38.674272500Z"
    }
   },
   "id": "271d49d94327d26b",
   "execution_count": 69
  },
  {
   "cell_type": "code",
   "outputs": [],
   "source": [
    "class MergeDataFrame(BaseEstimator, TransformerMixin):\n",
    "    def __init__(self, employee_survey_data, manager_survey_data, in_time, out_time):\n",
    "        self.employee_survey_data = employee_survey_data\n",
    "        self.manager_survey_data = manager_survey_data\n",
    "        self.in_time= in_time\n",
    "        self.out_time = out_time\n",
    "    def fit(self, X, y=None):\n",
    "        return self\n",
    "\n",
    "    def transform(self, X, y=None):\n",
    "        X = X.join(self.employee_survey_data.set_index(\"EmployeeID\"), on=\"EmployeeID\")\n",
    "        X = X.join(self.manager_survey_data.set_index(\"EmployeeID\"), on=\"EmployeeID\")\n",
    "        X = pd.merge(X, get_working_time(in_time, out_time), on='EmployeeID', how='inner')\n",
    "\n",
    "        return X"
   ],
   "metadata": {
    "collapsed": false,
    "ExecuteTime": {
     "end_time": "2024-02-07T18:12:39.456304600Z",
     "start_time": "2024-02-07T18:12:39.450734400Z"
    }
   },
   "id": "8bef0a826fe66ff0",
   "execution_count": 70
  },
  {
   "cell_type": "code",
   "outputs": [],
   "source": [
    "class DeleteUnEthicColumn(BaseEstimator, TransformerMixin):\n",
    "    def __init__(self, array):\n",
    "        self.array = array\n",
    "\n",
    "    def fit(self, X, y=None):\n",
    "        return self\n",
    "\n",
    "    def transform(self, X, y=None):\n",
    "        for i in self.array:\n",
    "            X.drop(i, axis=1, inplace=True)\n",
    "        return X\n"
   ],
   "metadata": {
    "collapsed": false,
    "ExecuteTime": {
     "end_time": "2024-02-07T18:12:39.990036500Z",
     "start_time": "2024-02-07T18:12:39.981911Z"
    }
   },
   "id": "babb1799a5bf0fc",
   "execution_count": 71
  },
  {
   "cell_type": "code",
   "outputs": [],
   "source": [
    "class OrgDataFrame(BaseEstimator, TransformerMixin):\n",
    "    def fit(self, X, y=None):\n",
    "        return self\n",
    "\n",
    "    def transform(self, X, y=None):\n",
    "        X[\"Attrition\"] = X[\"Attrition\"].replace(to_replace=['No', 'Yes'], value=[-1, 1])\n",
    "        X[\"BusinessTravel\"] = X[\"BusinessTravel\"].replace(to_replace=['Non-Travel', 'Travel_Rarely', 'Travel_Frequently'], value=[1, 2, 3])\n",
    "        return X\n"
   ],
   "metadata": {
    "collapsed": false,
    "ExecuteTime": {
     "end_time": "2024-02-07T18:12:40.561114900Z",
     "start_time": "2024-02-07T18:12:40.555593500Z"
    }
   },
   "id": "a0021d709f01a9",
   "execution_count": 72
  },
  {
   "cell_type": "code",
   "outputs": [
    {
     "data": {
      "text/plain": "'class OneHotDataFrame(BaseEstimator, TransformerMixin):\\n    def fit(self, X, y=None):\\n        return self\\n\\n    def transform(self, X, y=None):\\n        one_hot_encoder = OneHotEncoder()\\n        object_attribs= X.select_dtypes(include=[\"object\"]).keys()\\n\\n        encoded_datas_array = one_hot_encoder.fit_transform(object_attribs).toarray()\\n        encoded_datas_labels = one_hot_encoder.categories_\\n        encoded_datas_labels = np.hstack([\\n        encoded_data = pd.DataFrame(encoded_datas_array, columns=encoded_datas_labels)\\n        #encoded_data[\"EmployeeID\"] = datas[\"EmployeeID\"]\\n\\n\\n        X = X.join(encoded_data)\\n        X.drop([\\'EducationField\\', \\'Department\\', \"JobRole\"], axis=1, inplace=True, errors=\"ignore\")'"
     },
     "execution_count": 73,
     "metadata": {},
     "output_type": "execute_result"
    }
   ],
   "source": [
    "'''class OneHotDataFrame(BaseEstimator, TransformerMixin):\n",
    "    def fit(self, X, y=None):\n",
    "        return self\n",
    "\n",
    "    def transform(self, X, y=None):\n",
    "        one_hot_encoder = OneHotEncoder()\n",
    "        object_attribs= X.select_dtypes(include=[\"object\"]).keys()\n",
    "\n",
    "        encoded_datas_array = one_hot_encoder.fit_transform(object_attribs).toarray()\n",
    "        encoded_datas_labels = one_hot_encoder.categories_\n",
    "        encoded_datas_labels = np.hstack([\n",
    "        encoded_data = pd.DataFrame(encoded_datas_array, columns=encoded_datas_labels)\n",
    "        #encoded_data[\"EmployeeID\"] = datas[\"EmployeeID\"]\n",
    "\n",
    "\n",
    "        X = X.join(encoded_data)\n",
    "        X.drop(['EducationField', 'Department', \"JobRole\"], axis=1, inplace=True, errors=\"ignore\")'''\n",
    "\n",
    "\n"
   ],
   "metadata": {
    "collapsed": false,
    "ExecuteTime": {
     "end_time": "2024-02-07T18:12:41.016829Z",
     "start_time": "2024-02-07T18:12:41.006291300Z"
    }
   },
   "id": "6737748deef8d2a0",
   "execution_count": 73
  },
  {
   "cell_type": "code",
   "outputs": [],
   "source": [
    "class ScaleData(BaseEstimator, TransformerMixin):\n",
    "    def __init__(self, array):\n",
    "        self.array = array\n",
    "\n",
    "    def fit(self, X, y=None):\n",
    "        return self\n",
    "\n",
    "    def transform(self, X, y=None):\n",
    "        std_scale = StandardScaler().fit()\n",
    "        X_scaled = pd.DataFrame(std_scale.transform(X), columns=X.columns)\n",
    "        return X_scaled"
   ],
   "metadata": {
    "collapsed": false,
    "ExecuteTime": {
     "end_time": "2024-02-07T18:12:41.458880300Z",
     "start_time": "2024-02-07T18:12:41.452869500Z"
    }
   },
   "id": "3ad81de1b6687b8e",
   "execution_count": 74
  },
  {
   "cell_type": "code",
   "outputs": [],
   "source": [
    "def build_pipeline(X):\n",
    "\n",
    "#Pipeline one for preparation\n",
    "    #Merge all files in one and change in and out datetime\n",
    "    prepa_pipeline= Pipeline([\n",
    "        (\"merge\", MergeDataFrame(load_data(path +\"employee_survey_data.csv\"),\n",
    "                                 load_data(path +\"manager_survey_data.csv\"),\n",
    "                                 load_data(path +\"in_time.csv\"),\n",
    "                                 load_data(path +\"out_time.csv\"))),\n",
    "        #delete useless columns and unEthic\n",
    "        (\"delete\", DeleteUnEthicColumn([\n",
    "                                        \"Age\",\n",
    "                                        \"Over18\",\n",
    "                                        \"Gender\",\n",
    "                                        \"MaritalStatus\",\n",
    "                                        \"EmployeeCount\",\n",
    "                                        \"StandardHours\",\n",
    "                                        \"EmployeeID\"\n",
    "        \n",
    "        ])),\n",
    "        #encode Attrition and BusinessTravel columns\n",
    "        (\"label\",OrgDataFrame()),\n",
    "    ])\n",
    "    #create a DataFrame with pipeline \n",
    "    data_pipeline = prepa_pipeline.fit_transform(X)\n",
    "    ###print(data_pipeline)\n",
    "    #create label for classification\n",
    "    y = data_pipeline['Attrition']\n",
    "    \n",
    "    #list all columns who are object to onehot encode them\n",
    "    object_attribs= data_pipeline.drop(columns=['Attrition','BusinessTravel'],axis=1).select_dtypes(include=[\"object\"]).keys()\n",
    "    ###print(type(object_attribs))\n",
    "    ###num_search = data_pipeline.drop(columns=['Attrition'],axis=1).select_dtypes(include=[np.number])\n",
    "    #list all columns who are number to scale them\n",
    "    num_search = data_pipeline.select_dtypes(include=[np.number])\n",
    "    num_attribs = list(num_search)\n",
    "    #print(object_attribs)\n",
    "    #print(num_attribs)\n",
    "\n",
    "    #create onehot encode step pipeline   \n",
    "    onehot_pipeline = Pipeline(steps=[\n",
    "        ('onehot',OneHotEncoder())\n",
    "    ])\n",
    "    #create scale step pipeline\n",
    "    scale_pipeline = Pipeline(steps=[\n",
    "        ('std_scaler', StandardScaler()),\n",
    "    ])\n",
    "    #create column transformers \n",
    "    pipeline = ColumnTransformer(transformers=[\n",
    "        (\"numerisation\",scale_pipeline,num_attribs),\n",
    "        (\"one\", onehot_pipeline, object_attribs) \n",
    "        ],\n",
    "        remainder='drop',\n",
    "        n_jobs=-1)\n",
    "\n",
    "    #create final pipeline\n",
    "    full_pipeline = Pipeline(steps=[\n",
    "        (\"pipeline\", pipeline),\n",
    "    ])\n",
    "\n",
    "    #print pipeline\n",
    "    from sklearn import set_config\n",
    "    set_config(display='diagram')\n",
    "    display(full_pipeline)\n",
    "    \n",
    "    #execute pipeline\n",
    "    data_fullpipeline = full_pipeline.fit_transform(data_pipeline)\n",
    "    \n",
    "\n",
    "\n",
    "    #get all columns name to recreate index on dataFrame\n",
    "    cols_names=full_pipeline.named_steps[\"pipeline\"].named_transformers_[\"one\"].named_steps[\"onehot\"].get_feature_names_out(object_attribs)\n",
    "    all_cols=np.concatenate([num_attribs,cols_names])\n",
    "    data_fullpipeline=pd.DataFrame(data_fullpipeline,columns=all_cols)\n",
    "    \n",
    "    #create unlabeled dataset\n",
    "    X = data_fullpipeline.drop(columns=['Attrition'],axis=1)\n",
    "\n",
    "    \n",
    "    return data_fullpipeline, X, y"
   ],
   "metadata": {
    "collapsed": false,
    "ExecuteTime": {
     "end_time": "2024-02-07T19:23:00.063188300Z",
     "start_time": "2024-02-07T19:23:00.056171700Z"
    }
   },
   "id": "7ee40bb06bd0618d",
   "execution_count": 124
  },
  {
   "cell_type": "code",
   "outputs": [
    {
     "data": {
      "text/plain": "Pipeline(steps=[('pipeline',\n                 ColumnTransformer(n_jobs=-1,\n                                   transformers=[('numerisation',\n                                                  Pipeline(steps=[('std_scaler',\n                                                                   StandardScaler())]),\n                                                  ['Attrition',\n                                                   'BusinessTravel',\n                                                   'DistanceFromHome',\n                                                   'Education', 'JobLevel',\n                                                   'MonthlyIncome',\n                                                   'NumCompaniesWorked',\n                                                   'PercentSalaryHike',\n                                                   'StockOptionLevel',\n                                                   'TotalWorkingYears',\n                                                   'TrainingTimesLastYear',\n                                                   'YearsAtCompany',\n                                                   'YearsSinceLastPromotion',\n                                                   'YearsWithCurrManager',\n                                                   'EnvironmentSatisfaction',\n                                                   'JobSatisfaction',\n                                                   'WorkLifeBalance',\n                                                   'JobInvolvement',\n                                                   'PerformanceRating',\n                                                   'MeanWorkingHours']),\n                                                 ('one',\n                                                  Pipeline(steps=[('onehot',\n                                                                   OneHotEncoder())]),\n                                                  Index(['Department', 'EducationField', 'JobRole'], dtype='object'))]))])",
      "text/html": "<style>#sk-container-id-33 {\n  /* Definition of color scheme common for light and dark mode */\n  --sklearn-color-text: black;\n  --sklearn-color-line: gray;\n  /* Definition of color scheme for unfitted estimators */\n  --sklearn-color-unfitted-level-0: #fff5e6;\n  --sklearn-color-unfitted-level-1: #f6e4d2;\n  --sklearn-color-unfitted-level-2: #ffe0b3;\n  --sklearn-color-unfitted-level-3: chocolate;\n  /* Definition of color scheme for fitted estimators */\n  --sklearn-color-fitted-level-0: #f0f8ff;\n  --sklearn-color-fitted-level-1: #d4ebff;\n  --sklearn-color-fitted-level-2: #b3dbfd;\n  --sklearn-color-fitted-level-3: cornflowerblue;\n\n  /* Specific color for light theme */\n  --sklearn-color-text-on-default-background: var(--sg-text-color, var(--theme-code-foreground, var(--jp-content-font-color1, black)));\n  --sklearn-color-background: var(--sg-background-color, var(--theme-background, var(--jp-layout-color0, white)));\n  --sklearn-color-border-box: var(--sg-text-color, var(--theme-code-foreground, var(--jp-content-font-color1, black)));\n  --sklearn-color-icon: #696969;\n\n  @media (prefers-color-scheme: dark) {\n    /* Redefinition of color scheme for dark theme */\n    --sklearn-color-text-on-default-background: var(--sg-text-color, var(--theme-code-foreground, var(--jp-content-font-color1, white)));\n    --sklearn-color-background: var(--sg-background-color, var(--theme-background, var(--jp-layout-color0, #111)));\n    --sklearn-color-border-box: var(--sg-text-color, var(--theme-code-foreground, var(--jp-content-font-color1, white)));\n    --sklearn-color-icon: #878787;\n  }\n}\n\n#sk-container-id-33 {\n  color: var(--sklearn-color-text);\n}\n\n#sk-container-id-33 pre {\n  padding: 0;\n}\n\n#sk-container-id-33 input.sk-hidden--visually {\n  border: 0;\n  clip: rect(1px 1px 1px 1px);\n  clip: rect(1px, 1px, 1px, 1px);\n  height: 1px;\n  margin: -1px;\n  overflow: hidden;\n  padding: 0;\n  position: absolute;\n  width: 1px;\n}\n\n#sk-container-id-33 div.sk-dashed-wrapped {\n  border: 1px dashed var(--sklearn-color-line);\n  margin: 0 0.4em 0.5em 0.4em;\n  box-sizing: border-box;\n  padding-bottom: 0.4em;\n  background-color: var(--sklearn-color-background);\n}\n\n#sk-container-id-33 div.sk-container {\n  /* jupyter's `normalize.less` sets `[hidden] { display: none; }`\n     but bootstrap.min.css set `[hidden] { display: none !important; }`\n     so we also need the `!important` here to be able to override the\n     default hidden behavior on the sphinx rendered scikit-learn.org.\n     See: https://github.com/scikit-learn/scikit-learn/issues/21755 */\n  display: inline-block !important;\n  position: relative;\n}\n\n#sk-container-id-33 div.sk-text-repr-fallback {\n  display: none;\n}\n\ndiv.sk-parallel-item,\ndiv.sk-serial,\ndiv.sk-item {\n  /* draw centered vertical line to link estimators */\n  background-image: linear-gradient(var(--sklearn-color-text-on-default-background), var(--sklearn-color-text-on-default-background));\n  background-size: 2px 100%;\n  background-repeat: no-repeat;\n  background-position: center center;\n}\n\n/* Parallel-specific style estimator block */\n\n#sk-container-id-33 div.sk-parallel-item::after {\n  content: \"\";\n  width: 100%;\n  border-bottom: 2px solid var(--sklearn-color-text-on-default-background);\n  flex-grow: 1;\n}\n\n#sk-container-id-33 div.sk-parallel {\n  display: flex;\n  align-items: stretch;\n  justify-content: center;\n  background-color: var(--sklearn-color-background);\n  position: relative;\n}\n\n#sk-container-id-33 div.sk-parallel-item {\n  display: flex;\n  flex-direction: column;\n}\n\n#sk-container-id-33 div.sk-parallel-item:first-child::after {\n  align-self: flex-end;\n  width: 50%;\n}\n\n#sk-container-id-33 div.sk-parallel-item:last-child::after {\n  align-self: flex-start;\n  width: 50%;\n}\n\n#sk-container-id-33 div.sk-parallel-item:only-child::after {\n  width: 0;\n}\n\n/* Serial-specific style estimator block */\n\n#sk-container-id-33 div.sk-serial {\n  display: flex;\n  flex-direction: column;\n  align-items: center;\n  background-color: var(--sklearn-color-background);\n  padding-right: 1em;\n  padding-left: 1em;\n}\n\n\n/* Toggleable style: style used for estimator/Pipeline/ColumnTransformer box that is\nclickable and can be expanded/collapsed.\n- Pipeline and ColumnTransformer use this feature and define the default style\n- Estimators will overwrite some part of the style using the `sk-estimator` class\n*/\n\n/* Pipeline and ColumnTransformer style (default) */\n\n#sk-container-id-33 div.sk-toggleable {\n  /* Default theme specific background. It is overwritten whether we have a\n  specific estimator or a Pipeline/ColumnTransformer */\n  background-color: var(--sklearn-color-background);\n}\n\n/* Toggleable label */\n#sk-container-id-33 label.sk-toggleable__label {\n  cursor: pointer;\n  display: block;\n  width: 100%;\n  margin-bottom: 0;\n  padding: 0.5em;\n  box-sizing: border-box;\n  text-align: center;\n}\n\n#sk-container-id-33 label.sk-toggleable__label-arrow:before {\n  /* Arrow on the left of the label */\n  content: \"▸\";\n  float: left;\n  margin-right: 0.25em;\n  color: var(--sklearn-color-icon);\n}\n\n#sk-container-id-33 label.sk-toggleable__label-arrow:hover:before {\n  color: var(--sklearn-color-text);\n}\n\n/* Toggleable content - dropdown */\n\n#sk-container-id-33 div.sk-toggleable__content {\n  max-height: 0;\n  max-width: 0;\n  overflow: hidden;\n  text-align: left;\n  /* unfitted */\n  background-color: var(--sklearn-color-unfitted-level-0);\n}\n\n#sk-container-id-33 div.sk-toggleable__content.fitted {\n  /* fitted */\n  background-color: var(--sklearn-color-fitted-level-0);\n}\n\n#sk-container-id-33 div.sk-toggleable__content pre {\n  margin: 0.2em;\n  border-radius: 0.25em;\n  color: var(--sklearn-color-text);\n  /* unfitted */\n  background-color: var(--sklearn-color-unfitted-level-0);\n}\n\n#sk-container-id-33 div.sk-toggleable__content.fitted pre {\n  /* unfitted */\n  background-color: var(--sklearn-color-fitted-level-0);\n}\n\n#sk-container-id-33 input.sk-toggleable__control:checked~div.sk-toggleable__content {\n  /* Expand drop-down */\n  max-height: 200px;\n  max-width: 100%;\n  overflow: auto;\n}\n\n#sk-container-id-33 input.sk-toggleable__control:checked~label.sk-toggleable__label-arrow:before {\n  content: \"▾\";\n}\n\n/* Pipeline/ColumnTransformer-specific style */\n\n#sk-container-id-33 div.sk-label input.sk-toggleable__control:checked~label.sk-toggleable__label {\n  color: var(--sklearn-color-text);\n  background-color: var(--sklearn-color-unfitted-level-2);\n}\n\n#sk-container-id-33 div.sk-label.fitted input.sk-toggleable__control:checked~label.sk-toggleable__label {\n  background-color: var(--sklearn-color-fitted-level-2);\n}\n\n/* Estimator-specific style */\n\n/* Colorize estimator box */\n#sk-container-id-33 div.sk-estimator input.sk-toggleable__control:checked~label.sk-toggleable__label {\n  /* unfitted */\n  background-color: var(--sklearn-color-unfitted-level-2);\n}\n\n#sk-container-id-33 div.sk-estimator.fitted input.sk-toggleable__control:checked~label.sk-toggleable__label {\n  /* fitted */\n  background-color: var(--sklearn-color-fitted-level-2);\n}\n\n#sk-container-id-33 div.sk-label label.sk-toggleable__label,\n#sk-container-id-33 div.sk-label label {\n  /* The background is the default theme color */\n  color: var(--sklearn-color-text-on-default-background);\n}\n\n/* On hover, darken the color of the background */\n#sk-container-id-33 div.sk-label:hover label.sk-toggleable__label {\n  color: var(--sklearn-color-text);\n  background-color: var(--sklearn-color-unfitted-level-2);\n}\n\n/* Label box, darken color on hover, fitted */\n#sk-container-id-33 div.sk-label.fitted:hover label.sk-toggleable__label.fitted {\n  color: var(--sklearn-color-text);\n  background-color: var(--sklearn-color-fitted-level-2);\n}\n\n/* Estimator label */\n\n#sk-container-id-33 div.sk-label label {\n  font-family: monospace;\n  font-weight: bold;\n  display: inline-block;\n  line-height: 1.2em;\n}\n\n#sk-container-id-33 div.sk-label-container {\n  text-align: center;\n}\n\n/* Estimator-specific */\n#sk-container-id-33 div.sk-estimator {\n  font-family: monospace;\n  border: 1px dotted var(--sklearn-color-border-box);\n  border-radius: 0.25em;\n  box-sizing: border-box;\n  margin-bottom: 0.5em;\n  /* unfitted */\n  background-color: var(--sklearn-color-unfitted-level-0);\n}\n\n#sk-container-id-33 div.sk-estimator.fitted {\n  /* fitted */\n  background-color: var(--sklearn-color-fitted-level-0);\n}\n\n/* on hover */\n#sk-container-id-33 div.sk-estimator:hover {\n  /* unfitted */\n  background-color: var(--sklearn-color-unfitted-level-2);\n}\n\n#sk-container-id-33 div.sk-estimator.fitted:hover {\n  /* fitted */\n  background-color: var(--sklearn-color-fitted-level-2);\n}\n\n/* Specification for estimator info (e.g. \"i\" and \"?\") */\n\n/* Common style for \"i\" and \"?\" */\n\n.sk-estimator-doc-link,\na:link.sk-estimator-doc-link,\na:visited.sk-estimator-doc-link {\n  float: right;\n  font-size: smaller;\n  line-height: 1em;\n  font-family: monospace;\n  background-color: var(--sklearn-color-background);\n  border-radius: 1em;\n  height: 1em;\n  width: 1em;\n  text-decoration: none !important;\n  margin-left: 1ex;\n  /* unfitted */\n  border: var(--sklearn-color-unfitted-level-1) 1pt solid;\n  color: var(--sklearn-color-unfitted-level-1);\n}\n\n.sk-estimator-doc-link.fitted,\na:link.sk-estimator-doc-link.fitted,\na:visited.sk-estimator-doc-link.fitted {\n  /* fitted */\n  border: var(--sklearn-color-fitted-level-1) 1pt solid;\n  color: var(--sklearn-color-fitted-level-1);\n}\n\n/* On hover */\ndiv.sk-estimator:hover .sk-estimator-doc-link:hover,\n.sk-estimator-doc-link:hover,\ndiv.sk-label-container:hover .sk-estimator-doc-link:hover,\n.sk-estimator-doc-link:hover {\n  /* unfitted */\n  background-color: var(--sklearn-color-unfitted-level-3);\n  color: var(--sklearn-color-background);\n  text-decoration: none;\n}\n\ndiv.sk-estimator.fitted:hover .sk-estimator-doc-link.fitted:hover,\n.sk-estimator-doc-link.fitted:hover,\ndiv.sk-label-container:hover .sk-estimator-doc-link.fitted:hover,\n.sk-estimator-doc-link.fitted:hover {\n  /* fitted */\n  background-color: var(--sklearn-color-fitted-level-3);\n  color: var(--sklearn-color-background);\n  text-decoration: none;\n}\n\n/* Span, style for the box shown on hovering the info icon */\n.sk-estimator-doc-link span {\n  display: none;\n  z-index: 9999;\n  position: relative;\n  font-weight: normal;\n  right: .2ex;\n  padding: .5ex;\n  margin: .5ex;\n  width: min-content;\n  min-width: 20ex;\n  max-width: 50ex;\n  color: var(--sklearn-color-text);\n  box-shadow: 2pt 2pt 4pt #999;\n  /* unfitted */\n  background: var(--sklearn-color-unfitted-level-0);\n  border: .5pt solid var(--sklearn-color-unfitted-level-3);\n}\n\n.sk-estimator-doc-link.fitted span {\n  /* fitted */\n  background: var(--sklearn-color-fitted-level-0);\n  border: var(--sklearn-color-fitted-level-3);\n}\n\n.sk-estimator-doc-link:hover span {\n  display: block;\n}\n\n/* \"?\"-specific style due to the `<a>` HTML tag */\n\n#sk-container-id-33 a.estimator_doc_link {\n  float: right;\n  font-size: 1rem;\n  line-height: 1em;\n  font-family: monospace;\n  background-color: var(--sklearn-color-background);\n  border-radius: 1rem;\n  height: 1rem;\n  width: 1rem;\n  text-decoration: none;\n  /* unfitted */\n  color: var(--sklearn-color-unfitted-level-1);\n  border: var(--sklearn-color-unfitted-level-1) 1pt solid;\n}\n\n#sk-container-id-33 a.estimator_doc_link.fitted {\n  /* fitted */\n  border: var(--sklearn-color-fitted-level-1) 1pt solid;\n  color: var(--sklearn-color-fitted-level-1);\n}\n\n/* On hover */\n#sk-container-id-33 a.estimator_doc_link:hover {\n  /* unfitted */\n  background-color: var(--sklearn-color-unfitted-level-3);\n  color: var(--sklearn-color-background);\n  text-decoration: none;\n}\n\n#sk-container-id-33 a.estimator_doc_link.fitted:hover {\n  /* fitted */\n  background-color: var(--sklearn-color-fitted-level-3);\n}\n</style><div id=\"sk-container-id-33\" class=\"sk-top-container\"><div class=\"sk-text-repr-fallback\"><pre>Pipeline(steps=[(&#x27;pipeline&#x27;,\n                 ColumnTransformer(n_jobs=-1,\n                                   transformers=[(&#x27;numerisation&#x27;,\n                                                  Pipeline(steps=[(&#x27;std_scaler&#x27;,\n                                                                   StandardScaler())]),\n                                                  [&#x27;Attrition&#x27;,\n                                                   &#x27;BusinessTravel&#x27;,\n                                                   &#x27;DistanceFromHome&#x27;,\n                                                   &#x27;Education&#x27;, &#x27;JobLevel&#x27;,\n                                                   &#x27;MonthlyIncome&#x27;,\n                                                   &#x27;NumCompaniesWorked&#x27;,\n                                                   &#x27;PercentSalaryHike&#x27;,\n                                                   &#x27;StockOptionLevel&#x27;,\n                                                   &#x27;TotalWorkingYears&#x27;,\n                                                   &#x27;TrainingTimesLastYear&#x27;,\n                                                   &#x27;YearsAtCompany&#x27;,\n                                                   &#x27;YearsSinceLastPromotion&#x27;,\n                                                   &#x27;YearsWithCurrManager&#x27;,\n                                                   &#x27;EnvironmentSatisfaction&#x27;,\n                                                   &#x27;JobSatisfaction&#x27;,\n                                                   &#x27;WorkLifeBalance&#x27;,\n                                                   &#x27;JobInvolvement&#x27;,\n                                                   &#x27;PerformanceRating&#x27;,\n                                                   &#x27;MeanWorkingHours&#x27;]),\n                                                 (&#x27;one&#x27;,\n                                                  Pipeline(steps=[(&#x27;onehot&#x27;,\n                                                                   OneHotEncoder())]),\n                                                  Index([&#x27;Department&#x27;, &#x27;EducationField&#x27;, &#x27;JobRole&#x27;], dtype=&#x27;object&#x27;))]))])</pre><b>In a Jupyter environment, please rerun this cell to show the HTML representation or trust the notebook. <br />On GitHub, the HTML representation is unable to render, please try loading this page with nbviewer.org.</b></div><div class=\"sk-container\" hidden><div class=\"sk-item sk-dashed-wrapped\"><div class=\"sk-label-container\"><div class=\"sk-label  sk-toggleable\"><input class=\"sk-toggleable__control sk-hidden--visually\" id=\"sk-estimator-id-208\" type=\"checkbox\" ><label for=\"sk-estimator-id-208\" class=\"sk-toggleable__label  sk-toggleable__label-arrow \">&nbsp;&nbsp;Pipeline<a class=\"sk-estimator-doc-link \" rel=\"noreferrer\" target=\"_blank\" href=\"https://scikit-learn.org/1.4/modules/generated/sklearn.pipeline.Pipeline.html\">?<span>Documentation for Pipeline</span></a><span class=\"sk-estimator-doc-link \">i<span>Not fitted</span></span></label><div class=\"sk-toggleable__content \"><pre>Pipeline(steps=[(&#x27;pipeline&#x27;,\n                 ColumnTransformer(n_jobs=-1,\n                                   transformers=[(&#x27;numerisation&#x27;,\n                                                  Pipeline(steps=[(&#x27;std_scaler&#x27;,\n                                                                   StandardScaler())]),\n                                                  [&#x27;Attrition&#x27;,\n                                                   &#x27;BusinessTravel&#x27;,\n                                                   &#x27;DistanceFromHome&#x27;,\n                                                   &#x27;Education&#x27;, &#x27;JobLevel&#x27;,\n                                                   &#x27;MonthlyIncome&#x27;,\n                                                   &#x27;NumCompaniesWorked&#x27;,\n                                                   &#x27;PercentSalaryHike&#x27;,\n                                                   &#x27;StockOptionLevel&#x27;,\n                                                   &#x27;TotalWorkingYears&#x27;,\n                                                   &#x27;TrainingTimesLastYear&#x27;,\n                                                   &#x27;YearsAtCompany&#x27;,\n                                                   &#x27;YearsSinceLastPromotion&#x27;,\n                                                   &#x27;YearsWithCurrManager&#x27;,\n                                                   &#x27;EnvironmentSatisfaction&#x27;,\n                                                   &#x27;JobSatisfaction&#x27;,\n                                                   &#x27;WorkLifeBalance&#x27;,\n                                                   &#x27;JobInvolvement&#x27;,\n                                                   &#x27;PerformanceRating&#x27;,\n                                                   &#x27;MeanWorkingHours&#x27;]),\n                                                 (&#x27;one&#x27;,\n                                                  Pipeline(steps=[(&#x27;onehot&#x27;,\n                                                                   OneHotEncoder())]),\n                                                  Index([&#x27;Department&#x27;, &#x27;EducationField&#x27;, &#x27;JobRole&#x27;], dtype=&#x27;object&#x27;))]))])</pre></div> </div></div><div class=\"sk-serial\"><div class=\"sk-item sk-dashed-wrapped\"><div class=\"sk-label-container\"><div class=\"sk-label  sk-toggleable\"><input class=\"sk-toggleable__control sk-hidden--visually\" id=\"sk-estimator-id-209\" type=\"checkbox\" ><label for=\"sk-estimator-id-209\" class=\"sk-toggleable__label  sk-toggleable__label-arrow \">&nbsp;pipeline: ColumnTransformer<a class=\"sk-estimator-doc-link \" rel=\"noreferrer\" target=\"_blank\" href=\"https://scikit-learn.org/1.4/modules/generated/sklearn.compose.ColumnTransformer.html\">?<span>Documentation for pipeline: ColumnTransformer</span></a></label><div class=\"sk-toggleable__content \"><pre>ColumnTransformer(n_jobs=-1,\n                  transformers=[(&#x27;numerisation&#x27;,\n                                 Pipeline(steps=[(&#x27;std_scaler&#x27;,\n                                                  StandardScaler())]),\n                                 [&#x27;Attrition&#x27;, &#x27;BusinessTravel&#x27;,\n                                  &#x27;DistanceFromHome&#x27;, &#x27;Education&#x27;, &#x27;JobLevel&#x27;,\n                                  &#x27;MonthlyIncome&#x27;, &#x27;NumCompaniesWorked&#x27;,\n                                  &#x27;PercentSalaryHike&#x27;, &#x27;StockOptionLevel&#x27;,\n                                  &#x27;TotalWorkingYears&#x27;, &#x27;TrainingTimesLastYear&#x27;,\n                                  &#x27;YearsAtCompany&#x27;, &#x27;YearsSinceLastPromotion&#x27;,\n                                  &#x27;YearsWithCurrManager&#x27;,\n                                  &#x27;EnvironmentSatisfaction&#x27;, &#x27;JobSatisfaction&#x27;,\n                                  &#x27;WorkLifeBalance&#x27;, &#x27;JobInvolvement&#x27;,\n                                  &#x27;PerformanceRating&#x27;, &#x27;MeanWorkingHours&#x27;]),\n                                (&#x27;one&#x27;,\n                                 Pipeline(steps=[(&#x27;onehot&#x27;, OneHotEncoder())]),\n                                 Index([&#x27;Department&#x27;, &#x27;EducationField&#x27;, &#x27;JobRole&#x27;], dtype=&#x27;object&#x27;))])</pre></div> </div></div><div class=\"sk-parallel\"><div class=\"sk-parallel-item\"><div class=\"sk-item\"><div class=\"sk-label-container\"><div class=\"sk-label  sk-toggleable\"><input class=\"sk-toggleable__control sk-hidden--visually\" id=\"sk-estimator-id-210\" type=\"checkbox\" ><label for=\"sk-estimator-id-210\" class=\"sk-toggleable__label  sk-toggleable__label-arrow \">numerisation</label><div class=\"sk-toggleable__content \"><pre>[&#x27;Attrition&#x27;, &#x27;BusinessTravel&#x27;, &#x27;DistanceFromHome&#x27;, &#x27;Education&#x27;, &#x27;JobLevel&#x27;, &#x27;MonthlyIncome&#x27;, &#x27;NumCompaniesWorked&#x27;, &#x27;PercentSalaryHike&#x27;, &#x27;StockOptionLevel&#x27;, &#x27;TotalWorkingYears&#x27;, &#x27;TrainingTimesLastYear&#x27;, &#x27;YearsAtCompany&#x27;, &#x27;YearsSinceLastPromotion&#x27;, &#x27;YearsWithCurrManager&#x27;, &#x27;EnvironmentSatisfaction&#x27;, &#x27;JobSatisfaction&#x27;, &#x27;WorkLifeBalance&#x27;, &#x27;JobInvolvement&#x27;, &#x27;PerformanceRating&#x27;, &#x27;MeanWorkingHours&#x27;]</pre></div> </div></div><div class=\"sk-serial\"><div class=\"sk-item\"><div class=\"sk-serial\"><div class=\"sk-item\"><div class=\"sk-estimator  sk-toggleable\"><input class=\"sk-toggleable__control sk-hidden--visually\" id=\"sk-estimator-id-211\" type=\"checkbox\" ><label for=\"sk-estimator-id-211\" class=\"sk-toggleable__label  sk-toggleable__label-arrow \">&nbsp;StandardScaler<a class=\"sk-estimator-doc-link \" rel=\"noreferrer\" target=\"_blank\" href=\"https://scikit-learn.org/1.4/modules/generated/sklearn.preprocessing.StandardScaler.html\">?<span>Documentation for StandardScaler</span></a></label><div class=\"sk-toggleable__content \"><pre>StandardScaler()</pre></div> </div></div></div></div></div></div></div><div class=\"sk-parallel-item\"><div class=\"sk-item\"><div class=\"sk-label-container\"><div class=\"sk-label  sk-toggleable\"><input class=\"sk-toggleable__control sk-hidden--visually\" id=\"sk-estimator-id-212\" type=\"checkbox\" ><label for=\"sk-estimator-id-212\" class=\"sk-toggleable__label  sk-toggleable__label-arrow \">one</label><div class=\"sk-toggleable__content \"><pre>Index([&#x27;Department&#x27;, &#x27;EducationField&#x27;, &#x27;JobRole&#x27;], dtype=&#x27;object&#x27;)</pre></div> </div></div><div class=\"sk-serial\"><div class=\"sk-item\"><div class=\"sk-serial\"><div class=\"sk-item\"><div class=\"sk-estimator  sk-toggleable\"><input class=\"sk-toggleable__control sk-hidden--visually\" id=\"sk-estimator-id-213\" type=\"checkbox\" ><label for=\"sk-estimator-id-213\" class=\"sk-toggleable__label  sk-toggleable__label-arrow \">&nbsp;OneHotEncoder<a class=\"sk-estimator-doc-link \" rel=\"noreferrer\" target=\"_blank\" href=\"https://scikit-learn.org/1.4/modules/generated/sklearn.preprocessing.OneHotEncoder.html\">?<span>Documentation for OneHotEncoder</span></a></label><div class=\"sk-toggleable__content \"><pre>OneHotEncoder()</pre></div> </div></div></div></div></div></div></div></div></div></div></div></div></div>"
     },
     "metadata": {},
     "output_type": "display_data"
    }
   ],
   "source": [
    "data, X, y = build_pipeline(general_data)"
   ],
   "metadata": {
    "collapsed": false,
    "ExecuteTime": {
     "end_time": "2024-02-07T19:23:59.984741Z",
     "start_time": "2024-02-07T19:23:42.479137100Z"
    }
   },
   "id": "87bf5a6d120cfcfe",
   "execution_count": 127
  },
  {
   "cell_type": "code",
   "outputs": [
    {
     "data": {
      "text/plain": "      Attrition  BusinessTravel  DistanceFromHome  Education  JobLevel  \\\n0     -0.438422       -0.162399         -0.393938  -0.891688 -0.961486   \n1      2.280906        1.717339          0.099639  -1.868426 -0.961486   \n2     -0.438422        1.717339          0.963398   1.061787  1.749610   \n3     -0.438422       -2.042138         -0.887515   2.038524  0.845911   \n4     -0.438422       -0.162399          0.099639  -1.868426 -0.961486   \n...         ...             ...               ...        ...       ...   \n4405  -0.438422       -0.162399         -0.517332   1.061787 -0.961486   \n4406  -0.438422       -0.162399         -0.887515   1.061787 -0.961486   \n4407  -0.438422       -0.162399          1.950552  -0.891688 -0.057788   \n4408  -0.438422       -0.162399          1.086793  -0.891688 -0.961486   \n4409  -0.438422       -0.162399          2.320735   0.085049 -0.057788   \n\n      MonthlyIncome  NumCompaniesWorked  PercentSalaryHike  StockOptionLevel  \\\n0          1.405136           -0.678311          -1.150554         -0.932014   \n1         -0.491661           -1.078535           2.129306          0.241988   \n2          2.725053           -0.678311          -0.057267          2.589994   \n3          0.386301            0.122136          -1.150554          2.589994   \n4         -0.884109            0.522360          -0.877232          1.415991   \n...             ...                 ...                ...               ...   \n4405      -0.100700            0.122136           0.489376          0.241988   \n4406      -0.812504           -0.278088          -0.057267         -0.932014   \n4407      -0.595138           -1.078535           1.309341         -0.932014   \n4408      -0.872210           -1.078535          -0.330589          0.241988   \n4409      -0.219901           -1.078535          -0.877232         -0.932014   \n\n      TotalWorkingYears  ...  EducationField_Technical Degree  \\\n0             -1.321101  ...                              0.0   \n1             -0.678538  ...                              0.0   \n2             -0.807051  ...                              0.0   \n3              0.221050  ...                              0.0   \n4             -0.293001  ...                              0.0   \n...                 ...  ...                              ...   \n4405          -0.164488  ...                              0.0   \n4406          -0.164488  ...                              0.0   \n4407          -0.807051  ...                              0.0   \n4408          -0.164488  ...                              0.0   \n4409                NaN  ...                              0.0   \n\n      JobRole_Healthcare Representative  JobRole_Human Resources  \\\n0                                   1.0                      0.0   \n1                                   0.0                      0.0   \n2                                   0.0                      0.0   \n3                                   0.0                      1.0   \n4                                   0.0                      0.0   \n...                                 ...                      ...   \n4405                                0.0                      0.0   \n4406                                0.0                      0.0   \n4407                                0.0                      0.0   \n4408                                0.0                      0.0   \n4409                                0.0                      0.0   \n\n      JobRole_Laboratory Technician  JobRole_Manager  \\\n0                               0.0              0.0   \n1                               0.0              0.0   \n2                               0.0              0.0   \n3                               0.0              0.0   \n4                               0.0              0.0   \n...                             ...              ...   \n4405                            0.0              0.0   \n4406                            1.0              0.0   \n4407                            0.0              0.0   \n4408                            1.0              0.0   \n4409                            1.0              0.0   \n\n      JobRole_Manufacturing Director  JobRole_Research Director  \\\n0                                0.0                        0.0   \n1                                0.0                        0.0   \n2                                0.0                        0.0   \n3                                0.0                        0.0   \n4                                0.0                        0.0   \n...                              ...                        ...   \n4405                             0.0                        0.0   \n4406                             0.0                        0.0   \n4407                             0.0                        0.0   \n4408                             0.0                        0.0   \n4409                             0.0                        0.0   \n\n      JobRole_Research Scientist  JobRole_Sales Executive  \\\n0                            0.0                      0.0   \n1                            1.0                      0.0   \n2                            0.0                      1.0   \n3                            0.0                      0.0   \n4                            0.0                      1.0   \n...                          ...                      ...   \n4405                         1.0                      0.0   \n4406                         0.0                      0.0   \n4407                         0.0                      1.0   \n4408                         0.0                      0.0   \n4409                         0.0                      0.0   \n\n      JobRole_Sales Representative  \n0                              0.0  \n1                              0.0  \n2                              0.0  \n3                              0.0  \n4                              0.0  \n...                            ...  \n4405                           0.0  \n4406                           0.0  \n4407                           0.0  \n4408                           0.0  \n4409                           0.0  \n\n[4410 rows x 38 columns]",
      "text/html": "<div>\n<style scoped>\n    .dataframe tbody tr th:only-of-type {\n        vertical-align: middle;\n    }\n\n    .dataframe tbody tr th {\n        vertical-align: top;\n    }\n\n    .dataframe thead th {\n        text-align: right;\n    }\n</style>\n<table border=\"1\" class=\"dataframe\">\n  <thead>\n    <tr style=\"text-align: right;\">\n      <th></th>\n      <th>Attrition</th>\n      <th>BusinessTravel</th>\n      <th>DistanceFromHome</th>\n      <th>Education</th>\n      <th>JobLevel</th>\n      <th>MonthlyIncome</th>\n      <th>NumCompaniesWorked</th>\n      <th>PercentSalaryHike</th>\n      <th>StockOptionLevel</th>\n      <th>TotalWorkingYears</th>\n      <th>...</th>\n      <th>EducationField_Technical Degree</th>\n      <th>JobRole_Healthcare Representative</th>\n      <th>JobRole_Human Resources</th>\n      <th>JobRole_Laboratory Technician</th>\n      <th>JobRole_Manager</th>\n      <th>JobRole_Manufacturing Director</th>\n      <th>JobRole_Research Director</th>\n      <th>JobRole_Research Scientist</th>\n      <th>JobRole_Sales Executive</th>\n      <th>JobRole_Sales Representative</th>\n    </tr>\n  </thead>\n  <tbody>\n    <tr>\n      <th>0</th>\n      <td>-0.438422</td>\n      <td>-0.162399</td>\n      <td>-0.393938</td>\n      <td>-0.891688</td>\n      <td>-0.961486</td>\n      <td>1.405136</td>\n      <td>-0.678311</td>\n      <td>-1.150554</td>\n      <td>-0.932014</td>\n      <td>-1.321101</td>\n      <td>...</td>\n      <td>0.0</td>\n      <td>1.0</td>\n      <td>0.0</td>\n      <td>0.0</td>\n      <td>0.0</td>\n      <td>0.0</td>\n      <td>0.0</td>\n      <td>0.0</td>\n      <td>0.0</td>\n      <td>0.0</td>\n    </tr>\n    <tr>\n      <th>1</th>\n      <td>2.280906</td>\n      <td>1.717339</td>\n      <td>0.099639</td>\n      <td>-1.868426</td>\n      <td>-0.961486</td>\n      <td>-0.491661</td>\n      <td>-1.078535</td>\n      <td>2.129306</td>\n      <td>0.241988</td>\n      <td>-0.678538</td>\n      <td>...</td>\n      <td>0.0</td>\n      <td>0.0</td>\n      <td>0.0</td>\n      <td>0.0</td>\n      <td>0.0</td>\n      <td>0.0</td>\n      <td>0.0</td>\n      <td>1.0</td>\n      <td>0.0</td>\n      <td>0.0</td>\n    </tr>\n    <tr>\n      <th>2</th>\n      <td>-0.438422</td>\n      <td>1.717339</td>\n      <td>0.963398</td>\n      <td>1.061787</td>\n      <td>1.749610</td>\n      <td>2.725053</td>\n      <td>-0.678311</td>\n      <td>-0.057267</td>\n      <td>2.589994</td>\n      <td>-0.807051</td>\n      <td>...</td>\n      <td>0.0</td>\n      <td>0.0</td>\n      <td>0.0</td>\n      <td>0.0</td>\n      <td>0.0</td>\n      <td>0.0</td>\n      <td>0.0</td>\n      <td>0.0</td>\n      <td>1.0</td>\n      <td>0.0</td>\n    </tr>\n    <tr>\n      <th>3</th>\n      <td>-0.438422</td>\n      <td>-2.042138</td>\n      <td>-0.887515</td>\n      <td>2.038524</td>\n      <td>0.845911</td>\n      <td>0.386301</td>\n      <td>0.122136</td>\n      <td>-1.150554</td>\n      <td>2.589994</td>\n      <td>0.221050</td>\n      <td>...</td>\n      <td>0.0</td>\n      <td>0.0</td>\n      <td>1.0</td>\n      <td>0.0</td>\n      <td>0.0</td>\n      <td>0.0</td>\n      <td>0.0</td>\n      <td>0.0</td>\n      <td>0.0</td>\n      <td>0.0</td>\n    </tr>\n    <tr>\n      <th>4</th>\n      <td>-0.438422</td>\n      <td>-0.162399</td>\n      <td>0.099639</td>\n      <td>-1.868426</td>\n      <td>-0.961486</td>\n      <td>-0.884109</td>\n      <td>0.522360</td>\n      <td>-0.877232</td>\n      <td>1.415991</td>\n      <td>-0.293001</td>\n      <td>...</td>\n      <td>0.0</td>\n      <td>0.0</td>\n      <td>0.0</td>\n      <td>0.0</td>\n      <td>0.0</td>\n      <td>0.0</td>\n      <td>0.0</td>\n      <td>0.0</td>\n      <td>1.0</td>\n      <td>0.0</td>\n    </tr>\n    <tr>\n      <th>...</th>\n      <td>...</td>\n      <td>...</td>\n      <td>...</td>\n      <td>...</td>\n      <td>...</td>\n      <td>...</td>\n      <td>...</td>\n      <td>...</td>\n      <td>...</td>\n      <td>...</td>\n      <td>...</td>\n      <td>...</td>\n      <td>...</td>\n      <td>...</td>\n      <td>...</td>\n      <td>...</td>\n      <td>...</td>\n      <td>...</td>\n      <td>...</td>\n      <td>...</td>\n      <td>...</td>\n    </tr>\n    <tr>\n      <th>4405</th>\n      <td>-0.438422</td>\n      <td>-0.162399</td>\n      <td>-0.517332</td>\n      <td>1.061787</td>\n      <td>-0.961486</td>\n      <td>-0.100700</td>\n      <td>0.122136</td>\n      <td>0.489376</td>\n      <td>0.241988</td>\n      <td>-0.164488</td>\n      <td>...</td>\n      <td>0.0</td>\n      <td>0.0</td>\n      <td>0.0</td>\n      <td>0.0</td>\n      <td>0.0</td>\n      <td>0.0</td>\n      <td>0.0</td>\n      <td>1.0</td>\n      <td>0.0</td>\n      <td>0.0</td>\n    </tr>\n    <tr>\n      <th>4406</th>\n      <td>-0.438422</td>\n      <td>-0.162399</td>\n      <td>-0.887515</td>\n      <td>1.061787</td>\n      <td>-0.961486</td>\n      <td>-0.812504</td>\n      <td>-0.278088</td>\n      <td>-0.057267</td>\n      <td>-0.932014</td>\n      <td>-0.164488</td>\n      <td>...</td>\n      <td>0.0</td>\n      <td>0.0</td>\n      <td>0.0</td>\n      <td>1.0</td>\n      <td>0.0</td>\n      <td>0.0</td>\n      <td>0.0</td>\n      <td>0.0</td>\n      <td>0.0</td>\n      <td>0.0</td>\n    </tr>\n    <tr>\n      <th>4407</th>\n      <td>-0.438422</td>\n      <td>-0.162399</td>\n      <td>1.950552</td>\n      <td>-0.891688</td>\n      <td>-0.057788</td>\n      <td>-0.595138</td>\n      <td>-1.078535</td>\n      <td>1.309341</td>\n      <td>-0.932014</td>\n      <td>-0.807051</td>\n      <td>...</td>\n      <td>0.0</td>\n      <td>0.0</td>\n      <td>0.0</td>\n      <td>0.0</td>\n      <td>0.0</td>\n      <td>0.0</td>\n      <td>0.0</td>\n      <td>0.0</td>\n      <td>1.0</td>\n      <td>0.0</td>\n    </tr>\n    <tr>\n      <th>4408</th>\n      <td>-0.438422</td>\n      <td>-0.162399</td>\n      <td>1.086793</td>\n      <td>-0.891688</td>\n      <td>-0.961486</td>\n      <td>-0.872210</td>\n      <td>-1.078535</td>\n      <td>-0.330589</td>\n      <td>0.241988</td>\n      <td>-0.164488</td>\n      <td>...</td>\n      <td>0.0</td>\n      <td>0.0</td>\n      <td>0.0</td>\n      <td>1.0</td>\n      <td>0.0</td>\n      <td>0.0</td>\n      <td>0.0</td>\n      <td>0.0</td>\n      <td>0.0</td>\n      <td>0.0</td>\n    </tr>\n    <tr>\n      <th>4409</th>\n      <td>-0.438422</td>\n      <td>-0.162399</td>\n      <td>2.320735</td>\n      <td>0.085049</td>\n      <td>-0.057788</td>\n      <td>-0.219901</td>\n      <td>-1.078535</td>\n      <td>-0.877232</td>\n      <td>-0.932014</td>\n      <td>NaN</td>\n      <td>...</td>\n      <td>0.0</td>\n      <td>0.0</td>\n      <td>0.0</td>\n      <td>1.0</td>\n      <td>0.0</td>\n      <td>0.0</td>\n      <td>0.0</td>\n      <td>0.0</td>\n      <td>0.0</td>\n      <td>0.0</td>\n    </tr>\n  </tbody>\n</table>\n<p>4410 rows × 38 columns</p>\n</div>"
     },
     "execution_count": 128,
     "metadata": {},
     "output_type": "execute_result"
    }
   ],
   "source": [
    "data"
   ],
   "metadata": {
    "collapsed": false,
    "ExecuteTime": {
     "end_time": "2024-02-07T19:24:02.434581Z",
     "start_time": "2024-02-07T19:24:02.412264Z"
    }
   },
   "id": "89200b686423d37f",
   "execution_count": 128
  },
  {
   "cell_type": "code",
   "outputs": [
    {
     "data": {
      "text/plain": "      BusinessTravel  DistanceFromHome  Education  JobLevel  MonthlyIncome  \\\n0          -0.162399         -0.393938  -0.891688 -0.961486       1.405136   \n1           1.717339          0.099639  -1.868426 -0.961486      -0.491661   \n2           1.717339          0.963398   1.061787  1.749610       2.725053   \n3          -2.042138         -0.887515   2.038524  0.845911       0.386301   \n4          -0.162399          0.099639  -1.868426 -0.961486      -0.884109   \n...              ...               ...        ...       ...            ...   \n4405       -0.162399         -0.517332   1.061787 -0.961486      -0.100700   \n4406       -0.162399         -0.887515   1.061787 -0.961486      -0.812504   \n4407       -0.162399          1.950552  -0.891688 -0.057788      -0.595138   \n4408       -0.162399          1.086793  -0.891688 -0.961486      -0.872210   \n4409       -0.162399          2.320735   0.085049 -0.057788      -0.219901   \n\n      NumCompaniesWorked  PercentSalaryHike  StockOptionLevel  \\\n0              -0.678311          -1.150554         -0.932014   \n1              -1.078535           2.129306          0.241988   \n2              -0.678311          -0.057267          2.589994   \n3               0.122136          -1.150554          2.589994   \n4               0.522360          -0.877232          1.415991   \n...                  ...                ...               ...   \n4405            0.122136           0.489376          0.241988   \n4406           -0.278088          -0.057267         -0.932014   \n4407           -1.078535           1.309341         -0.932014   \n4408           -1.078535          -0.330589          0.241988   \n4409           -1.078535          -0.877232         -0.932014   \n\n      TotalWorkingYears  TrainingTimesLastYear  ...  \\\n0             -1.321101               2.483396  ...   \n1             -0.678538               0.155707  ...   \n2             -0.807051              -0.620189  ...   \n3              0.221050               1.707500  ...   \n4             -0.293001              -0.620189  ...   \n...                 ...                    ...  ...   \n4405          -0.164488               1.707500  ...   \n4406          -0.164488              -0.620189  ...   \n4407          -0.807051               0.931603  ...   \n4408          -0.164488              -0.620189  ...   \n4409                NaN               2.483396  ...   \n\n      EducationField_Technical Degree  JobRole_Healthcare Representative  \\\n0                                 0.0                                1.0   \n1                                 0.0                                0.0   \n2                                 0.0                                0.0   \n3                                 0.0                                0.0   \n4                                 0.0                                0.0   \n...                               ...                                ...   \n4405                              0.0                                0.0   \n4406                              0.0                                0.0   \n4407                              0.0                                0.0   \n4408                              0.0                                0.0   \n4409                              0.0                                0.0   \n\n      JobRole_Human Resources  JobRole_Laboratory Technician  JobRole_Manager  \\\n0                         0.0                            0.0              0.0   \n1                         0.0                            0.0              0.0   \n2                         0.0                            0.0              0.0   \n3                         1.0                            0.0              0.0   \n4                         0.0                            0.0              0.0   \n...                       ...                            ...              ...   \n4405                      0.0                            0.0              0.0   \n4406                      0.0                            1.0              0.0   \n4407                      0.0                            0.0              0.0   \n4408                      0.0                            1.0              0.0   \n4409                      0.0                            1.0              0.0   \n\n      JobRole_Manufacturing Director  JobRole_Research Director  \\\n0                                0.0                        0.0   \n1                                0.0                        0.0   \n2                                0.0                        0.0   \n3                                0.0                        0.0   \n4                                0.0                        0.0   \n...                              ...                        ...   \n4405                             0.0                        0.0   \n4406                             0.0                        0.0   \n4407                             0.0                        0.0   \n4408                             0.0                        0.0   \n4409                             0.0                        0.0   \n\n      JobRole_Research Scientist  JobRole_Sales Executive  \\\n0                            0.0                      0.0   \n1                            1.0                      0.0   \n2                            0.0                      1.0   \n3                            0.0                      0.0   \n4                            0.0                      1.0   \n...                          ...                      ...   \n4405                         1.0                      0.0   \n4406                         0.0                      0.0   \n4407                         0.0                      1.0   \n4408                         0.0                      0.0   \n4409                         0.0                      0.0   \n\n      JobRole_Sales Representative  \n0                              0.0  \n1                              0.0  \n2                              0.0  \n3                              0.0  \n4                              0.0  \n...                            ...  \n4405                           0.0  \n4406                           0.0  \n4407                           0.0  \n4408                           0.0  \n4409                           0.0  \n\n[4410 rows x 37 columns]",
      "text/html": "<div>\n<style scoped>\n    .dataframe tbody tr th:only-of-type {\n        vertical-align: middle;\n    }\n\n    .dataframe tbody tr th {\n        vertical-align: top;\n    }\n\n    .dataframe thead th {\n        text-align: right;\n    }\n</style>\n<table border=\"1\" class=\"dataframe\">\n  <thead>\n    <tr style=\"text-align: right;\">\n      <th></th>\n      <th>BusinessTravel</th>\n      <th>DistanceFromHome</th>\n      <th>Education</th>\n      <th>JobLevel</th>\n      <th>MonthlyIncome</th>\n      <th>NumCompaniesWorked</th>\n      <th>PercentSalaryHike</th>\n      <th>StockOptionLevel</th>\n      <th>TotalWorkingYears</th>\n      <th>TrainingTimesLastYear</th>\n      <th>...</th>\n      <th>EducationField_Technical Degree</th>\n      <th>JobRole_Healthcare Representative</th>\n      <th>JobRole_Human Resources</th>\n      <th>JobRole_Laboratory Technician</th>\n      <th>JobRole_Manager</th>\n      <th>JobRole_Manufacturing Director</th>\n      <th>JobRole_Research Director</th>\n      <th>JobRole_Research Scientist</th>\n      <th>JobRole_Sales Executive</th>\n      <th>JobRole_Sales Representative</th>\n    </tr>\n  </thead>\n  <tbody>\n    <tr>\n      <th>0</th>\n      <td>-0.162399</td>\n      <td>-0.393938</td>\n      <td>-0.891688</td>\n      <td>-0.961486</td>\n      <td>1.405136</td>\n      <td>-0.678311</td>\n      <td>-1.150554</td>\n      <td>-0.932014</td>\n      <td>-1.321101</td>\n      <td>2.483396</td>\n      <td>...</td>\n      <td>0.0</td>\n      <td>1.0</td>\n      <td>0.0</td>\n      <td>0.0</td>\n      <td>0.0</td>\n      <td>0.0</td>\n      <td>0.0</td>\n      <td>0.0</td>\n      <td>0.0</td>\n      <td>0.0</td>\n    </tr>\n    <tr>\n      <th>1</th>\n      <td>1.717339</td>\n      <td>0.099639</td>\n      <td>-1.868426</td>\n      <td>-0.961486</td>\n      <td>-0.491661</td>\n      <td>-1.078535</td>\n      <td>2.129306</td>\n      <td>0.241988</td>\n      <td>-0.678538</td>\n      <td>0.155707</td>\n      <td>...</td>\n      <td>0.0</td>\n      <td>0.0</td>\n      <td>0.0</td>\n      <td>0.0</td>\n      <td>0.0</td>\n      <td>0.0</td>\n      <td>0.0</td>\n      <td>1.0</td>\n      <td>0.0</td>\n      <td>0.0</td>\n    </tr>\n    <tr>\n      <th>2</th>\n      <td>1.717339</td>\n      <td>0.963398</td>\n      <td>1.061787</td>\n      <td>1.749610</td>\n      <td>2.725053</td>\n      <td>-0.678311</td>\n      <td>-0.057267</td>\n      <td>2.589994</td>\n      <td>-0.807051</td>\n      <td>-0.620189</td>\n      <td>...</td>\n      <td>0.0</td>\n      <td>0.0</td>\n      <td>0.0</td>\n      <td>0.0</td>\n      <td>0.0</td>\n      <td>0.0</td>\n      <td>0.0</td>\n      <td>0.0</td>\n      <td>1.0</td>\n      <td>0.0</td>\n    </tr>\n    <tr>\n      <th>3</th>\n      <td>-2.042138</td>\n      <td>-0.887515</td>\n      <td>2.038524</td>\n      <td>0.845911</td>\n      <td>0.386301</td>\n      <td>0.122136</td>\n      <td>-1.150554</td>\n      <td>2.589994</td>\n      <td>0.221050</td>\n      <td>1.707500</td>\n      <td>...</td>\n      <td>0.0</td>\n      <td>0.0</td>\n      <td>1.0</td>\n      <td>0.0</td>\n      <td>0.0</td>\n      <td>0.0</td>\n      <td>0.0</td>\n      <td>0.0</td>\n      <td>0.0</td>\n      <td>0.0</td>\n    </tr>\n    <tr>\n      <th>4</th>\n      <td>-0.162399</td>\n      <td>0.099639</td>\n      <td>-1.868426</td>\n      <td>-0.961486</td>\n      <td>-0.884109</td>\n      <td>0.522360</td>\n      <td>-0.877232</td>\n      <td>1.415991</td>\n      <td>-0.293001</td>\n      <td>-0.620189</td>\n      <td>...</td>\n      <td>0.0</td>\n      <td>0.0</td>\n      <td>0.0</td>\n      <td>0.0</td>\n      <td>0.0</td>\n      <td>0.0</td>\n      <td>0.0</td>\n      <td>0.0</td>\n      <td>1.0</td>\n      <td>0.0</td>\n    </tr>\n    <tr>\n      <th>...</th>\n      <td>...</td>\n      <td>...</td>\n      <td>...</td>\n      <td>...</td>\n      <td>...</td>\n      <td>...</td>\n      <td>...</td>\n      <td>...</td>\n      <td>...</td>\n      <td>...</td>\n      <td>...</td>\n      <td>...</td>\n      <td>...</td>\n      <td>...</td>\n      <td>...</td>\n      <td>...</td>\n      <td>...</td>\n      <td>...</td>\n      <td>...</td>\n      <td>...</td>\n      <td>...</td>\n    </tr>\n    <tr>\n      <th>4405</th>\n      <td>-0.162399</td>\n      <td>-0.517332</td>\n      <td>1.061787</td>\n      <td>-0.961486</td>\n      <td>-0.100700</td>\n      <td>0.122136</td>\n      <td>0.489376</td>\n      <td>0.241988</td>\n      <td>-0.164488</td>\n      <td>1.707500</td>\n      <td>...</td>\n      <td>0.0</td>\n      <td>0.0</td>\n      <td>0.0</td>\n      <td>0.0</td>\n      <td>0.0</td>\n      <td>0.0</td>\n      <td>0.0</td>\n      <td>1.0</td>\n      <td>0.0</td>\n      <td>0.0</td>\n    </tr>\n    <tr>\n      <th>4406</th>\n      <td>-0.162399</td>\n      <td>-0.887515</td>\n      <td>1.061787</td>\n      <td>-0.961486</td>\n      <td>-0.812504</td>\n      <td>-0.278088</td>\n      <td>-0.057267</td>\n      <td>-0.932014</td>\n      <td>-0.164488</td>\n      <td>-0.620189</td>\n      <td>...</td>\n      <td>0.0</td>\n      <td>0.0</td>\n      <td>0.0</td>\n      <td>1.0</td>\n      <td>0.0</td>\n      <td>0.0</td>\n      <td>0.0</td>\n      <td>0.0</td>\n      <td>0.0</td>\n      <td>0.0</td>\n    </tr>\n    <tr>\n      <th>4407</th>\n      <td>-0.162399</td>\n      <td>1.950552</td>\n      <td>-0.891688</td>\n      <td>-0.057788</td>\n      <td>-0.595138</td>\n      <td>-1.078535</td>\n      <td>1.309341</td>\n      <td>-0.932014</td>\n      <td>-0.807051</td>\n      <td>0.931603</td>\n      <td>...</td>\n      <td>0.0</td>\n      <td>0.0</td>\n      <td>0.0</td>\n      <td>0.0</td>\n      <td>0.0</td>\n      <td>0.0</td>\n      <td>0.0</td>\n      <td>0.0</td>\n      <td>1.0</td>\n      <td>0.0</td>\n    </tr>\n    <tr>\n      <th>4408</th>\n      <td>-0.162399</td>\n      <td>1.086793</td>\n      <td>-0.891688</td>\n      <td>-0.961486</td>\n      <td>-0.872210</td>\n      <td>-1.078535</td>\n      <td>-0.330589</td>\n      <td>0.241988</td>\n      <td>-0.164488</td>\n      <td>-0.620189</td>\n      <td>...</td>\n      <td>0.0</td>\n      <td>0.0</td>\n      <td>0.0</td>\n      <td>1.0</td>\n      <td>0.0</td>\n      <td>0.0</td>\n      <td>0.0</td>\n      <td>0.0</td>\n      <td>0.0</td>\n      <td>0.0</td>\n    </tr>\n    <tr>\n      <th>4409</th>\n      <td>-0.162399</td>\n      <td>2.320735</td>\n      <td>0.085049</td>\n      <td>-0.057788</td>\n      <td>-0.219901</td>\n      <td>-1.078535</td>\n      <td>-0.877232</td>\n      <td>-0.932014</td>\n      <td>NaN</td>\n      <td>2.483396</td>\n      <td>...</td>\n      <td>0.0</td>\n      <td>0.0</td>\n      <td>0.0</td>\n      <td>1.0</td>\n      <td>0.0</td>\n      <td>0.0</td>\n      <td>0.0</td>\n      <td>0.0</td>\n      <td>0.0</td>\n      <td>0.0</td>\n    </tr>\n  </tbody>\n</table>\n<p>4410 rows × 37 columns</p>\n</div>"
     },
     "execution_count": 129,
     "metadata": {},
     "output_type": "execute_result"
    }
   ],
   "source": [
    "X    "
   ],
   "metadata": {
    "collapsed": false,
    "ExecuteTime": {
     "end_time": "2024-02-07T19:24:05.015193700Z",
     "start_time": "2024-02-07T19:24:04.982896300Z"
    }
   },
   "id": "88b29300961fe612",
   "execution_count": 129
  },
  {
   "cell_type": "code",
   "outputs": [
    {
     "data": {
      "text/plain": "0      -1\n1       1\n2      -1\n3      -1\n4      -1\n       ..\n4405   -1\n4406   -1\n4407   -1\n4408   -1\n4409   -1\nName: Attrition, Length: 4410, dtype: int64"
     },
     "execution_count": 130,
     "metadata": {},
     "output_type": "execute_result"
    }
   ],
   "source": [
    "y"
   ],
   "metadata": {
    "collapsed": false,
    "ExecuteTime": {
     "end_time": "2024-02-07T19:24:07.046950400Z",
     "start_time": "2024-02-07T19:24:07.017622400Z"
    }
   },
   "id": "16de0fe6f1b636f9",
   "execution_count": 130
  },
  {
   "cell_type": "code",
   "outputs": [],
   "source": [],
   "metadata": {
    "collapsed": false
   },
   "id": "9cd7a9beea4d2cea"
  }
 ],
 "metadata": {
  "kernelspec": {
   "display_name": "Python 3",
   "language": "python",
   "name": "python3"
  },
  "language_info": {
   "codemirror_mode": {
    "name": "ipython",
    "version": 2
   },
   "file_extension": ".py",
   "mimetype": "text/x-python",
   "name": "python",
   "nbconvert_exporter": "python",
   "pygments_lexer": "ipython2",
   "version": "2.7.6"
  }
 },
 "nbformat": 4,
 "nbformat_minor": 5
}
