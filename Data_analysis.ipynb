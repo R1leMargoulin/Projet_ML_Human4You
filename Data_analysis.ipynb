{
 "cells": [
  {
   "cell_type": "markdown",
   "metadata": {},
   "source": [
    "# Intro\n",
    "\n",
    "Dans cette partie, nous allons traiter/analyser nos données et justifier nos choix pratiques/éthiques au niveau des features choisis."
   ]
  },
  {
   "cell_type": "code",
   "execution_count": 18,
   "metadata": {
    "ExecuteTime": {
     "end_time": "2024-02-05T14:10:37.343625500Z",
     "start_time": "2024-02-05T14:10:36.541318800Z"
    }
   },
   "outputs": [],
   "source": [
    "import pandas as pd\n",
    "from datetime import datetime\n",
    "\n",
    "#ouverture Mise en Dataframe des données\n",
    "employee_survey_data_path = \"datas/employee_survey_data.csv\"\n",
    "manager_survey_data_path = \"datas/manager_survey_data.csv\"\n",
    "general_data_path = \"datas/general_data.csv\"\n",
    "in_time_data_path = \"datas/in_time.csv\"\n",
    "out_time_data_path = \"datas/out_time.csv\"\n",
    "\n",
    "# employee_survey_data = pd.read_csv(employee_survey_data_path)\n",
    "# manager_survey_data = pd.read_csv(manager_survey_data_path)\n",
    "# general_data = pd.read_csv(general_data_path)\n",
    "in_time_data = pd.read_csv(in_time_data_path)\n",
    "out_time_data = pd.read_csv(out_time_data_path)\n",
    "\n",
    "datas_raw = [0]*4\n",
    "\n",
    "datas_raw[0] = pd.read_csv(employee_survey_data_path)\n",
    "datas_raw[1] = pd.read_csv(general_data_path)\n",
    "datas_raw[2] = pd.read_csv(manager_survey_data_path)\n",
    "\n",
    "\n",
    "\n",
    "\n",
    "def merge_datas(datas):\n",
    "    merged_datas = datas[0]\n",
    "    for i in range(len(datas)-1):\n",
    "        merged_datas = pd.merge(merged_datas, datas[i+1], on='EmployeeID', how='inner')\n",
    "    return merged_datas\n"
   ]
  },
  {
   "cell_type": "code",
   "execution_count": 19,
   "metadata": {
    "ExecuteTime": {
     "end_time": "2024-02-05T14:10:48.916047300Z",
     "start_time": "2024-02-05T14:10:37.920217500Z"
    }
   },
   "outputs": [
    {
     "data": {
      "text/plain": "      EmployeeID  MeanWorkingHours\n0              1          6.554356\n1              2          6.979604\n2              3          6.502698\n3              4          6.477067\n4              5          7.515375\n...          ...               ...\n4405        4406          7.934534\n4406        4407          5.626061\n4407        4408          6.820812\n4408        4409          8.765193\n4409        4410          6.212398\n\n[4410 rows x 2 columns]",
      "text/html": "<div>\n<style scoped>\n    .dataframe tbody tr th:only-of-type {\n        vertical-align: middle;\n    }\n\n    .dataframe tbody tr th {\n        vertical-align: top;\n    }\n\n    .dataframe thead th {\n        text-align: right;\n    }\n</style>\n<table border=\"1\" class=\"dataframe\">\n  <thead>\n    <tr style=\"text-align: right;\">\n      <th></th>\n      <th>EmployeeID</th>\n      <th>MeanWorkingHours</th>\n    </tr>\n  </thead>\n  <tbody>\n    <tr>\n      <th>0</th>\n      <td>1</td>\n      <td>6.554356</td>\n    </tr>\n    <tr>\n      <th>1</th>\n      <td>2</td>\n      <td>6.979604</td>\n    </tr>\n    <tr>\n      <th>2</th>\n      <td>3</td>\n      <td>6.502698</td>\n    </tr>\n    <tr>\n      <th>3</th>\n      <td>4</td>\n      <td>6.477067</td>\n    </tr>\n    <tr>\n      <th>4</th>\n      <td>5</td>\n      <td>7.515375</td>\n    </tr>\n    <tr>\n      <th>...</th>\n      <td>...</td>\n      <td>...</td>\n    </tr>\n    <tr>\n      <th>4405</th>\n      <td>4406</td>\n      <td>7.934534</td>\n    </tr>\n    <tr>\n      <th>4406</th>\n      <td>4407</td>\n      <td>5.626061</td>\n    </tr>\n    <tr>\n      <th>4407</th>\n      <td>4408</td>\n      <td>6.820812</td>\n    </tr>\n    <tr>\n      <th>4408</th>\n      <td>4409</td>\n      <td>8.765193</td>\n    </tr>\n    <tr>\n      <th>4409</th>\n      <td>4410</td>\n      <td>6.212398</td>\n    </tr>\n  </tbody>\n</table>\n<p>4410 rows × 2 columns</p>\n</div>"
     },
     "execution_count": 19,
     "metadata": {},
     "output_type": "execute_result"
    }
   ],
   "source": [
    "def to_datetime(strdate):\n",
    "    if type(strdate) == str:\n",
    "        return datetime.strptime(strdate, \"%Y-%m-%d %H:%M:%S\").timestamp()\n",
    "    else:\n",
    "        return 0\n",
    "\n",
    "\n",
    "\n",
    "def get_working_time(in_time_data, out_time_data):\n",
    "    out_time_df = (\n",
    "        out_time_data\n",
    "        .iloc[:,1:]\n",
    "        .applymap(lambda x: to_datetime(x))\n",
    "    )\n",
    "    in_time_df = (\n",
    "        in_time_data\n",
    "        .iloc[:,1:]\n",
    "        .applymap(lambda x: to_datetime(x))\n",
    "    )\n",
    "    hours_per_day = out_time_df - in_time_df\n",
    "    in_time_data[\"MeanWorkingHours\"] = hours_per_day.mean(axis = 1)/3600\n",
    "    return in_time_data[[\"EmployeeID\", \"MeanWorkingHours\"]]\n",
    "\n",
    "datas_raw[3] = get_working_time(in_time_data, out_time_data)\n",
    "\n",
    "datas_raw[3]"
   ]
  },
  {
   "cell_type": "markdown",
   "metadata": {},
   "source": [
    "merging:"
   ]
  },
  {
   "cell_type": "code",
   "execution_count": 20,
   "metadata": {
    "ExecuteTime": {
     "end_time": "2024-02-05T14:10:51.000037700Z",
     "start_time": "2024-02-05T14:10:50.941542400Z"
    }
   },
   "outputs": [
    {
     "data": {
      "text/plain": "      EmployeeID  EnvironmentSatisfaction  JobSatisfaction  WorkLifeBalance  \\\n0              1                      3.0              4.0              2.0   \n1              2                      3.0              2.0              4.0   \n2              3                      2.0              2.0              1.0   \n3              4                      4.0              4.0              3.0   \n4              5                      4.0              1.0              3.0   \n...          ...                      ...              ...              ...   \n4405        4406                      4.0              1.0              3.0   \n4406        4407                      4.0              4.0              3.0   \n4407        4408                      1.0              3.0              3.0   \n4408        4409                      4.0              1.0              3.0   \n4409        4410                      1.0              3.0              NaN   \n\n      Age Attrition     BusinessTravel              Department  \\\n0      51        No      Travel_Rarely                   Sales   \n1      31       Yes  Travel_Frequently  Research & Development   \n2      32        No  Travel_Frequently  Research & Development   \n3      38        No         Non-Travel  Research & Development   \n4      32        No      Travel_Rarely  Research & Development   \n...   ...       ...                ...                     ...   \n4405   42        No      Travel_Rarely  Research & Development   \n4406   29        No      Travel_Rarely  Research & Development   \n4407   25        No      Travel_Rarely  Research & Development   \n4408   42        No      Travel_Rarely                   Sales   \n4409   40        No      Travel_Rarely  Research & Development   \n\n      DistanceFromHome  Education  ... StandardHours  StockOptionLevel  \\\n0                    6          2  ...             8                 0   \n1                   10          1  ...             8                 1   \n2                   17          4  ...             8                 3   \n3                    2          5  ...             8                 3   \n4                   10          1  ...             8                 2   \n...                ...        ...  ...           ...               ...   \n4405                 5          4  ...             8                 1   \n4406                 2          4  ...             8                 0   \n4407                25          2  ...             8                 0   \n4408                18          2  ...             8                 1   \n4409                28          3  ...             8                 0   \n\n     TotalWorkingYears  TrainingTimesLastYear YearsAtCompany  \\\n0                  1.0                      6              1   \n1                  6.0                      3              5   \n2                  5.0                      2              5   \n3                 13.0                      5              8   \n4                  9.0                      2              6   \n...                ...                    ...            ...   \n4405              10.0                      5              3   \n4406              10.0                      2              3   \n4407               5.0                      4              4   \n4408              10.0                      2              9   \n4409               NaN                      6             21   \n\n     YearsSinceLastPromotion  YearsWithCurrManager  JobInvolvement  \\\n0                          0                     0               3   \n1                          1                     4               2   \n2                          0                     3               3   \n3                          7                     5               2   \n4                          0                     4               3   \n...                      ...                   ...             ...   \n4405                       0                     2               3   \n4406                       0                     2               2   \n4407                       1                     2               3   \n4408                       7                     8               2   \n4409                       3                     9               4   \n\n     PerformanceRating  MeanWorkingHours  \n0                    3          6.554356  \n1                    4          6.979604  \n2                    3          6.502698  \n3                    3          6.477067  \n4                    3          7.515375  \n...                ...               ...  \n4405                 3          7.934534  \n4406                 3          5.626061  \n4407                 4          6.820812  \n4408                 3          8.765193  \n4409                 3          6.212398  \n\n[4410 rows x 30 columns]",
      "text/html": "<div>\n<style scoped>\n    .dataframe tbody tr th:only-of-type {\n        vertical-align: middle;\n    }\n\n    .dataframe tbody tr th {\n        vertical-align: top;\n    }\n\n    .dataframe thead th {\n        text-align: right;\n    }\n</style>\n<table border=\"1\" class=\"dataframe\">\n  <thead>\n    <tr style=\"text-align: right;\">\n      <th></th>\n      <th>EmployeeID</th>\n      <th>EnvironmentSatisfaction</th>\n      <th>JobSatisfaction</th>\n      <th>WorkLifeBalance</th>\n      <th>Age</th>\n      <th>Attrition</th>\n      <th>BusinessTravel</th>\n      <th>Department</th>\n      <th>DistanceFromHome</th>\n      <th>Education</th>\n      <th>...</th>\n      <th>StandardHours</th>\n      <th>StockOptionLevel</th>\n      <th>TotalWorkingYears</th>\n      <th>TrainingTimesLastYear</th>\n      <th>YearsAtCompany</th>\n      <th>YearsSinceLastPromotion</th>\n      <th>YearsWithCurrManager</th>\n      <th>JobInvolvement</th>\n      <th>PerformanceRating</th>\n      <th>MeanWorkingHours</th>\n    </tr>\n  </thead>\n  <tbody>\n    <tr>\n      <th>0</th>\n      <td>1</td>\n      <td>3.0</td>\n      <td>4.0</td>\n      <td>2.0</td>\n      <td>51</td>\n      <td>No</td>\n      <td>Travel_Rarely</td>\n      <td>Sales</td>\n      <td>6</td>\n      <td>2</td>\n      <td>...</td>\n      <td>8</td>\n      <td>0</td>\n      <td>1.0</td>\n      <td>6</td>\n      <td>1</td>\n      <td>0</td>\n      <td>0</td>\n      <td>3</td>\n      <td>3</td>\n      <td>6.554356</td>\n    </tr>\n    <tr>\n      <th>1</th>\n      <td>2</td>\n      <td>3.0</td>\n      <td>2.0</td>\n      <td>4.0</td>\n      <td>31</td>\n      <td>Yes</td>\n      <td>Travel_Frequently</td>\n      <td>Research &amp; Development</td>\n      <td>10</td>\n      <td>1</td>\n      <td>...</td>\n      <td>8</td>\n      <td>1</td>\n      <td>6.0</td>\n      <td>3</td>\n      <td>5</td>\n      <td>1</td>\n      <td>4</td>\n      <td>2</td>\n      <td>4</td>\n      <td>6.979604</td>\n    </tr>\n    <tr>\n      <th>2</th>\n      <td>3</td>\n      <td>2.0</td>\n      <td>2.0</td>\n      <td>1.0</td>\n      <td>32</td>\n      <td>No</td>\n      <td>Travel_Frequently</td>\n      <td>Research &amp; Development</td>\n      <td>17</td>\n      <td>4</td>\n      <td>...</td>\n      <td>8</td>\n      <td>3</td>\n      <td>5.0</td>\n      <td>2</td>\n      <td>5</td>\n      <td>0</td>\n      <td>3</td>\n      <td>3</td>\n      <td>3</td>\n      <td>6.502698</td>\n    </tr>\n    <tr>\n      <th>3</th>\n      <td>4</td>\n      <td>4.0</td>\n      <td>4.0</td>\n      <td>3.0</td>\n      <td>38</td>\n      <td>No</td>\n      <td>Non-Travel</td>\n      <td>Research &amp; Development</td>\n      <td>2</td>\n      <td>5</td>\n      <td>...</td>\n      <td>8</td>\n      <td>3</td>\n      <td>13.0</td>\n      <td>5</td>\n      <td>8</td>\n      <td>7</td>\n      <td>5</td>\n      <td>2</td>\n      <td>3</td>\n      <td>6.477067</td>\n    </tr>\n    <tr>\n      <th>4</th>\n      <td>5</td>\n      <td>4.0</td>\n      <td>1.0</td>\n      <td>3.0</td>\n      <td>32</td>\n      <td>No</td>\n      <td>Travel_Rarely</td>\n      <td>Research &amp; Development</td>\n      <td>10</td>\n      <td>1</td>\n      <td>...</td>\n      <td>8</td>\n      <td>2</td>\n      <td>9.0</td>\n      <td>2</td>\n      <td>6</td>\n      <td>0</td>\n      <td>4</td>\n      <td>3</td>\n      <td>3</td>\n      <td>7.515375</td>\n    </tr>\n    <tr>\n      <th>...</th>\n      <td>...</td>\n      <td>...</td>\n      <td>...</td>\n      <td>...</td>\n      <td>...</td>\n      <td>...</td>\n      <td>...</td>\n      <td>...</td>\n      <td>...</td>\n      <td>...</td>\n      <td>...</td>\n      <td>...</td>\n      <td>...</td>\n      <td>...</td>\n      <td>...</td>\n      <td>...</td>\n      <td>...</td>\n      <td>...</td>\n      <td>...</td>\n      <td>...</td>\n      <td>...</td>\n    </tr>\n    <tr>\n      <th>4405</th>\n      <td>4406</td>\n      <td>4.0</td>\n      <td>1.0</td>\n      <td>3.0</td>\n      <td>42</td>\n      <td>No</td>\n      <td>Travel_Rarely</td>\n      <td>Research &amp; Development</td>\n      <td>5</td>\n      <td>4</td>\n      <td>...</td>\n      <td>8</td>\n      <td>1</td>\n      <td>10.0</td>\n      <td>5</td>\n      <td>3</td>\n      <td>0</td>\n      <td>2</td>\n      <td>3</td>\n      <td>3</td>\n      <td>7.934534</td>\n    </tr>\n    <tr>\n      <th>4406</th>\n      <td>4407</td>\n      <td>4.0</td>\n      <td>4.0</td>\n      <td>3.0</td>\n      <td>29</td>\n      <td>No</td>\n      <td>Travel_Rarely</td>\n      <td>Research &amp; Development</td>\n      <td>2</td>\n      <td>4</td>\n      <td>...</td>\n      <td>8</td>\n      <td>0</td>\n      <td>10.0</td>\n      <td>2</td>\n      <td>3</td>\n      <td>0</td>\n      <td>2</td>\n      <td>2</td>\n      <td>3</td>\n      <td>5.626061</td>\n    </tr>\n    <tr>\n      <th>4407</th>\n      <td>4408</td>\n      <td>1.0</td>\n      <td>3.0</td>\n      <td>3.0</td>\n      <td>25</td>\n      <td>No</td>\n      <td>Travel_Rarely</td>\n      <td>Research &amp; Development</td>\n      <td>25</td>\n      <td>2</td>\n      <td>...</td>\n      <td>8</td>\n      <td>0</td>\n      <td>5.0</td>\n      <td>4</td>\n      <td>4</td>\n      <td>1</td>\n      <td>2</td>\n      <td>3</td>\n      <td>4</td>\n      <td>6.820812</td>\n    </tr>\n    <tr>\n      <th>4408</th>\n      <td>4409</td>\n      <td>4.0</td>\n      <td>1.0</td>\n      <td>3.0</td>\n      <td>42</td>\n      <td>No</td>\n      <td>Travel_Rarely</td>\n      <td>Sales</td>\n      <td>18</td>\n      <td>2</td>\n      <td>...</td>\n      <td>8</td>\n      <td>1</td>\n      <td>10.0</td>\n      <td>2</td>\n      <td>9</td>\n      <td>7</td>\n      <td>8</td>\n      <td>2</td>\n      <td>3</td>\n      <td>8.765193</td>\n    </tr>\n    <tr>\n      <th>4409</th>\n      <td>4410</td>\n      <td>1.0</td>\n      <td>3.0</td>\n      <td>NaN</td>\n      <td>40</td>\n      <td>No</td>\n      <td>Travel_Rarely</td>\n      <td>Research &amp; Development</td>\n      <td>28</td>\n      <td>3</td>\n      <td>...</td>\n      <td>8</td>\n      <td>0</td>\n      <td>NaN</td>\n      <td>6</td>\n      <td>21</td>\n      <td>3</td>\n      <td>9</td>\n      <td>4</td>\n      <td>3</td>\n      <td>6.212398</td>\n    </tr>\n  </tbody>\n</table>\n<p>4410 rows × 30 columns</p>\n</div>"
     },
     "execution_count": 20,
     "metadata": {},
     "output_type": "execute_result"
    }
   ],
   "source": [
    "datas = merge_datas(datas_raw)\n",
    "datas"
   ]
  },
  {
   "cell_type": "markdown",
   "metadata": {},
   "source": [
    "# Filtre Ethique\n",
    "ici, on enleve les features ethiquement discutables. On a identifié:\n",
    "- age\n",
    "- Gender\n",
    "- MaritalStatus"
   ]
  },
  {
   "cell_type": "code",
   "execution_count": 21,
   "metadata": {
    "ExecuteTime": {
     "end_time": "2024-02-05T14:10:54.442557800Z",
     "start_time": "2024-02-05T14:10:54.431390900Z"
    }
   },
   "outputs": [
    {
     "name": "stdout",
     "output_type": "stream",
     "text": [
      "<class 'pandas.core.frame.DataFrame'>\n",
      "RangeIndex: 4410 entries, 0 to 4409\n",
      "Data columns (total 27 columns):\n",
      " #   Column                   Non-Null Count  Dtype  \n",
      "---  ------                   --------------  -----  \n",
      " 0   EmployeeID               4410 non-null   int64  \n",
      " 1   EnvironmentSatisfaction  4385 non-null   float64\n",
      " 2   JobSatisfaction          4390 non-null   float64\n",
      " 3   WorkLifeBalance          4372 non-null   float64\n",
      " 4   Attrition                4410 non-null   object \n",
      " 5   BusinessTravel           4410 non-null   object \n",
      " 6   Department               4410 non-null   object \n",
      " 7   DistanceFromHome         4410 non-null   int64  \n",
      " 8   Education                4410 non-null   int64  \n",
      " 9   EducationField           4410 non-null   object \n",
      " 10  EmployeeCount            4410 non-null   int64  \n",
      " 11  JobLevel                 4410 non-null   int64  \n",
      " 12  JobRole                  4410 non-null   object \n",
      " 13  MonthlyIncome            4410 non-null   int64  \n",
      " 14  NumCompaniesWorked       4391 non-null   float64\n",
      " 15  Over18                   4410 non-null   object \n",
      " 16  PercentSalaryHike        4410 non-null   int64  \n",
      " 17  StandardHours            4410 non-null   int64  \n",
      " 18  StockOptionLevel         4410 non-null   int64  \n",
      " 19  TotalWorkingYears        4401 non-null   float64\n",
      " 20  TrainingTimesLastYear    4410 non-null   int64  \n",
      " 21  YearsAtCompany           4410 non-null   int64  \n",
      " 22  YearsSinceLastPromotion  4410 non-null   int64  \n",
      " 23  YearsWithCurrManager     4410 non-null   int64  \n",
      " 24  JobInvolvement           4410 non-null   int64  \n",
      " 25  PerformanceRating        4410 non-null   int64  \n",
      " 26  MeanWorkingHours         4410 non-null   float64\n",
      "dtypes: float64(6), int64(15), object(6)\n",
      "memory usage: 930.4+ KB\n"
     ]
    }
   ],
   "source": [
    "datas.drop(columns=[\"Age\",\"Gender\",\"MaritalStatus\"], axis=1, inplace=True, errors=\"ignore\")\n",
    "datas.info()"
   ]
  },
  {
   "cell_type": "markdown",
   "metadata": {},
   "source": [
    "# Vérification d'exhaustivité\n",
    "Dans un premier temps, on regarde les données pour voir s'il y a des features manquantes pour certaines instances."
   ]
  },
  {
   "cell_type": "code",
   "execution_count": 22,
   "metadata": {
    "ExecuteTime": {
     "end_time": "2024-02-05T14:10:56.726512400Z",
     "start_time": "2024-02-05T14:10:56.701173300Z"
    }
   },
   "outputs": [
    {
     "name": "stdout",
     "output_type": "stream",
     "text": [
      "<class 'pandas.core.frame.DataFrame'>\n",
      "RangeIndex: 4410 entries, 0 to 4409\n",
      "Data columns (total 27 columns):\n",
      " #   Column                   Non-Null Count  Dtype  \n",
      "---  ------                   --------------  -----  \n",
      " 0   EmployeeID               4410 non-null   int64  \n",
      " 1   EnvironmentSatisfaction  4385 non-null   float64\n",
      " 2   JobSatisfaction          4390 non-null   float64\n",
      " 3   WorkLifeBalance          4372 non-null   float64\n",
      " 4   Attrition                4410 non-null   object \n",
      " 5   BusinessTravel           4410 non-null   object \n",
      " 6   Department               4410 non-null   object \n",
      " 7   DistanceFromHome         4410 non-null   int64  \n",
      " 8   Education                4410 non-null   int64  \n",
      " 9   EducationField           4410 non-null   object \n",
      " 10  EmployeeCount            4410 non-null   int64  \n",
      " 11  JobLevel                 4410 non-null   int64  \n",
      " 12  JobRole                  4410 non-null   object \n",
      " 13  MonthlyIncome            4410 non-null   int64  \n",
      " 14  NumCompaniesWorked       4391 non-null   float64\n",
      " 15  Over18                   4410 non-null   object \n",
      " 16  PercentSalaryHike        4410 non-null   int64  \n",
      " 17  StandardHours            4410 non-null   int64  \n",
      " 18  StockOptionLevel         4410 non-null   int64  \n",
      " 19  TotalWorkingYears        4401 non-null   float64\n",
      " 20  TrainingTimesLastYear    4410 non-null   int64  \n",
      " 21  YearsAtCompany           4410 non-null   int64  \n",
      " 22  YearsSinceLastPromotion  4410 non-null   int64  \n",
      " 23  YearsWithCurrManager     4410 non-null   int64  \n",
      " 24  JobInvolvement           4410 non-null   int64  \n",
      " 25  PerformanceRating        4410 non-null   int64  \n",
      " 26  MeanWorkingHours         4410 non-null   float64\n",
      "dtypes: float64(6), int64(15), object(6)\n",
      "memory usage: 930.4+ KB\n",
      "None\n"
     ]
    }
   ],
   "source": [
    "print(datas.info())\n"
   ]
  },
  {
   "cell_type": "code",
   "execution_count": 22,
   "metadata": {
    "ExecuteTime": {
     "end_time": "2024-02-05T14:10:58.008660500Z",
     "start_time": "2024-02-05T14:10:58.003148600Z"
    }
   },
   "outputs": [],
   "source": []
  },
  {
   "cell_type": "markdown",
   "metadata": {},
   "source": [
    "# Traitement des données non numériques"
   ]
  },
  {
   "cell_type": "markdown",
   "metadata": {},
   "source": [
    "Il nous reste 4382 instances, on a donc toujours largement assez de données\n",
    "\n",
    "Il faut maintenant gérer nos données qui sont autres que numériques\n",
    "\n",
    "Premièrement, nous allons quantifier la fréquence de voyages d'affaires de nos salariés:"
   ]
  },
  {
   "cell_type": "code",
   "execution_count": 23,
   "metadata": {
    "ExecuteTime": {
     "end_time": "2024-02-05T14:10:59.509972Z",
     "start_time": "2024-02-05T14:10:59.501500800Z"
    }
   },
   "outputs": [],
   "source": [
    "#import numpy as np\n",
    "from sklearn.preprocessing import OrdinalEncoder\n",
    "\n",
    "\n",
    "mapping_dict = {'Non-Travel': 1, 'Travel_Rarely': 2, 'Travel_Frequently': 3}\n",
    "\n",
    "datas['BusinessTravel'] = datas['BusinessTravel'].map(mapping_dict)\n",
    "\n",
    "\n",
    "# encoder.fit()"
   ]
  },
  {
   "cell_type": "code",
   "execution_count": 24,
   "metadata": {
    "ExecuteTime": {
     "end_time": "2024-02-05T14:11:00.371807200Z",
     "start_time": "2024-02-05T14:11:00.323167500Z"
    }
   },
   "outputs": [
    {
     "data": {
      "text/plain": "      EmployeeID  EnvironmentSatisfaction  JobSatisfaction  WorkLifeBalance  \\\n0              1                      3.0              4.0              2.0   \n1              2                      3.0              2.0              4.0   \n2              3                      2.0              2.0              1.0   \n3              4                      4.0              4.0              3.0   \n4              5                      4.0              1.0              3.0   \n...          ...                      ...              ...              ...   \n4405        4406                      4.0              1.0              3.0   \n4406        4407                      4.0              4.0              3.0   \n4407        4408                      1.0              3.0              3.0   \n4408        4409                      4.0              1.0              3.0   \n4409        4410                      1.0              3.0              NaN   \n\n      Attrition  BusinessTravel              Department  DistanceFromHome  \\\n0             0               2                   Sales                 6   \n1             1               3  Research & Development                10   \n2             0               3  Research & Development                17   \n3             0               1  Research & Development                 2   \n4             0               2  Research & Development                10   \n...         ...             ...                     ...               ...   \n4405          0               2  Research & Development                 5   \n4406          0               2  Research & Development                 2   \n4407          0               2  Research & Development                25   \n4408          0               2                   Sales                18   \n4409          0               2  Research & Development                28   \n\n      Education EducationField  ...  StandardHours  StockOptionLevel  \\\n0             2  Life Sciences  ...              8                 0   \n1             1  Life Sciences  ...              8                 1   \n2             4          Other  ...              8                 3   \n3             5  Life Sciences  ...              8                 3   \n4             1        Medical  ...              8                 2   \n...         ...            ...  ...            ...               ...   \n4405          4        Medical  ...              8                 1   \n4406          4        Medical  ...              8                 0   \n4407          2  Life Sciences  ...              8                 0   \n4408          2        Medical  ...              8                 1   \n4409          3        Medical  ...              8                 0   \n\n     TotalWorkingYears  TrainingTimesLastYear  YearsAtCompany  \\\n0                  1.0                      6               1   \n1                  6.0                      3               5   \n2                  5.0                      2               5   \n3                 13.0                      5               8   \n4                  9.0                      2               6   \n...                ...                    ...             ...   \n4405              10.0                      5               3   \n4406              10.0                      2               3   \n4407               5.0                      4               4   \n4408              10.0                      2               9   \n4409               NaN                      6              21   \n\n     YearsSinceLastPromotion  YearsWithCurrManager  JobInvolvement  \\\n0                          0                     0               3   \n1                          1                     4               2   \n2                          0                     3               3   \n3                          7                     5               2   \n4                          0                     4               3   \n...                      ...                   ...             ...   \n4405                       0                     2               3   \n4406                       0                     2               2   \n4407                       1                     2               3   \n4408                       7                     8               2   \n4409                       3                     9               4   \n\n      PerformanceRating  MeanWorkingHours  \n0                     3          6.554356  \n1                     4          6.979604  \n2                     3          6.502698  \n3                     3          6.477067  \n4                     3          7.515375  \n...                 ...               ...  \n4405                  3          7.934534  \n4406                  3          5.626061  \n4407                  4          6.820812  \n4408                  3          8.765193  \n4409                  3          6.212398  \n\n[4410 rows x 27 columns]",
      "text/html": "<div>\n<style scoped>\n    .dataframe tbody tr th:only-of-type {\n        vertical-align: middle;\n    }\n\n    .dataframe tbody tr th {\n        vertical-align: top;\n    }\n\n    .dataframe thead th {\n        text-align: right;\n    }\n</style>\n<table border=\"1\" class=\"dataframe\">\n  <thead>\n    <tr style=\"text-align: right;\">\n      <th></th>\n      <th>EmployeeID</th>\n      <th>EnvironmentSatisfaction</th>\n      <th>JobSatisfaction</th>\n      <th>WorkLifeBalance</th>\n      <th>Attrition</th>\n      <th>BusinessTravel</th>\n      <th>Department</th>\n      <th>DistanceFromHome</th>\n      <th>Education</th>\n      <th>EducationField</th>\n      <th>...</th>\n      <th>StandardHours</th>\n      <th>StockOptionLevel</th>\n      <th>TotalWorkingYears</th>\n      <th>TrainingTimesLastYear</th>\n      <th>YearsAtCompany</th>\n      <th>YearsSinceLastPromotion</th>\n      <th>YearsWithCurrManager</th>\n      <th>JobInvolvement</th>\n      <th>PerformanceRating</th>\n      <th>MeanWorkingHours</th>\n    </tr>\n  </thead>\n  <tbody>\n    <tr>\n      <th>0</th>\n      <td>1</td>\n      <td>3.0</td>\n      <td>4.0</td>\n      <td>2.0</td>\n      <td>0</td>\n      <td>2</td>\n      <td>Sales</td>\n      <td>6</td>\n      <td>2</td>\n      <td>Life Sciences</td>\n      <td>...</td>\n      <td>8</td>\n      <td>0</td>\n      <td>1.0</td>\n      <td>6</td>\n      <td>1</td>\n      <td>0</td>\n      <td>0</td>\n      <td>3</td>\n      <td>3</td>\n      <td>6.554356</td>\n    </tr>\n    <tr>\n      <th>1</th>\n      <td>2</td>\n      <td>3.0</td>\n      <td>2.0</td>\n      <td>4.0</td>\n      <td>1</td>\n      <td>3</td>\n      <td>Research &amp; Development</td>\n      <td>10</td>\n      <td>1</td>\n      <td>Life Sciences</td>\n      <td>...</td>\n      <td>8</td>\n      <td>1</td>\n      <td>6.0</td>\n      <td>3</td>\n      <td>5</td>\n      <td>1</td>\n      <td>4</td>\n      <td>2</td>\n      <td>4</td>\n      <td>6.979604</td>\n    </tr>\n    <tr>\n      <th>2</th>\n      <td>3</td>\n      <td>2.0</td>\n      <td>2.0</td>\n      <td>1.0</td>\n      <td>0</td>\n      <td>3</td>\n      <td>Research &amp; Development</td>\n      <td>17</td>\n      <td>4</td>\n      <td>Other</td>\n      <td>...</td>\n      <td>8</td>\n      <td>3</td>\n      <td>5.0</td>\n      <td>2</td>\n      <td>5</td>\n      <td>0</td>\n      <td>3</td>\n      <td>3</td>\n      <td>3</td>\n      <td>6.502698</td>\n    </tr>\n    <tr>\n      <th>3</th>\n      <td>4</td>\n      <td>4.0</td>\n      <td>4.0</td>\n      <td>3.0</td>\n      <td>0</td>\n      <td>1</td>\n      <td>Research &amp; Development</td>\n      <td>2</td>\n      <td>5</td>\n      <td>Life Sciences</td>\n      <td>...</td>\n      <td>8</td>\n      <td>3</td>\n      <td>13.0</td>\n      <td>5</td>\n      <td>8</td>\n      <td>7</td>\n      <td>5</td>\n      <td>2</td>\n      <td>3</td>\n      <td>6.477067</td>\n    </tr>\n    <tr>\n      <th>4</th>\n      <td>5</td>\n      <td>4.0</td>\n      <td>1.0</td>\n      <td>3.0</td>\n      <td>0</td>\n      <td>2</td>\n      <td>Research &amp; Development</td>\n      <td>10</td>\n      <td>1</td>\n      <td>Medical</td>\n      <td>...</td>\n      <td>8</td>\n      <td>2</td>\n      <td>9.0</td>\n      <td>2</td>\n      <td>6</td>\n      <td>0</td>\n      <td>4</td>\n      <td>3</td>\n      <td>3</td>\n      <td>7.515375</td>\n    </tr>\n    <tr>\n      <th>...</th>\n      <td>...</td>\n      <td>...</td>\n      <td>...</td>\n      <td>...</td>\n      <td>...</td>\n      <td>...</td>\n      <td>...</td>\n      <td>...</td>\n      <td>...</td>\n      <td>...</td>\n      <td>...</td>\n      <td>...</td>\n      <td>...</td>\n      <td>...</td>\n      <td>...</td>\n      <td>...</td>\n      <td>...</td>\n      <td>...</td>\n      <td>...</td>\n      <td>...</td>\n      <td>...</td>\n    </tr>\n    <tr>\n      <th>4405</th>\n      <td>4406</td>\n      <td>4.0</td>\n      <td>1.0</td>\n      <td>3.0</td>\n      <td>0</td>\n      <td>2</td>\n      <td>Research &amp; Development</td>\n      <td>5</td>\n      <td>4</td>\n      <td>Medical</td>\n      <td>...</td>\n      <td>8</td>\n      <td>1</td>\n      <td>10.0</td>\n      <td>5</td>\n      <td>3</td>\n      <td>0</td>\n      <td>2</td>\n      <td>3</td>\n      <td>3</td>\n      <td>7.934534</td>\n    </tr>\n    <tr>\n      <th>4406</th>\n      <td>4407</td>\n      <td>4.0</td>\n      <td>4.0</td>\n      <td>3.0</td>\n      <td>0</td>\n      <td>2</td>\n      <td>Research &amp; Development</td>\n      <td>2</td>\n      <td>4</td>\n      <td>Medical</td>\n      <td>...</td>\n      <td>8</td>\n      <td>0</td>\n      <td>10.0</td>\n      <td>2</td>\n      <td>3</td>\n      <td>0</td>\n      <td>2</td>\n      <td>2</td>\n      <td>3</td>\n      <td>5.626061</td>\n    </tr>\n    <tr>\n      <th>4407</th>\n      <td>4408</td>\n      <td>1.0</td>\n      <td>3.0</td>\n      <td>3.0</td>\n      <td>0</td>\n      <td>2</td>\n      <td>Research &amp; Development</td>\n      <td>25</td>\n      <td>2</td>\n      <td>Life Sciences</td>\n      <td>...</td>\n      <td>8</td>\n      <td>0</td>\n      <td>5.0</td>\n      <td>4</td>\n      <td>4</td>\n      <td>1</td>\n      <td>2</td>\n      <td>3</td>\n      <td>4</td>\n      <td>6.820812</td>\n    </tr>\n    <tr>\n      <th>4408</th>\n      <td>4409</td>\n      <td>4.0</td>\n      <td>1.0</td>\n      <td>3.0</td>\n      <td>0</td>\n      <td>2</td>\n      <td>Sales</td>\n      <td>18</td>\n      <td>2</td>\n      <td>Medical</td>\n      <td>...</td>\n      <td>8</td>\n      <td>1</td>\n      <td>10.0</td>\n      <td>2</td>\n      <td>9</td>\n      <td>7</td>\n      <td>8</td>\n      <td>2</td>\n      <td>3</td>\n      <td>8.765193</td>\n    </tr>\n    <tr>\n      <th>4409</th>\n      <td>4410</td>\n      <td>1.0</td>\n      <td>3.0</td>\n      <td>NaN</td>\n      <td>0</td>\n      <td>2</td>\n      <td>Research &amp; Development</td>\n      <td>28</td>\n      <td>3</td>\n      <td>Medical</td>\n      <td>...</td>\n      <td>8</td>\n      <td>0</td>\n      <td>NaN</td>\n      <td>6</td>\n      <td>21</td>\n      <td>3</td>\n      <td>9</td>\n      <td>4</td>\n      <td>3</td>\n      <td>6.212398</td>\n    </tr>\n  </tbody>\n</table>\n<p>4410 rows × 27 columns</p>\n</div>"
     },
     "execution_count": 24,
     "metadata": {},
     "output_type": "execute_result"
    }
   ],
   "source": [
    "mapping_dict = {'No': 0, 'Yes': 1}\n",
    "datas['Attrition'] = datas['Attrition'].map(mapping_dict)\n",
    "\n",
    "datas"
   ]
  },
  {
   "cell_type": "markdown",
   "metadata": {},
   "source": [
    "En explorant nos données, on remarque qu'il y a des données uniques pour toutes nos itérations:"
   ]
  },
  {
   "cell_type": "code",
   "execution_count": 25,
   "metadata": {
    "ExecuteTime": {
     "end_time": "2024-02-05T14:11:01.820993200Z",
     "start_time": "2024-02-05T14:11:01.814246Z"
    }
   },
   "outputs": [],
   "source": [
    "\n",
    "#clean les donnees string ici avant ce bloc!!!!!!!!!!!!!!!!!!!!!!!!!!!!!!!!!!!!!!!!!!!!!!!!!!!!!!!!!!!!!!!!!!!!!!!!!!!!!!!!!!!!!!\n",
    "#datas.hist(bins=50, figsize=(20,15))"
   ]
  },
  {
   "cell_type": "markdown",
   "metadata": {},
   "source": [
    "on peut donc enlever:\n",
    "- EmployeeCount\n",
    "- Over18\n",
    "- StandardHours"
   ]
  },
  {
   "cell_type": "code",
   "execution_count": 26,
   "metadata": {
    "ExecuteTime": {
     "end_time": "2024-02-05T14:11:03.206899300Z",
     "start_time": "2024-02-05T14:11:03.195670700Z"
    }
   },
   "outputs": [
    {
     "name": "stdout",
     "output_type": "stream",
     "text": [
      "<class 'pandas.core.frame.DataFrame'>\n",
      "RangeIndex: 4410 entries, 0 to 4409\n",
      "Data columns (total 24 columns):\n",
      " #   Column                   Non-Null Count  Dtype  \n",
      "---  ------                   --------------  -----  \n",
      " 0   EmployeeID               4410 non-null   int64  \n",
      " 1   EnvironmentSatisfaction  4385 non-null   float64\n",
      " 2   JobSatisfaction          4390 non-null   float64\n",
      " 3   WorkLifeBalance          4372 non-null   float64\n",
      " 4   Attrition                4410 non-null   int64  \n",
      " 5   BusinessTravel           4410 non-null   int64  \n",
      " 6   Department               4410 non-null   object \n",
      " 7   DistanceFromHome         4410 non-null   int64  \n",
      " 8   Education                4410 non-null   int64  \n",
      " 9   EducationField           4410 non-null   object \n",
      " 10  JobLevel                 4410 non-null   int64  \n",
      " 11  JobRole                  4410 non-null   object \n",
      " 12  MonthlyIncome            4410 non-null   int64  \n",
      " 13  NumCompaniesWorked       4391 non-null   float64\n",
      " 14  PercentSalaryHike        4410 non-null   int64  \n",
      " 15  StockOptionLevel         4410 non-null   int64  \n",
      " 16  TotalWorkingYears        4401 non-null   float64\n",
      " 17  TrainingTimesLastYear    4410 non-null   int64  \n",
      " 18  YearsAtCompany           4410 non-null   int64  \n",
      " 19  YearsSinceLastPromotion  4410 non-null   int64  \n",
      " 20  YearsWithCurrManager     4410 non-null   int64  \n",
      " 21  JobInvolvement           4410 non-null   int64  \n",
      " 22  PerformanceRating        4410 non-null   int64  \n",
      " 23  MeanWorkingHours         4410 non-null   float64\n",
      "dtypes: float64(6), int64(15), object(3)\n",
      "memory usage: 827.0+ KB\n"
     ]
    }
   ],
   "source": [
    "datas.drop(columns=[\"EmployeeCount\",\"Over18\",\"StandardHours\"], errors=\"ignore\", inplace=True)\n",
    "datas.info()"
   ]
  },
  {
   "cell_type": "markdown",
   "metadata": {},
   "source": [
    "Faisons maintenant des OneHotEncoders des données string restantes"
   ]
  },
  {
   "cell_type": "code",
   "execution_count": 27,
   "metadata": {
    "ExecuteTime": {
     "end_time": "2024-02-05T14:11:04.275797500Z",
     "start_time": "2024-02-05T14:11:04.227098Z"
    }
   },
   "outputs": [
    {
     "data": {
      "text/plain": "      EducationField_Human Resources  EducationField_Life Sciences  \\\n0                                0.0                           1.0   \n1                                0.0                           1.0   \n2                                0.0                           0.0   \n3                                0.0                           1.0   \n4                                0.0                           0.0   \n...                              ...                           ...   \n4405                             0.0                           0.0   \n4406                             0.0                           0.0   \n4407                             0.0                           1.0   \n4408                             0.0                           0.0   \n4409                             0.0                           0.0   \n\n      EducationField_Marketing  EducationField_Medical  EducationField_Other  \\\n0                          0.0                     0.0                   0.0   \n1                          0.0                     0.0                   0.0   \n2                          0.0                     0.0                   1.0   \n3                          0.0                     0.0                   0.0   \n4                          0.0                     1.0                   0.0   \n...                        ...                     ...                   ...   \n4405                       0.0                     1.0                   0.0   \n4406                       0.0                     1.0                   0.0   \n4407                       0.0                     0.0                   0.0   \n4408                       0.0                     1.0                   0.0   \n4409                       0.0                     1.0                   0.0   \n\n      EducationField_Technical Degree  Department_Human Resources  \\\n0                                 0.0                         0.0   \n1                                 0.0                         0.0   \n2                                 0.0                         0.0   \n3                                 0.0                         0.0   \n4                                 0.0                         0.0   \n...                               ...                         ...   \n4405                              0.0                         0.0   \n4406                              0.0                         0.0   \n4407                              0.0                         0.0   \n4408                              0.0                         0.0   \n4409                              0.0                         0.0   \n\n      Department_Research & Development  Department_Sales  \\\n0                                   0.0               1.0   \n1                                   1.0               0.0   \n2                                   1.0               0.0   \n3                                   1.0               0.0   \n4                                   1.0               0.0   \n...                                 ...               ...   \n4405                                1.0               0.0   \n4406                                1.0               0.0   \n4407                                1.0               0.0   \n4408                                0.0               1.0   \n4409                                1.0               0.0   \n\n      JobRole_Healthcare Representative  JobRole_Human Resources  \\\n0                                   1.0                      0.0   \n1                                   0.0                      0.0   \n2                                   0.0                      0.0   \n3                                   0.0                      1.0   \n4                                   0.0                      0.0   \n...                                 ...                      ...   \n4405                                0.0                      0.0   \n4406                                0.0                      0.0   \n4407                                0.0                      0.0   \n4408                                0.0                      0.0   \n4409                                0.0                      0.0   \n\n      JobRole_Laboratory Technician  JobRole_Manager  \\\n0                               0.0              0.0   \n1                               0.0              0.0   \n2                               0.0              0.0   \n3                               0.0              0.0   \n4                               0.0              0.0   \n...                             ...              ...   \n4405                            0.0              0.0   \n4406                            1.0              0.0   \n4407                            0.0              0.0   \n4408                            1.0              0.0   \n4409                            1.0              0.0   \n\n      JobRole_Manufacturing Director  JobRole_Research Director  \\\n0                                0.0                        0.0   \n1                                0.0                        0.0   \n2                                0.0                        0.0   \n3                                0.0                        0.0   \n4                                0.0                        0.0   \n...                              ...                        ...   \n4405                             0.0                        0.0   \n4406                             0.0                        0.0   \n4407                             0.0                        0.0   \n4408                             0.0                        0.0   \n4409                             0.0                        0.0   \n\n      JobRole_Research Scientist  JobRole_Sales Executive  \\\n0                            0.0                      0.0   \n1                            1.0                      0.0   \n2                            0.0                      1.0   \n3                            0.0                      0.0   \n4                            0.0                      1.0   \n...                          ...                      ...   \n4405                         1.0                      0.0   \n4406                         0.0                      0.0   \n4407                         0.0                      1.0   \n4408                         0.0                      0.0   \n4409                         0.0                      0.0   \n\n      JobRole_Sales Representative  \n0                              0.0  \n1                              0.0  \n2                              0.0  \n3                              0.0  \n4                              0.0  \n...                            ...  \n4405                           0.0  \n4406                           0.0  \n4407                           0.0  \n4408                           0.0  \n4409                           0.0  \n\n[4410 rows x 18 columns]",
      "text/html": "<div>\n<style scoped>\n    .dataframe tbody tr th:only-of-type {\n        vertical-align: middle;\n    }\n\n    .dataframe tbody tr th {\n        vertical-align: top;\n    }\n\n    .dataframe thead th {\n        text-align: right;\n    }\n</style>\n<table border=\"1\" class=\"dataframe\">\n  <thead>\n    <tr style=\"text-align: right;\">\n      <th></th>\n      <th>EducationField_Human Resources</th>\n      <th>EducationField_Life Sciences</th>\n      <th>EducationField_Marketing</th>\n      <th>EducationField_Medical</th>\n      <th>EducationField_Other</th>\n      <th>EducationField_Technical Degree</th>\n      <th>Department_Human Resources</th>\n      <th>Department_Research &amp; Development</th>\n      <th>Department_Sales</th>\n      <th>JobRole_Healthcare Representative</th>\n      <th>JobRole_Human Resources</th>\n      <th>JobRole_Laboratory Technician</th>\n      <th>JobRole_Manager</th>\n      <th>JobRole_Manufacturing Director</th>\n      <th>JobRole_Research Director</th>\n      <th>JobRole_Research Scientist</th>\n      <th>JobRole_Sales Executive</th>\n      <th>JobRole_Sales Representative</th>\n    </tr>\n  </thead>\n  <tbody>\n    <tr>\n      <th>0</th>\n      <td>0.0</td>\n      <td>1.0</td>\n      <td>0.0</td>\n      <td>0.0</td>\n      <td>0.0</td>\n      <td>0.0</td>\n      <td>0.0</td>\n      <td>0.0</td>\n      <td>1.0</td>\n      <td>1.0</td>\n      <td>0.0</td>\n      <td>0.0</td>\n      <td>0.0</td>\n      <td>0.0</td>\n      <td>0.0</td>\n      <td>0.0</td>\n      <td>0.0</td>\n      <td>0.0</td>\n    </tr>\n    <tr>\n      <th>1</th>\n      <td>0.0</td>\n      <td>1.0</td>\n      <td>0.0</td>\n      <td>0.0</td>\n      <td>0.0</td>\n      <td>0.0</td>\n      <td>0.0</td>\n      <td>1.0</td>\n      <td>0.0</td>\n      <td>0.0</td>\n      <td>0.0</td>\n      <td>0.0</td>\n      <td>0.0</td>\n      <td>0.0</td>\n      <td>0.0</td>\n      <td>1.0</td>\n      <td>0.0</td>\n      <td>0.0</td>\n    </tr>\n    <tr>\n      <th>2</th>\n      <td>0.0</td>\n      <td>0.0</td>\n      <td>0.0</td>\n      <td>0.0</td>\n      <td>1.0</td>\n      <td>0.0</td>\n      <td>0.0</td>\n      <td>1.0</td>\n      <td>0.0</td>\n      <td>0.0</td>\n      <td>0.0</td>\n      <td>0.0</td>\n      <td>0.0</td>\n      <td>0.0</td>\n      <td>0.0</td>\n      <td>0.0</td>\n      <td>1.0</td>\n      <td>0.0</td>\n    </tr>\n    <tr>\n      <th>3</th>\n      <td>0.0</td>\n      <td>1.0</td>\n      <td>0.0</td>\n      <td>0.0</td>\n      <td>0.0</td>\n      <td>0.0</td>\n      <td>0.0</td>\n      <td>1.0</td>\n      <td>0.0</td>\n      <td>0.0</td>\n      <td>1.0</td>\n      <td>0.0</td>\n      <td>0.0</td>\n      <td>0.0</td>\n      <td>0.0</td>\n      <td>0.0</td>\n      <td>0.0</td>\n      <td>0.0</td>\n    </tr>\n    <tr>\n      <th>4</th>\n      <td>0.0</td>\n      <td>0.0</td>\n      <td>0.0</td>\n      <td>1.0</td>\n      <td>0.0</td>\n      <td>0.0</td>\n      <td>0.0</td>\n      <td>1.0</td>\n      <td>0.0</td>\n      <td>0.0</td>\n      <td>0.0</td>\n      <td>0.0</td>\n      <td>0.0</td>\n      <td>0.0</td>\n      <td>0.0</td>\n      <td>0.0</td>\n      <td>1.0</td>\n      <td>0.0</td>\n    </tr>\n    <tr>\n      <th>...</th>\n      <td>...</td>\n      <td>...</td>\n      <td>...</td>\n      <td>...</td>\n      <td>...</td>\n      <td>...</td>\n      <td>...</td>\n      <td>...</td>\n      <td>...</td>\n      <td>...</td>\n      <td>...</td>\n      <td>...</td>\n      <td>...</td>\n      <td>...</td>\n      <td>...</td>\n      <td>...</td>\n      <td>...</td>\n      <td>...</td>\n    </tr>\n    <tr>\n      <th>4405</th>\n      <td>0.0</td>\n      <td>0.0</td>\n      <td>0.0</td>\n      <td>1.0</td>\n      <td>0.0</td>\n      <td>0.0</td>\n      <td>0.0</td>\n      <td>1.0</td>\n      <td>0.0</td>\n      <td>0.0</td>\n      <td>0.0</td>\n      <td>0.0</td>\n      <td>0.0</td>\n      <td>0.0</td>\n      <td>0.0</td>\n      <td>1.0</td>\n      <td>0.0</td>\n      <td>0.0</td>\n    </tr>\n    <tr>\n      <th>4406</th>\n      <td>0.0</td>\n      <td>0.0</td>\n      <td>0.0</td>\n      <td>1.0</td>\n      <td>0.0</td>\n      <td>0.0</td>\n      <td>0.0</td>\n      <td>1.0</td>\n      <td>0.0</td>\n      <td>0.0</td>\n      <td>0.0</td>\n      <td>1.0</td>\n      <td>0.0</td>\n      <td>0.0</td>\n      <td>0.0</td>\n      <td>0.0</td>\n      <td>0.0</td>\n      <td>0.0</td>\n    </tr>\n    <tr>\n      <th>4407</th>\n      <td>0.0</td>\n      <td>1.0</td>\n      <td>0.0</td>\n      <td>0.0</td>\n      <td>0.0</td>\n      <td>0.0</td>\n      <td>0.0</td>\n      <td>1.0</td>\n      <td>0.0</td>\n      <td>0.0</td>\n      <td>0.0</td>\n      <td>0.0</td>\n      <td>0.0</td>\n      <td>0.0</td>\n      <td>0.0</td>\n      <td>0.0</td>\n      <td>1.0</td>\n      <td>0.0</td>\n    </tr>\n    <tr>\n      <th>4408</th>\n      <td>0.0</td>\n      <td>0.0</td>\n      <td>0.0</td>\n      <td>1.0</td>\n      <td>0.0</td>\n      <td>0.0</td>\n      <td>0.0</td>\n      <td>0.0</td>\n      <td>1.0</td>\n      <td>0.0</td>\n      <td>0.0</td>\n      <td>1.0</td>\n      <td>0.0</td>\n      <td>0.0</td>\n      <td>0.0</td>\n      <td>0.0</td>\n      <td>0.0</td>\n      <td>0.0</td>\n    </tr>\n    <tr>\n      <th>4409</th>\n      <td>0.0</td>\n      <td>0.0</td>\n      <td>0.0</td>\n      <td>1.0</td>\n      <td>0.0</td>\n      <td>0.0</td>\n      <td>0.0</td>\n      <td>1.0</td>\n      <td>0.0</td>\n      <td>0.0</td>\n      <td>0.0</td>\n      <td>1.0</td>\n      <td>0.0</td>\n      <td>0.0</td>\n      <td>0.0</td>\n      <td>0.0</td>\n      <td>0.0</td>\n      <td>0.0</td>\n    </tr>\n  </tbody>\n</table>\n<p>4410 rows × 18 columns</p>\n</div>"
     },
     "execution_count": 27,
     "metadata": {},
     "output_type": "execute_result"
    }
   ],
   "source": [
    "import numpy as np\n",
    "from sklearn.preprocessing import OneHotEncoder\n",
    "\n",
    "one_hot_encoder = OneHotEncoder()\n",
    "encoded_datas_array = one_hot_encoder.fit_transform(datas[[\n",
    "    \"EducationField\", \"Department\", \"JobRole\",]]).toarray()\n",
    "encoded_datas_labels = one_hot_encoder.categories_\n",
    "encoded_datas_labels = np.hstack([\n",
    "    [\"EducationField_\" + x for x in encoded_datas_labels[0]],\n",
    "    [\"Department_\" + x for x in encoded_datas_labels[1]],\n",
    "    [\"JobRole_\" + x for x in encoded_datas_labels[2]]\n",
    "    ])\n",
    "encoded_data = pd.DataFrame(encoded_datas_array, columns=encoded_datas_labels)\n",
    "#encoded_data[\"EmployeeID\"] = datas[\"EmployeeID\"]\n",
    "\n",
    "encoded_data\n",
    "\n"
   ]
  },
  {
   "cell_type": "code",
   "outputs": [
    {
     "data": {
      "text/plain": "      EmployeeID  EnvironmentSatisfaction  JobSatisfaction  WorkLifeBalance  \\\n0              1                      3.0              4.0              2.0   \n1              2                      3.0              2.0              4.0   \n2              3                      2.0              2.0              1.0   \n3              4                      4.0              4.0              3.0   \n4              5                      4.0              1.0              3.0   \n...          ...                      ...              ...              ...   \n4405        4406                      4.0              1.0              3.0   \n4406        4407                      4.0              4.0              3.0   \n4407        4408                      1.0              3.0              3.0   \n4408        4409                      4.0              1.0              3.0   \n4409        4410                      1.0              3.0              NaN   \n\n      Attrition  BusinessTravel              Department  DistanceFromHome  \\\n0             0               2                   Sales                 6   \n1             1               3  Research & Development                10   \n2             0               3  Research & Development                17   \n3             0               1  Research & Development                 2   \n4             0               2  Research & Development                10   \n...         ...             ...                     ...               ...   \n4405          0               2  Research & Development                 5   \n4406          0               2  Research & Development                 2   \n4407          0               2  Research & Development                25   \n4408          0               2                   Sales                18   \n4409          0               2  Research & Development                28   \n\n      Education EducationField  ...  PercentSalaryHike StockOptionLevel  \\\n0             2  Life Sciences  ...                 11                0   \n1             1  Life Sciences  ...                 23                1   \n2             4          Other  ...                 15                3   \n3             5  Life Sciences  ...                 11                3   \n4             1        Medical  ...                 12                2   \n...         ...            ...  ...                ...              ...   \n4405          4        Medical  ...                 17                1   \n4406          4        Medical  ...                 15                0   \n4407          2  Life Sciences  ...                 20                0   \n4408          2        Medical  ...                 14                1   \n4409          3        Medical  ...                 12                0   \n\n      TotalWorkingYears  TrainingTimesLastYear  YearsAtCompany  \\\n0                   1.0                      6               1   \n1                   6.0                      3               5   \n2                   5.0                      2               5   \n3                  13.0                      5               8   \n4                   9.0                      2               6   \n...                 ...                    ...             ...   \n4405               10.0                      5               3   \n4406               10.0                      2               3   \n4407                5.0                      4               4   \n4408               10.0                      2               9   \n4409                NaN                      6              21   \n\n      YearsSinceLastPromotion  YearsWithCurrManager  JobInvolvement  \\\n0                           0                     0               3   \n1                           1                     4               2   \n2                           0                     3               3   \n3                           7                     5               2   \n4                           0                     4               3   \n...                       ...                   ...             ...   \n4405                        0                     2               3   \n4406                        0                     2               2   \n4407                        1                     2               3   \n4408                        7                     8               2   \n4409                        3                     9               4   \n\n      PerformanceRating  MeanWorkingHours  \n0                     3          6.554356  \n1                     4          6.979604  \n2                     3          6.502698  \n3                     3          6.477067  \n4                     3          7.515375  \n...                 ...               ...  \n4405                  3          7.934534  \n4406                  3          5.626061  \n4407                  4          6.820812  \n4408                  3          8.765193  \n4409                  3          6.212398  \n\n[4410 rows x 24 columns]",
      "text/html": "<div>\n<style scoped>\n    .dataframe tbody tr th:only-of-type {\n        vertical-align: middle;\n    }\n\n    .dataframe tbody tr th {\n        vertical-align: top;\n    }\n\n    .dataframe thead th {\n        text-align: right;\n    }\n</style>\n<table border=\"1\" class=\"dataframe\">\n  <thead>\n    <tr style=\"text-align: right;\">\n      <th></th>\n      <th>EmployeeID</th>\n      <th>EnvironmentSatisfaction</th>\n      <th>JobSatisfaction</th>\n      <th>WorkLifeBalance</th>\n      <th>Attrition</th>\n      <th>BusinessTravel</th>\n      <th>Department</th>\n      <th>DistanceFromHome</th>\n      <th>Education</th>\n      <th>EducationField</th>\n      <th>...</th>\n      <th>PercentSalaryHike</th>\n      <th>StockOptionLevel</th>\n      <th>TotalWorkingYears</th>\n      <th>TrainingTimesLastYear</th>\n      <th>YearsAtCompany</th>\n      <th>YearsSinceLastPromotion</th>\n      <th>YearsWithCurrManager</th>\n      <th>JobInvolvement</th>\n      <th>PerformanceRating</th>\n      <th>MeanWorkingHours</th>\n    </tr>\n  </thead>\n  <tbody>\n    <tr>\n      <th>0</th>\n      <td>1</td>\n      <td>3.0</td>\n      <td>4.0</td>\n      <td>2.0</td>\n      <td>0</td>\n      <td>2</td>\n      <td>Sales</td>\n      <td>6</td>\n      <td>2</td>\n      <td>Life Sciences</td>\n      <td>...</td>\n      <td>11</td>\n      <td>0</td>\n      <td>1.0</td>\n      <td>6</td>\n      <td>1</td>\n      <td>0</td>\n      <td>0</td>\n      <td>3</td>\n      <td>3</td>\n      <td>6.554356</td>\n    </tr>\n    <tr>\n      <th>1</th>\n      <td>2</td>\n      <td>3.0</td>\n      <td>2.0</td>\n      <td>4.0</td>\n      <td>1</td>\n      <td>3</td>\n      <td>Research &amp; Development</td>\n      <td>10</td>\n      <td>1</td>\n      <td>Life Sciences</td>\n      <td>...</td>\n      <td>23</td>\n      <td>1</td>\n      <td>6.0</td>\n      <td>3</td>\n      <td>5</td>\n      <td>1</td>\n      <td>4</td>\n      <td>2</td>\n      <td>4</td>\n      <td>6.979604</td>\n    </tr>\n    <tr>\n      <th>2</th>\n      <td>3</td>\n      <td>2.0</td>\n      <td>2.0</td>\n      <td>1.0</td>\n      <td>0</td>\n      <td>3</td>\n      <td>Research &amp; Development</td>\n      <td>17</td>\n      <td>4</td>\n      <td>Other</td>\n      <td>...</td>\n      <td>15</td>\n      <td>3</td>\n      <td>5.0</td>\n      <td>2</td>\n      <td>5</td>\n      <td>0</td>\n      <td>3</td>\n      <td>3</td>\n      <td>3</td>\n      <td>6.502698</td>\n    </tr>\n    <tr>\n      <th>3</th>\n      <td>4</td>\n      <td>4.0</td>\n      <td>4.0</td>\n      <td>3.0</td>\n      <td>0</td>\n      <td>1</td>\n      <td>Research &amp; Development</td>\n      <td>2</td>\n      <td>5</td>\n      <td>Life Sciences</td>\n      <td>...</td>\n      <td>11</td>\n      <td>3</td>\n      <td>13.0</td>\n      <td>5</td>\n      <td>8</td>\n      <td>7</td>\n      <td>5</td>\n      <td>2</td>\n      <td>3</td>\n      <td>6.477067</td>\n    </tr>\n    <tr>\n      <th>4</th>\n      <td>5</td>\n      <td>4.0</td>\n      <td>1.0</td>\n      <td>3.0</td>\n      <td>0</td>\n      <td>2</td>\n      <td>Research &amp; Development</td>\n      <td>10</td>\n      <td>1</td>\n      <td>Medical</td>\n      <td>...</td>\n      <td>12</td>\n      <td>2</td>\n      <td>9.0</td>\n      <td>2</td>\n      <td>6</td>\n      <td>0</td>\n      <td>4</td>\n      <td>3</td>\n      <td>3</td>\n      <td>7.515375</td>\n    </tr>\n    <tr>\n      <th>...</th>\n      <td>...</td>\n      <td>...</td>\n      <td>...</td>\n      <td>...</td>\n      <td>...</td>\n      <td>...</td>\n      <td>...</td>\n      <td>...</td>\n      <td>...</td>\n      <td>...</td>\n      <td>...</td>\n      <td>...</td>\n      <td>...</td>\n      <td>...</td>\n      <td>...</td>\n      <td>...</td>\n      <td>...</td>\n      <td>...</td>\n      <td>...</td>\n      <td>...</td>\n      <td>...</td>\n    </tr>\n    <tr>\n      <th>4405</th>\n      <td>4406</td>\n      <td>4.0</td>\n      <td>1.0</td>\n      <td>3.0</td>\n      <td>0</td>\n      <td>2</td>\n      <td>Research &amp; Development</td>\n      <td>5</td>\n      <td>4</td>\n      <td>Medical</td>\n      <td>...</td>\n      <td>17</td>\n      <td>1</td>\n      <td>10.0</td>\n      <td>5</td>\n      <td>3</td>\n      <td>0</td>\n      <td>2</td>\n      <td>3</td>\n      <td>3</td>\n      <td>7.934534</td>\n    </tr>\n    <tr>\n      <th>4406</th>\n      <td>4407</td>\n      <td>4.0</td>\n      <td>4.0</td>\n      <td>3.0</td>\n      <td>0</td>\n      <td>2</td>\n      <td>Research &amp; Development</td>\n      <td>2</td>\n      <td>4</td>\n      <td>Medical</td>\n      <td>...</td>\n      <td>15</td>\n      <td>0</td>\n      <td>10.0</td>\n      <td>2</td>\n      <td>3</td>\n      <td>0</td>\n      <td>2</td>\n      <td>2</td>\n      <td>3</td>\n      <td>5.626061</td>\n    </tr>\n    <tr>\n      <th>4407</th>\n      <td>4408</td>\n      <td>1.0</td>\n      <td>3.0</td>\n      <td>3.0</td>\n      <td>0</td>\n      <td>2</td>\n      <td>Research &amp; Development</td>\n      <td>25</td>\n      <td>2</td>\n      <td>Life Sciences</td>\n      <td>...</td>\n      <td>20</td>\n      <td>0</td>\n      <td>5.0</td>\n      <td>4</td>\n      <td>4</td>\n      <td>1</td>\n      <td>2</td>\n      <td>3</td>\n      <td>4</td>\n      <td>6.820812</td>\n    </tr>\n    <tr>\n      <th>4408</th>\n      <td>4409</td>\n      <td>4.0</td>\n      <td>1.0</td>\n      <td>3.0</td>\n      <td>0</td>\n      <td>2</td>\n      <td>Sales</td>\n      <td>18</td>\n      <td>2</td>\n      <td>Medical</td>\n      <td>...</td>\n      <td>14</td>\n      <td>1</td>\n      <td>10.0</td>\n      <td>2</td>\n      <td>9</td>\n      <td>7</td>\n      <td>8</td>\n      <td>2</td>\n      <td>3</td>\n      <td>8.765193</td>\n    </tr>\n    <tr>\n      <th>4409</th>\n      <td>4410</td>\n      <td>1.0</td>\n      <td>3.0</td>\n      <td>NaN</td>\n      <td>0</td>\n      <td>2</td>\n      <td>Research &amp; Development</td>\n      <td>28</td>\n      <td>3</td>\n      <td>Medical</td>\n      <td>...</td>\n      <td>12</td>\n      <td>0</td>\n      <td>NaN</td>\n      <td>6</td>\n      <td>21</td>\n      <td>3</td>\n      <td>9</td>\n      <td>4</td>\n      <td>3</td>\n      <td>6.212398</td>\n    </tr>\n  </tbody>\n</table>\n<p>4410 rows × 24 columns</p>\n</div>"
     },
     "execution_count": 28,
     "metadata": {},
     "output_type": "execute_result"
    }
   ],
   "source": [
    "datas"
   ],
   "metadata": {
    "collapsed": false,
    "ExecuteTime": {
     "end_time": "2024-02-05T14:11:10.202694900Z",
     "start_time": "2024-02-05T14:11:10.169807900Z"
    }
   },
   "execution_count": 28
  },
  {
   "cell_type": "code",
   "outputs": [
    {
     "data": {
      "text/plain": "      EmployeeID  EnvironmentSatisfaction  JobSatisfaction  WorkLifeBalance  \\\n0              1                      3.0              4.0              2.0   \n1              2                      3.0              2.0              4.0   \n2              3                      2.0              2.0              1.0   \n3              4                      4.0              4.0              3.0   \n4              5                      4.0              1.0              3.0   \n...          ...                      ...              ...              ...   \n4405        4406                      4.0              1.0              3.0   \n4406        4407                      4.0              4.0              3.0   \n4407        4408                      1.0              3.0              3.0   \n4408        4409                      4.0              1.0              3.0   \n4409        4410                      1.0              3.0              NaN   \n\n      Attrition  BusinessTravel  DistanceFromHome  Education  JobLevel  \\\n0             0               2                 6          2         1   \n1             1               3                10          1         1   \n2             0               3                17          4         4   \n3             0               1                 2          5         3   \n4             0               2                10          1         1   \n...         ...             ...               ...        ...       ...   \n4405          0               2                 5          4         1   \n4406          0               2                 2          4         1   \n4407          0               2                25          2         2   \n4408          0               2                18          2         1   \n4409          0               2                28          3         2   \n\n      MonthlyIncome  ...  PercentSalaryHike  StockOptionLevel  \\\n0            131160  ...                 11                 0   \n1             41890  ...                 23                 1   \n2            193280  ...                 15                 3   \n3             83210  ...                 11                 3   \n4             23420  ...                 12                 2   \n...             ...  ...                ...               ...   \n4405          60290  ...                 17                 1   \n4406          26790  ...                 15                 0   \n4407          37020  ...                 20                 0   \n4408          23980  ...                 14                 1   \n4409          54680  ...                 12                 0   \n\n      TotalWorkingYears  TrainingTimesLastYear  YearsAtCompany  \\\n0                   1.0                      6               1   \n1                   6.0                      3               5   \n2                   5.0                      2               5   \n3                  13.0                      5               8   \n4                   9.0                      2               6   \n...                 ...                    ...             ...   \n4405               10.0                      5               3   \n4406               10.0                      2               3   \n4407                5.0                      4               4   \n4408               10.0                      2               9   \n4409                NaN                      6              21   \n\n      YearsSinceLastPromotion  YearsWithCurrManager  JobInvolvement  \\\n0                           0                     0               3   \n1                           1                     4               2   \n2                           0                     3               3   \n3                           7                     5               2   \n4                           0                     4               3   \n...                       ...                   ...             ...   \n4405                        0                     2               3   \n4406                        0                     2               2   \n4407                        1                     2               3   \n4408                        7                     8               2   \n4409                        3                     9               4   \n\n      PerformanceRating  MeanWorkingHours  \n0                     3          6.554356  \n1                     4          6.979604  \n2                     3          6.502698  \n3                     3          6.477067  \n4                     3          7.515375  \n...                 ...               ...  \n4405                  3          7.934534  \n4406                  3          5.626061  \n4407                  4          6.820812  \n4408                  3          8.765193  \n4409                  3          6.212398  \n\n[4410 rows x 21 columns]",
      "text/html": "<div>\n<style scoped>\n    .dataframe tbody tr th:only-of-type {\n        vertical-align: middle;\n    }\n\n    .dataframe tbody tr th {\n        vertical-align: top;\n    }\n\n    .dataframe thead th {\n        text-align: right;\n    }\n</style>\n<table border=\"1\" class=\"dataframe\">\n  <thead>\n    <tr style=\"text-align: right;\">\n      <th></th>\n      <th>EmployeeID</th>\n      <th>EnvironmentSatisfaction</th>\n      <th>JobSatisfaction</th>\n      <th>WorkLifeBalance</th>\n      <th>Attrition</th>\n      <th>BusinessTravel</th>\n      <th>DistanceFromHome</th>\n      <th>Education</th>\n      <th>JobLevel</th>\n      <th>MonthlyIncome</th>\n      <th>...</th>\n      <th>PercentSalaryHike</th>\n      <th>StockOptionLevel</th>\n      <th>TotalWorkingYears</th>\n      <th>TrainingTimesLastYear</th>\n      <th>YearsAtCompany</th>\n      <th>YearsSinceLastPromotion</th>\n      <th>YearsWithCurrManager</th>\n      <th>JobInvolvement</th>\n      <th>PerformanceRating</th>\n      <th>MeanWorkingHours</th>\n    </tr>\n  </thead>\n  <tbody>\n    <tr>\n      <th>0</th>\n      <td>1</td>\n      <td>3.0</td>\n      <td>4.0</td>\n      <td>2.0</td>\n      <td>0</td>\n      <td>2</td>\n      <td>6</td>\n      <td>2</td>\n      <td>1</td>\n      <td>131160</td>\n      <td>...</td>\n      <td>11</td>\n      <td>0</td>\n      <td>1.0</td>\n      <td>6</td>\n      <td>1</td>\n      <td>0</td>\n      <td>0</td>\n      <td>3</td>\n      <td>3</td>\n      <td>6.554356</td>\n    </tr>\n    <tr>\n      <th>1</th>\n      <td>2</td>\n      <td>3.0</td>\n      <td>2.0</td>\n      <td>4.0</td>\n      <td>1</td>\n      <td>3</td>\n      <td>10</td>\n      <td>1</td>\n      <td>1</td>\n      <td>41890</td>\n      <td>...</td>\n      <td>23</td>\n      <td>1</td>\n      <td>6.0</td>\n      <td>3</td>\n      <td>5</td>\n      <td>1</td>\n      <td>4</td>\n      <td>2</td>\n      <td>4</td>\n      <td>6.979604</td>\n    </tr>\n    <tr>\n      <th>2</th>\n      <td>3</td>\n      <td>2.0</td>\n      <td>2.0</td>\n      <td>1.0</td>\n      <td>0</td>\n      <td>3</td>\n      <td>17</td>\n      <td>4</td>\n      <td>4</td>\n      <td>193280</td>\n      <td>...</td>\n      <td>15</td>\n      <td>3</td>\n      <td>5.0</td>\n      <td>2</td>\n      <td>5</td>\n      <td>0</td>\n      <td>3</td>\n      <td>3</td>\n      <td>3</td>\n      <td>6.502698</td>\n    </tr>\n    <tr>\n      <th>3</th>\n      <td>4</td>\n      <td>4.0</td>\n      <td>4.0</td>\n      <td>3.0</td>\n      <td>0</td>\n      <td>1</td>\n      <td>2</td>\n      <td>5</td>\n      <td>3</td>\n      <td>83210</td>\n      <td>...</td>\n      <td>11</td>\n      <td>3</td>\n      <td>13.0</td>\n      <td>5</td>\n      <td>8</td>\n      <td>7</td>\n      <td>5</td>\n      <td>2</td>\n      <td>3</td>\n      <td>6.477067</td>\n    </tr>\n    <tr>\n      <th>4</th>\n      <td>5</td>\n      <td>4.0</td>\n      <td>1.0</td>\n      <td>3.0</td>\n      <td>0</td>\n      <td>2</td>\n      <td>10</td>\n      <td>1</td>\n      <td>1</td>\n      <td>23420</td>\n      <td>...</td>\n      <td>12</td>\n      <td>2</td>\n      <td>9.0</td>\n      <td>2</td>\n      <td>6</td>\n      <td>0</td>\n      <td>4</td>\n      <td>3</td>\n      <td>3</td>\n      <td>7.515375</td>\n    </tr>\n    <tr>\n      <th>...</th>\n      <td>...</td>\n      <td>...</td>\n      <td>...</td>\n      <td>...</td>\n      <td>...</td>\n      <td>...</td>\n      <td>...</td>\n      <td>...</td>\n      <td>...</td>\n      <td>...</td>\n      <td>...</td>\n      <td>...</td>\n      <td>...</td>\n      <td>...</td>\n      <td>...</td>\n      <td>...</td>\n      <td>...</td>\n      <td>...</td>\n      <td>...</td>\n      <td>...</td>\n      <td>...</td>\n    </tr>\n    <tr>\n      <th>4405</th>\n      <td>4406</td>\n      <td>4.0</td>\n      <td>1.0</td>\n      <td>3.0</td>\n      <td>0</td>\n      <td>2</td>\n      <td>5</td>\n      <td>4</td>\n      <td>1</td>\n      <td>60290</td>\n      <td>...</td>\n      <td>17</td>\n      <td>1</td>\n      <td>10.0</td>\n      <td>5</td>\n      <td>3</td>\n      <td>0</td>\n      <td>2</td>\n      <td>3</td>\n      <td>3</td>\n      <td>7.934534</td>\n    </tr>\n    <tr>\n      <th>4406</th>\n      <td>4407</td>\n      <td>4.0</td>\n      <td>4.0</td>\n      <td>3.0</td>\n      <td>0</td>\n      <td>2</td>\n      <td>2</td>\n      <td>4</td>\n      <td>1</td>\n      <td>26790</td>\n      <td>...</td>\n      <td>15</td>\n      <td>0</td>\n      <td>10.0</td>\n      <td>2</td>\n      <td>3</td>\n      <td>0</td>\n      <td>2</td>\n      <td>2</td>\n      <td>3</td>\n      <td>5.626061</td>\n    </tr>\n    <tr>\n      <th>4407</th>\n      <td>4408</td>\n      <td>1.0</td>\n      <td>3.0</td>\n      <td>3.0</td>\n      <td>0</td>\n      <td>2</td>\n      <td>25</td>\n      <td>2</td>\n      <td>2</td>\n      <td>37020</td>\n      <td>...</td>\n      <td>20</td>\n      <td>0</td>\n      <td>5.0</td>\n      <td>4</td>\n      <td>4</td>\n      <td>1</td>\n      <td>2</td>\n      <td>3</td>\n      <td>4</td>\n      <td>6.820812</td>\n    </tr>\n    <tr>\n      <th>4408</th>\n      <td>4409</td>\n      <td>4.0</td>\n      <td>1.0</td>\n      <td>3.0</td>\n      <td>0</td>\n      <td>2</td>\n      <td>18</td>\n      <td>2</td>\n      <td>1</td>\n      <td>23980</td>\n      <td>...</td>\n      <td>14</td>\n      <td>1</td>\n      <td>10.0</td>\n      <td>2</td>\n      <td>9</td>\n      <td>7</td>\n      <td>8</td>\n      <td>2</td>\n      <td>3</td>\n      <td>8.765193</td>\n    </tr>\n    <tr>\n      <th>4409</th>\n      <td>4410</td>\n      <td>1.0</td>\n      <td>3.0</td>\n      <td>NaN</td>\n      <td>0</td>\n      <td>2</td>\n      <td>28</td>\n      <td>3</td>\n      <td>2</td>\n      <td>54680</td>\n      <td>...</td>\n      <td>12</td>\n      <td>0</td>\n      <td>NaN</td>\n      <td>6</td>\n      <td>21</td>\n      <td>3</td>\n      <td>9</td>\n      <td>4</td>\n      <td>3</td>\n      <td>6.212398</td>\n    </tr>\n  </tbody>\n</table>\n<p>4410 rows × 21 columns</p>\n</div>"
     },
     "execution_count": 31,
     "metadata": {},
     "output_type": "execute_result"
    }
   ],
   "source": [
    "\n",
    "datas.drop(['EducationField', 'Department', \"JobRole\"], axis=1, inplace=True, errors=\"ignore\")\n",
    "datas"
   ],
   "metadata": {
    "collapsed": false,
    "ExecuteTime": {
     "end_time": "2024-02-05T14:11:37.870639700Z",
     "start_time": "2024-02-05T14:11:37.853054500Z"
    }
   },
   "execution_count": 31
  },
  {
   "cell_type": "code",
   "execution_count": 32,
   "metadata": {
    "ExecuteTime": {
     "end_time": "2024-02-05T14:11:43.837309900Z",
     "start_time": "2024-02-05T14:11:43.823705400Z"
    }
   },
   "outputs": [
    {
     "data": {
      "text/plain": "      EmployeeID  EnvironmentSatisfaction  JobSatisfaction  WorkLifeBalance  \\\n0              1                      3.0              4.0              2.0   \n1              2                      3.0              2.0              4.0   \n2              3                      2.0              2.0              1.0   \n3              4                      4.0              4.0              3.0   \n4              5                      4.0              1.0              3.0   \n...          ...                      ...              ...              ...   \n4405        4406                      4.0              1.0              3.0   \n4406        4407                      4.0              4.0              3.0   \n4407        4408                      1.0              3.0              3.0   \n4408        4409                      4.0              1.0              3.0   \n4409        4410                      1.0              3.0              NaN   \n\n      Attrition  BusinessTravel  DistanceFromHome  Education  JobLevel  \\\n0             0               2                 6          2         1   \n1             1               3                10          1         1   \n2             0               3                17          4         4   \n3             0               1                 2          5         3   \n4             0               2                10          1         1   \n...         ...             ...               ...        ...       ...   \n4405          0               2                 5          4         1   \n4406          0               2                 2          4         1   \n4407          0               2                25          2         2   \n4408          0               2                18          2         1   \n4409          0               2                28          3         2   \n\n      MonthlyIncome  ...  PercentSalaryHike  StockOptionLevel  \\\n0            131160  ...                 11                 0   \n1             41890  ...                 23                 1   \n2            193280  ...                 15                 3   \n3             83210  ...                 11                 3   \n4             23420  ...                 12                 2   \n...             ...  ...                ...               ...   \n4405          60290  ...                 17                 1   \n4406          26790  ...                 15                 0   \n4407          37020  ...                 20                 0   \n4408          23980  ...                 14                 1   \n4409          54680  ...                 12                 0   \n\n      TotalWorkingYears  TrainingTimesLastYear  YearsAtCompany  \\\n0                   1.0                      6               1   \n1                   6.0                      3               5   \n2                   5.0                      2               5   \n3                  13.0                      5               8   \n4                   9.0                      2               6   \n...                 ...                    ...             ...   \n4405               10.0                      5               3   \n4406               10.0                      2               3   \n4407                5.0                      4               4   \n4408               10.0                      2               9   \n4409                NaN                      6              21   \n\n      YearsSinceLastPromotion  YearsWithCurrManager  JobInvolvement  \\\n0                           0                     0               3   \n1                           1                     4               2   \n2                           0                     3               3   \n3                           7                     5               2   \n4                           0                     4               3   \n...                       ...                   ...             ...   \n4405                        0                     2               3   \n4406                        0                     2               2   \n4407                        1                     2               3   \n4408                        7                     8               2   \n4409                        3                     9               4   \n\n      PerformanceRating  MeanWorkingHours  \n0                     3          6.554356  \n1                     4          6.979604  \n2                     3          6.502698  \n3                     3          6.477067  \n4                     3          7.515375  \n...                 ...               ...  \n4405                  3          7.934534  \n4406                  3          5.626061  \n4407                  4          6.820812  \n4408                  3          8.765193  \n4409                  3          6.212398  \n\n[4410 rows x 21 columns]",
      "text/html": "<div>\n<style scoped>\n    .dataframe tbody tr th:only-of-type {\n        vertical-align: middle;\n    }\n\n    .dataframe tbody tr th {\n        vertical-align: top;\n    }\n\n    .dataframe thead th {\n        text-align: right;\n    }\n</style>\n<table border=\"1\" class=\"dataframe\">\n  <thead>\n    <tr style=\"text-align: right;\">\n      <th></th>\n      <th>EmployeeID</th>\n      <th>EnvironmentSatisfaction</th>\n      <th>JobSatisfaction</th>\n      <th>WorkLifeBalance</th>\n      <th>Attrition</th>\n      <th>BusinessTravel</th>\n      <th>DistanceFromHome</th>\n      <th>Education</th>\n      <th>JobLevel</th>\n      <th>MonthlyIncome</th>\n      <th>...</th>\n      <th>PercentSalaryHike</th>\n      <th>StockOptionLevel</th>\n      <th>TotalWorkingYears</th>\n      <th>TrainingTimesLastYear</th>\n      <th>YearsAtCompany</th>\n      <th>YearsSinceLastPromotion</th>\n      <th>YearsWithCurrManager</th>\n      <th>JobInvolvement</th>\n      <th>PerformanceRating</th>\n      <th>MeanWorkingHours</th>\n    </tr>\n  </thead>\n  <tbody>\n    <tr>\n      <th>0</th>\n      <td>1</td>\n      <td>3.0</td>\n      <td>4.0</td>\n      <td>2.0</td>\n      <td>0</td>\n      <td>2</td>\n      <td>6</td>\n      <td>2</td>\n      <td>1</td>\n      <td>131160</td>\n      <td>...</td>\n      <td>11</td>\n      <td>0</td>\n      <td>1.0</td>\n      <td>6</td>\n      <td>1</td>\n      <td>0</td>\n      <td>0</td>\n      <td>3</td>\n      <td>3</td>\n      <td>6.554356</td>\n    </tr>\n    <tr>\n      <th>1</th>\n      <td>2</td>\n      <td>3.0</td>\n      <td>2.0</td>\n      <td>4.0</td>\n      <td>1</td>\n      <td>3</td>\n      <td>10</td>\n      <td>1</td>\n      <td>1</td>\n      <td>41890</td>\n      <td>...</td>\n      <td>23</td>\n      <td>1</td>\n      <td>6.0</td>\n      <td>3</td>\n      <td>5</td>\n      <td>1</td>\n      <td>4</td>\n      <td>2</td>\n      <td>4</td>\n      <td>6.979604</td>\n    </tr>\n    <tr>\n      <th>2</th>\n      <td>3</td>\n      <td>2.0</td>\n      <td>2.0</td>\n      <td>1.0</td>\n      <td>0</td>\n      <td>3</td>\n      <td>17</td>\n      <td>4</td>\n      <td>4</td>\n      <td>193280</td>\n      <td>...</td>\n      <td>15</td>\n      <td>3</td>\n      <td>5.0</td>\n      <td>2</td>\n      <td>5</td>\n      <td>0</td>\n      <td>3</td>\n      <td>3</td>\n      <td>3</td>\n      <td>6.502698</td>\n    </tr>\n    <tr>\n      <th>3</th>\n      <td>4</td>\n      <td>4.0</td>\n      <td>4.0</td>\n      <td>3.0</td>\n      <td>0</td>\n      <td>1</td>\n      <td>2</td>\n      <td>5</td>\n      <td>3</td>\n      <td>83210</td>\n      <td>...</td>\n      <td>11</td>\n      <td>3</td>\n      <td>13.0</td>\n      <td>5</td>\n      <td>8</td>\n      <td>7</td>\n      <td>5</td>\n      <td>2</td>\n      <td>3</td>\n      <td>6.477067</td>\n    </tr>\n    <tr>\n      <th>4</th>\n      <td>5</td>\n      <td>4.0</td>\n      <td>1.0</td>\n      <td>3.0</td>\n      <td>0</td>\n      <td>2</td>\n      <td>10</td>\n      <td>1</td>\n      <td>1</td>\n      <td>23420</td>\n      <td>...</td>\n      <td>12</td>\n      <td>2</td>\n      <td>9.0</td>\n      <td>2</td>\n      <td>6</td>\n      <td>0</td>\n      <td>4</td>\n      <td>3</td>\n      <td>3</td>\n      <td>7.515375</td>\n    </tr>\n    <tr>\n      <th>...</th>\n      <td>...</td>\n      <td>...</td>\n      <td>...</td>\n      <td>...</td>\n      <td>...</td>\n      <td>...</td>\n      <td>...</td>\n      <td>...</td>\n      <td>...</td>\n      <td>...</td>\n      <td>...</td>\n      <td>...</td>\n      <td>...</td>\n      <td>...</td>\n      <td>...</td>\n      <td>...</td>\n      <td>...</td>\n      <td>...</td>\n      <td>...</td>\n      <td>...</td>\n      <td>...</td>\n    </tr>\n    <tr>\n      <th>4405</th>\n      <td>4406</td>\n      <td>4.0</td>\n      <td>1.0</td>\n      <td>3.0</td>\n      <td>0</td>\n      <td>2</td>\n      <td>5</td>\n      <td>4</td>\n      <td>1</td>\n      <td>60290</td>\n      <td>...</td>\n      <td>17</td>\n      <td>1</td>\n      <td>10.0</td>\n      <td>5</td>\n      <td>3</td>\n      <td>0</td>\n      <td>2</td>\n      <td>3</td>\n      <td>3</td>\n      <td>7.934534</td>\n    </tr>\n    <tr>\n      <th>4406</th>\n      <td>4407</td>\n      <td>4.0</td>\n      <td>4.0</td>\n      <td>3.0</td>\n      <td>0</td>\n      <td>2</td>\n      <td>2</td>\n      <td>4</td>\n      <td>1</td>\n      <td>26790</td>\n      <td>...</td>\n      <td>15</td>\n      <td>0</td>\n      <td>10.0</td>\n      <td>2</td>\n      <td>3</td>\n      <td>0</td>\n      <td>2</td>\n      <td>2</td>\n      <td>3</td>\n      <td>5.626061</td>\n    </tr>\n    <tr>\n      <th>4407</th>\n      <td>4408</td>\n      <td>1.0</td>\n      <td>3.0</td>\n      <td>3.0</td>\n      <td>0</td>\n      <td>2</td>\n      <td>25</td>\n      <td>2</td>\n      <td>2</td>\n      <td>37020</td>\n      <td>...</td>\n      <td>20</td>\n      <td>0</td>\n      <td>5.0</td>\n      <td>4</td>\n      <td>4</td>\n      <td>1</td>\n      <td>2</td>\n      <td>3</td>\n      <td>4</td>\n      <td>6.820812</td>\n    </tr>\n    <tr>\n      <th>4408</th>\n      <td>4409</td>\n      <td>4.0</td>\n      <td>1.0</td>\n      <td>3.0</td>\n      <td>0</td>\n      <td>2</td>\n      <td>18</td>\n      <td>2</td>\n      <td>1</td>\n      <td>23980</td>\n      <td>...</td>\n      <td>14</td>\n      <td>1</td>\n      <td>10.0</td>\n      <td>2</td>\n      <td>9</td>\n      <td>7</td>\n      <td>8</td>\n      <td>2</td>\n      <td>3</td>\n      <td>8.765193</td>\n    </tr>\n    <tr>\n      <th>4409</th>\n      <td>4410</td>\n      <td>1.0</td>\n      <td>3.0</td>\n      <td>NaN</td>\n      <td>0</td>\n      <td>2</td>\n      <td>28</td>\n      <td>3</td>\n      <td>2</td>\n      <td>54680</td>\n      <td>...</td>\n      <td>12</td>\n      <td>0</td>\n      <td>NaN</td>\n      <td>6</td>\n      <td>21</td>\n      <td>3</td>\n      <td>9</td>\n      <td>4</td>\n      <td>3</td>\n      <td>6.212398</td>\n    </tr>\n  </tbody>\n</table>\n<p>4410 rows × 21 columns</p>\n</div>"
     },
     "execution_count": 32,
     "metadata": {},
     "output_type": "execute_result"
    }
   ],
   "source": [
    "datas"
   ]
  },
  {
   "cell_type": "markdown",
   "source": [
    "Remove empty line "
   ],
   "metadata": {
    "collapsed": false
   }
  },
  {
   "cell_type": "code",
   "outputs": [],
   "source": [
    "datas = datas.dropna(subset=datas.columns)\n",
    "datas.info()"
   ],
   "metadata": {
    "collapsed": false
   }
  },
  {
   "cell_type": "markdown",
   "source": [],
   "metadata": {
    "collapsed": false
   }
  }
 ],
 "metadata": {
  "kernelspec": {
   "display_name": "Python 3",
   "language": "python",
   "name": "python3"
  },
  "language_info": {
   "codemirror_mode": {
    "name": "ipython",
    "version": 3
   },
   "file_extension": ".py",
   "mimetype": "text/x-python",
   "name": "python",
   "nbconvert_exporter": "python",
   "pygments_lexer": "ipython3",
   "version": "3.10.12"
  }
 },
 "nbformat": 4,
 "nbformat_minor": 2
}
